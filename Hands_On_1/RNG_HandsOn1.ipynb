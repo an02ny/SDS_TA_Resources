{
 "cells": [
  {
   "cell_type": "markdown",
   "id": "19b6faec-9145-46b3-9d02-ac342558a24c",
   "metadata": {},
   "source": [
    "# Hands-On Session 1: Random Variate Generation"
   ]
  },
  {
   "cell_type": "markdown",
   "id": "bbff8cf8-5a5e-4252-b6a1-225bd8fd880a",
   "metadata": {},
   "source": [
    "In this notebook, we'll explore various methods for generating random variates."
   ]
  },
  {
   "cell_type": "markdown",
   "id": "c3d4ed32-13d4-4ecf-a442-a91719872aa4",
   "metadata": {},
   "source": [
    "## 1. Random Number Generation\n"
   ]
  },
  {
   "cell_type": "markdown",
   "id": "e029b571-5059-416d-81d6-e5d55836dd01",
   "metadata": {},
   "source": [
    "#### What are random numbers?\n",
    "\n",
    "It is a random sequence of numbers obtained from a stochastic process.\n",
    "Random numbers need to be independent such that there is no correlation between the successive numbers and have equal probability\n"
   ]
  },
  {
   "cell_type": "code",
   "execution_count": 2,
   "id": "948e9697-8d82-4770-98ee-d8528c3dec4b",
   "metadata": {},
   "outputs": [],
   "source": [
    "#We will start by generating random numbers from a uniform distribution."
   ]
  },
  {
   "cell_type": "code",
   "execution_count": 71,
   "id": "8b0ac681-94c5-41a4-b92d-90d0558fb5a1",
   "metadata": {},
   "outputs": [
    {
     "name": "stdout",
     "output_type": "stream",
     "text": [
      "Discrete uniform random numbers: [4 1 2 3 5 1 4 2 3 1]\n"
     ]
    }
   ],
   "source": [
    "#pip install numpy matplotlib scipy\n",
    "\n",
    "import numpy as np\n",
    "import random\n",
    "\n",
    "# Generate random numbers from a discrete uniform distribution (e.g., 1 to 6)..Eg:Rolling a die\n",
    "def generate_discrete_uniform_numbers(low, high, size=10):\n",
    "    return np.random.randint(low, high+1, size)\n",
    "\n",
    "\n",
    "discrete_uniform_numbers = generate_discrete_uniform_numbers(1, 6, 10)\n",
    "print(\"Discrete uniform random numbers:\", discrete_uniform_numbers)\n",
    "\n"
   ]
  },
  {
   "cell_type": "markdown",
   "id": "0fdf9ced-ca2d-4b04-bec5-cab46b0cb78b",
   "metadata": {},
   "source": [
    "## 2.Random Number Generators"
   ]
  },
  {
   "cell_type": "markdown",
   "id": "9d60538f-b74e-40ab-a61a-d41816806bb6",
   "metadata": {},
   "source": [
    "#### True Random Number Generators:\n",
    "TRNGs rely on physical processes to produce randomness.Eg:atmospheric noise, thermal noise\n",
    "\n",
    "\n",
    "#### Pseudo Random Number Generators:\n",
    "PRNGs use mathematical algorithms to generate a sequence of numbers that appear random. However, these numbers are not truly random because they are generated based on an initial seed value."
   ]
  },
  {
   "cell_type": "markdown",
   "id": "f44bc36f-1a7f-43be-957e-e48953cc5545",
   "metadata": {},
   "source": [
    "#### Random Number Seed\n",
    "\n",
    "A random seed is a number (or vector) used to initialize a pseudorandom number generator.\n",
    "Used as starting point for generating random number sequence\n"
   ]
  },
  {
   "cell_type": "code",
   "execution_count": 72,
   "id": "e43335d9-d055-44fd-9b0a-b05e7fd89f44",
   "metadata": {},
   "outputs": [
    {
     "name": "stdout",
     "output_type": "stream",
     "text": [
      "True Random Numbers (Simulated): [0.50124301 0.64417772 0.9998885  0.21099124 0.11313686]\n",
      "True Random Numbers (Simulated): [0.21752554 0.15170297 0.28498806 0.51800522 0.42748292]\n"
     ]
    }
   ],
   "source": [
    "#Let's see with examples\n",
    "\n",
    "def true_random_numbers(size=5):\n",
    "    # Here we'll use np.random.uniform which is not truly random but often used for demonstration\n",
    "    return np.random.uniform(0, 1, size)\n",
    "\n",
    "# Generate True Random Numbers\n",
    "true_randoms = true_random_numbers(5)\n",
    "print(\"True Random Numbers (Simulated):\", true_randoms)\n",
    "\n",
    "\n",
    "# Generate True Random Numbers\n",
    "true_randoms = true_random_numbers(5)\n",
    "print(\"True Random Numbers (Simulated):\", true_randoms)\n"
   ]
  },
  {
   "cell_type": "code",
   "execution_count": 73,
   "id": "045b301b-5a30-44e3-b6ae-e77570414f54",
   "metadata": {},
   "outputs": [
    {
     "name": "stdout",
     "output_type": "stream",
     "text": [
      "Pseudo-Random Numbers with Seed: [0.5714025946899135, 0.4288890546751146, 0.5780913011344704, 0.20609823213950174, 0.81332125135732]\n",
      "Pseudo-Random Numbers with Seed (Repeated): [0.5714025946899135, 0.4288890546751146, 0.5780913011344704, 0.20609823213950174, 0.81332125135732]\n"
     ]
    }
   ],
   "source": [
    "\n",
    "# Pseudo-Random Number Generator with Seed\n",
    "def pseudo_random_numbers(seed, size=5):\n",
    "    random.seed(seed)  # Initialize the PRNG with a seed\n",
    "    return [random.random() for _ in range(size)]\n",
    "\n",
    "size=5\n",
    "seed=10\n",
    "\n",
    "# Generate Pseudo-Random Numbers with a Seed\n",
    "pseudo_randoms = pseudo_random_numbers(seed, size)\n",
    "print(\"Pseudo-Random Numbers with Seed:\", pseudo_randoms)\n",
    "\n",
    "# Generate Pseudo-Random Numbers with the Same Seed Again\n",
    "pseudo_randoms_repeated = pseudo_random_numbers(seed, size)\n",
    "print(\"Pseudo-Random Numbers with Seed (Repeated):\", pseudo_randoms_repeated)"
   ]
  },
  {
   "cell_type": "markdown",
   "id": "7120eff3-4d88-4392-aef9-7c5740005760",
   "metadata": {},
   "source": [
    "#### Notice that if we repeat the same seed value we get the same result since we fixed the so-called seed of the simulation."
   ]
  },
  {
   "cell_type": "code",
   "execution_count": 69,
   "id": "a1d9b140-3a49-4bcb-a87c-ba8062e332f6",
   "metadata": {},
   "outputs": [
    {
     "name": "stdout",
     "output_type": "stream",
     "text": [
      "Pseudo-Random Numbers with Seed=12: [0.4745706786885481, 0.6574725026572553, 0.6664104711248381, 0.14260035292536777, 0.01086044309006795]\n"
     ]
    }
   ],
   "source": [
    "size=5\n",
    "seed=12\n",
    "pseudo_randoms_repeated = pseudo_random_numbers(seed, size)\n",
    "print(\"Pseudo-Random Numbers with Seed=12:\", pseudo_randoms_repeated)"
   ]
  },
  {
   "cell_type": "code",
   "execution_count": 70,
   "id": "28e6e9b3-4cee-4065-a1f9-29bf2261c311",
   "metadata": {},
   "outputs": [
    {
     "name": "stdout",
     "output_type": "stream",
     "text": [
      "Pseudo-Random Numbers with Seed=12 again: [0.4745706786885481, 0.6574725026572553, 0.6664104711248381, 0.14260035292536777, 0.01086044309006795]\n"
     ]
    }
   ],
   "source": [
    "pseudo_randoms_repeated = pseudo_random_numbers(seed, size)\n",
    "print(\"Pseudo-Random Numbers with Seed=12 again:\", pseudo_randoms_repeated)"
   ]
  },
  {
   "cell_type": "code",
   "execution_count": 76,
   "id": "88edf633-a09d-403b-8331-b62a7d2cf100",
   "metadata": {},
   "outputs": [
    {
     "data": {
      "image/png": "[encoded data removed]",
      "text/plain": [
       "<Figure size 1000x600 with 1 Axes>"
      ]
     },
     "metadata": {},
     "output_type": "display_data"
    }
   ],
   "source": [
    "#checking for uniformity\n",
    "\n",
    "true_randoms = true_random_numbers(1000)\n",
    "\n",
    "\n",
    "# Create a histogram to demonstrate uniformity\n",
    "plt.figure(figsize=(10, 6))\n",
    "plt.hist(true_randoms, bins=20, edgecolor='black', alpha=0.7)\n",
    "plt.title('Histogram of Pseudo-Random Numbers (Seed=12)')\n",
    "plt.xlabel('Value')\n",
    "plt.ylabel('Frequency')\n",
    "plt.grid(True)\n",
    "plt.show()"
   ]
  },
  {
   "cell_type": "code",
   "execution_count": 77,
   "id": "8460b5fb-7ec2-4abe-afea-0eff043ef086",
   "metadata": {},
   "outputs": [
    {
     "data": {
      "image/png": "[encoded data removed]",
      "text/plain": [
       "<Figure size 1000x600 with 1 Axes>"
      ]
     },
     "metadata": {},
     "output_type": "display_data"
    }
   ],
   "source": [
    "size=1000\n",
    "seed=42\n",
    "pseudo_randoms_repeated = pseudo_random_numbers(seed, size)\n",
    "\n",
    "# Create a histogram to demonstrate uniformity\n",
    "plt.figure(figsize=(10, 6))\n",
    "plt.hist(pseudo_randoms, bins=20, edgecolor='black', alpha=0.7)\n",
    "plt.title('Histogram of Pseudo-Random Numbers (Seed=12)')\n",
    "plt.xlabel('Value')\n",
    "plt.ylabel('Frequency')\n",
    "plt.grid(True)\n",
    "plt.show()"
   ]
  },
  {
   "cell_type": "markdown",
   "id": "4f5a9ab8-9b9f-482f-836a-338b228c8a36",
   "metadata": {},
   "source": [
    "We can see that the histograms are reasonably flat and therefore the assumption of uniformity seems to hold."
   ]
  },
  {
   "cell_type": "markdown",
   "id": "f061f87d-95e2-436a-a009-89e24e3dbc24",
   "metadata": {},
   "source": [
    "## 2.Random Variates"
   ]
  },
  {
   "cell_type": "markdown",
   "id": "150671e6-b568-45e5-ace0-bbe1e6499f1e",
   "metadata": {},
   "source": [
    "Random Variate: A sample or observation generated from a specific probability distribution.\n",
    "\n",
    "Probability Distribution: Describes how the values of a random variable are distributed."
   ]
  },
  {
   "cell_type": "markdown",
   "id": "6b0987df-8b67-4455-85e1-ede7e9a503ef",
   "metadata": {},
   "source": [
    "### 3.1 Acceptance-Rejection Method"
   ]
  },
  {
   "cell_type": "markdown",
   "id": "7434e2b1-c908-4d27-af1e-60c2822ff019",
   "metadata": {},
   "source": [
    "Let's generate Poisson Random Variates"
   ]
  },
  {
   "cell_type": "markdown",
   "id": "7fc77981-a450-4013-ac21-b64c8f814838",
   "metadata": {},
   "source": [
    "\n",
    "## Poisson Distribution\n",
    "\n",
    "The Poisson distribution's probability mass function (PMF) is given by:\n",
    "\n",
    "$$\n",
    "P(X = k) = \\frac{\\lambda^k e^{-\\lambda}}{k!}\n",
    "$$\n",
    "Where  is the average rate (mean) of occurrences, and \n",
    "k is the number of occurrences.\n",
    "\n",
    "Acceptance Criterion: We accept or reject the proposed sample based on the probability density of the target distribution (Poisson) and the proposal distribution (Exponential).\n",
    "\n",
    "The procedure for generating a Poisson random variate \\( N \\) using the acceptance-rejection method is as follows:\n",
    "\n",
    "1. Set n=0, P=1\n",
    "2. Generate a random number Rn+1, and replace P by P=P * Rn+1\n",
    "3. If P < exp(-α), then accept N=n.\n",
    "4. Otherwise, reject the current n, increase n by one, and return to step 2\n",
    " \n",
    "​\n"
   ]
  },
  {
   "cell_type": "code",
   "execution_count": 45,
   "id": "fa9fb69b-80e4-40ee-9117-21190f419fce",
   "metadata": {},
   "outputs": [],
   "source": [
    "import numpy as np\n",
    "import matplotlib.pyplot as plt\n",
    "\n",
    "def poisson_acceptance_rejection(alpha, size=2):\n",
    "    variates = []\n",
    "    \n",
    "    for _ in range(size):\n",
    "        n = 0\n",
    "        P = 1\n",
    "        print(f\"Variate generation:\")\n",
    "        \n",
    "        while True:\n",
    "            R = np.random.uniform(0, 1)\n",
    "            print(f\"Generate random number R = {R:.4f}\")\n",
    "            P *= R\n",
    "            print(f\"  Update P = {P:.4f}\")\n",
    "            \n",
    "            if P < np.exp(-alpha):\n",
    "                variates.append(n)\n",
    "                print(f\"  P < exp(-alpha) ({P:.4f} < {np.exp(-alpha):.4f})\")\n",
    "                print(f\"  Accept N = {n}\")\n",
    "                break\n",
    "            else:\n",
    "                n += 1\n",
    "                print(f\"  P >= exp(-alpha) ({P:.4f} >= {np.exp(-alpha):.4f})\")\n",
    "                print(f\"  Reject N = {n-1}, increment n to {n}\")\n",
    "                \n",
    "    return variates\n",
    "\n"
   ]
  },
  {
   "cell_type": "code",
   "execution_count": 51,
   "id": "d3463ae6-4662-47b7-9a9a-e3777c5a9c24",
   "metadata": {},
   "outputs": [
    {
     "name": "stdout",
     "output_type": "stream",
     "text": [
      "Threshold (exp(-alpha)): 0.8187\n",
      "Variate generation:\n",
      "Generate random number R = 0.6504\n",
      "  Update P = 0.6504\n",
      "  P < exp(-alpha) (0.6504 < 0.8187)\n",
      "  Accept N = 0\n",
      "Variate generation:\n",
      "Generate random number R = 0.9699\n",
      "  Update P = 0.9699\n",
      "  P >= exp(-alpha) (0.9699 >= 0.8187)\n",
      "  Reject N = 0, increment n to 1\n",
      "Generate random number R = 0.9982\n",
      "  Update P = 0.9682\n",
      "  P >= exp(-alpha) (0.9682 >= 0.8187)\n",
      "  Reject N = 1, increment n to 2\n",
      "Generate random number R = 0.3253\n",
      "  Update P = 0.3149\n",
      "  P < exp(-alpha) (0.3149 < 0.8187)\n",
      "  Accept N = 2\n",
      "Variate generation:\n",
      "Generate random number R = 0.5003\n",
      "  Update P = 0.5003\n",
      "  P < exp(-alpha) (0.5003 < 0.8187)\n",
      "  Accept N = 0\n",
      "Variate generation:\n",
      "Generate random number R = 0.0756\n",
      "  Update P = 0.0756\n",
      "  P < exp(-alpha) (0.0756 < 0.8187)\n",
      "  Accept N = 0\n",
      "Variate generation:\n",
      "Generate random number R = 0.1576\n",
      "  Update P = 0.1576\n",
      "  P < exp(-alpha) (0.1576 < 0.8187)\n",
      "  Accept N = 0\n",
      "\n",
      "Generated Poisson Variates:\n",
      "[0, 2, 0, 0, 0]\n"
     ]
    }
   ],
   "source": [
    "# Parameters\n",
    "alpha = 0.2  # Poisson parameter\n",
    "size = 5  # Number of samples to generate\n",
    "\n",
    "\n",
    "# Print the threshold value\n",
    "print(f\"Threshold (exp(-alpha)): {np.exp(-alpha):.4f}\")\n",
    "\n",
    "# Generate Poisson variates\n",
    "poisson_samples = poisson_acceptance_rejection(alpha, size)\n",
    "\n",
    "# Print the generated Poisson variates\n",
    "print(\"\\nGenerated Poisson Variates:\")\n",
    "print(poisson_samples)"
   ]
  },
  {
   "cell_type": "markdown",
   "id": "9f363036-9386-4e7c-bc9b-2aff22aca95b",
   "metadata": {},
   "source": [
    "As seen to generate 5 poisson variates we had to generate 7 random variables.\n",
    "\n",
    "In long run, the generation of Poisson variates requires\n",
    "some overhead!"
   ]
  },
  {
   "cell_type": "code",
   "execution_count": 58,
   "id": "b71efa09-eed4-4614-9d48-1481df4cd29e",
   "metadata": {},
   "outputs": [
    {
     "name": "stdout",
     "output_type": "stream",
     "text": [
      "Generated Poisson Variates:\n",
      "[ 4  5  5  4  6  3  4  9  8  2  2  4  1  7 10  7 10  2  7  2  6  2  5 10\n",
      " 11  6  8  3  6  8  7  4  9  7  5 11  6  5  3  5  4  6  4  9  5  7  7  5\n",
      "  4  1  1  6  0  6  5  6  1  4  5  4  3  3  4  7  8  5  7  4  7  3  3  4\n",
      "  2  1  6  2  2  9  4  9  5  5  5  1  6  4  1 11  4  2  3  8  4  3  2  7\n",
      "  5  5  3  7  9 11  3  2  7  5  2  5  8  4  6  3  1  4  5  7  2  3  4  8\n",
      "  1  3 10  6  4  3  4  6  3  5  6  8  3  4  5  5  3  5  4  5  6  6  9  6\n",
      "  2  8  5  4  4  3  4  4  4  4 10  3  3  6  3  7  9  6  6  4  9  4  6  6\n",
      "  6  3  7  4  2  9  5  7  4  6  7  7  1  3  2  3  6  6  4  4  5  0  8  4\n",
      "  2 10  0  7  7  7  2  5  3  4  5  7  5  5  6  2  5  8  4  7  8  6  3  4\n",
      "  2  6  2  8  6  4  4  6  2  4  7  4  3  3 10  7  4 14  4  3  3  5  5  8\n",
      "  3  6  2  4  7  6  6  5  5  2  2  6  6  5  8  7 10  2  1  8  2  6  5  4\n",
      "  5  6  5  6  6  7  3  2  2  7  5  3  3  3  3  9  3  4  6  5  3  1  4  2\n",
      "  5  4  3  4  6  5  6  7  6  7  7  4  4  5  5  6  3  4  1  4  3  4  1  3\n",
      "  5  6  5  5  2  4  1  5  9  1  6  3  3  8  2  7  4  1  2 12  4  3  5  3\n",
      "  4  6  2  4  5  5  3  7  3  2  6  4  5  5  6  1  3  4  3  5  4  6  4  9\n",
      "  9  7 12  4  9  5  4  9  7  3  3  3  1  4  4  4  2  6  8  3  5  6  6  4\n",
      "  4  4  9 10  3  5  4  4  8  4  4  3  5  4  3  7  4  4  4  8  4  5  3  3\n",
      "  4  4  1 11  6  8  5  5  4  3  5  3  5  8  7  6  5  5  4  5  7  5  7  7\n",
      "  4  7  6  9  2  7  2  7  5  3  6  8  5  2  3  7  5  4  3  0  3  5  5  7\n",
      "  6  1  5  6  2  3  4  7  0  9  8  3  2  5  9  8  7  2  1  1  9  5  2  5\n",
      "  3  7  6  5  2  8  4  4  6  3  3  4  6  5  7  9  4  4  4  4  3  4  7  8\n",
      "  5 11  0  9  4  8  6  5  5  4  7  4  7 10  4  7  7  2  6  7  6  6  5  4\n",
      "  4  6  1  6  7  4  6  4  3  2  7  7  4  9  4  4  3  5  8  4  3  5  7  1\n",
      "  8  8  7  8  5  9  8  3  6 11  3  9  6  6  8  5  9  8  7  1  6  4  2  6\n",
      "  6  6  3  3  6  9  1  3 10  8  5  5  4  8  4  6  9  8  4  5  4  8  4  2\n",
      "  3  6  5  5  6  5  4  6  4  6  3  4  6  5  2  1  6  4  3  7  6  5  4  3\n",
      "  3  8  7  5  4  5  7  7  4  3  3  5  6  4  8  5  3  6  8  2  5  3  6  3\n",
      "  4  4  9  2  5  7  6  5  5  6  8  5  4  4  6  6  2  6  4  8  6  2  6  5\n",
      "  5  7  3  4  3  1 11  4  6  5  3  7  5  9  9  3  6  5  3  5  5  6  8  4\n",
      " 10  5  7  9  3  7  4  9  9  4  7 11  7  4  5  3  6  3  4  6  1  8  4  3\n",
      "  9  6  5 14  4  5  4  4  5  4  2  3  3  5  8  6  0  0  2  2  3  6  5  3\n",
      "  4  3  5  7  6  6  3  5  1  5  4  2  8  3  6  8  8  2  7  7  2  7  1  4\n",
      "  3  5  5  5  7  5  5  5  5  3  5  4  5  8  5  6  3  6  7  6  7  8  3  5\n",
      "  7  5  7  5  1  3  4  3  5  3  4  3  7  8  5  5  4  2  5  7  8  2  2  9\n",
      "  6  9  5 15  2  3  4  3  9  9  2  9  2  5  8  2  8  4  3  6  6  5  5  3\n",
      "  8  3  5  1  4  3 12  7  4 12  8  5  5  4  4  4  2  3  1  6  1  7  4  1\n",
      " 11  9  5  7  4 13  3  6 10  5  2  6  9  4  5  8  0  6  4  5  6  7  4  5\n",
      "  4  4  5  8  4  3  5  5  3  8  2  7  8  8  5  0  4  7  4  3  2 10  3  7\n",
      "  4  5  7  3  4  2  2  2  4  4  6  5  7  6  6  5  0  4  4  8  4  5  8  3\n",
      "  3  5  4  4  6  5  5  7  9  4  4  2  2  7  7  3  2  6  4  4  4  1  5  4\n",
      "  5  3  5  5  3  6  5  5  6  8  5  6  3  7  6  5  5  7  2  3  8  4  5  4\n",
      "  5  6  5  8  5  6  7  7  2  1  4  5  2  4  6  6]\n"
     ]
    },
    {
     "data": {
      "image/png": "[encoded data removed]",
      "text/plain": [
       "<Figure size 640x480 with 1 Axes>"
      ]
     },
     "metadata": {},
     "output_type": "display_data"
    }
   ],
   "source": [
    "def poisson_acceptance_rejection(alpha, size=10):\n",
    "    samples = []\n",
    "    for _ in range(size):\n",
    "        n = 0\n",
    "        P = 1\n",
    "        while True:\n",
    "            R = np.random.uniform(0, 1)\n",
    "            P *= R\n",
    "            if P < np.exp(-alpha):\n",
    "                samples.append(n)\n",
    "                break\n",
    "            n += 1\n",
    "    return np.array(samples)\n",
    "\n",
    "\n",
    "alpha = 5  # Poisson parameter\n",
    "size = 1000  # Number of samples\n",
    "poisson_samples = poisson_acceptance_rejection(alpha, size)\n",
    "\n",
    "\n",
    "\n",
    "# Print the generated Poisson variates\n",
    "print(\"Generated Poisson Variates:\")\n",
    "print(poisson_samples)\n",
    "\n",
    "# Plotting the results\n",
    "def plot_histogram(samples, title, color='blue'):\n",
    "    plt.hist(samples, bins=range(int(min(samples)), int(max(samples)) + 1), density=True, alpha=0.6, color=color, edgecolor='black')\n",
    "    plt.title(title)\n",
    "    plt.xlabel('Value')\n",
    "    plt.ylabel('Frequency')\n",
    "    plt.show()\n",
    "\n",
    "# Plot the histogram of Poisson samples\n",
    "plot_histogram(poisson_samples, 'Histogram of Poisson Samples (alpha=5)')"
   ]
  },
  {
   "cell_type": "code",
   "execution_count": null,
   "id": "e2d0f275-4f13-46cc-8a0a-1f224713f17d",
   "metadata": {},
   "outputs": [],
   "source": []
  },
  {
   "cell_type": "code",
   "execution_count": null,
   "id": "180c827d-1777-4945-8831-92c112398ff8",
   "metadata": {},
   "outputs": [],
   "source": []
  }
 ],
 "metadata": {
  "kernelspec": {
   "display_name": "Python 3 (ipykernel)",
   "language": "python",
   "name": "python3"
  },
  "language_info": {
   "codemirror_mode": {
    "name": "ipython",
    "version": 3
   },
   "file_extension": ".py",
   "mimetype": "text/x-python",
   "name": "python",
   "nbconvert_exporter": "python",
   "pygments_lexer": "ipython3",
   "version": "3.12.1"
  }
 },
 "nbformat": 4,
 "nbformat_minor": 5
}
