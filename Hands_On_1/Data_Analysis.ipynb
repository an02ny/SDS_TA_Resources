{
 "cells": [
  {
   "cell_type": "markdown",
   "metadata": {
    "id": "it52nPRh1jiu"
   },
   "source": [
    "# **Data Analysis in Python**\n",
    "\n",
    "Preparing data for analysis by preprocessing it is typically the focus of the majority of data science work. This presentation will explain the process of turning our unprocessed data into precise insights. This notebook will teach you how to:\n",
    "\n",
    "* Utilize `pandas` to import data, then use basic functions to identify issues with the data.\n",
    "* Use `seaborn` to visualise missing and out-of-range data.\n",
    "* Use a variety of data cleaning techniques to give reliable insights."
   ]
  },
  {
   "cell_type": "code",
   "execution_count": 3,
   "metadata": {
    "id": "bZzBujov1hNa"
   },
   "outputs": [],
   "source": [
    "# Dependencies\n",
    "import numpy as np\n",
    "import pandas as pd \n",
    "import os\n",
    "import seaborn as sns\n",
    "import matplotlib.pyplot as plt"
   ]
  },
  {
   "cell_type": "code",
   "execution_count": 6,
   "metadata": {
    "id": "VEYBfqwn4W7i"
   },
   "outputs": [],
   "source": [
    "# Reading the data from a csv to a pandas dataframe\n",
    "df = pd.read_csv(r\"used_cars.csv\")"
   ]
  },
  {
   "cell_type": "markdown",
   "metadata": {
    "id": "5-5w97Xv4zJO"
   },
   "source": [
    "## **Data Preprocessing**"
   ]
  },
  {
   "cell_type": "markdown",
   "metadata": {
    "id": "rS2mQev5eGyH"
   },
   "source": [
    "Some important and common methods needed to get a better understanding of DataFrames and diagnose potential data problems are the following: \n",
    "\n",
    "- `.head()` prints the header of a DataFrame\n",
    "- `.shape` prints shape of the DataFrame\n",
    "- `.dtypes` prints datatypes of all columns in a DataFrame\n",
    "- `.info()` provides a bird's eye view of column data types and missing values in a DataFrame\n",
    "- `.describe()` returns a distribution of numeric columns in your DataFrame\n",
    "- `.isnull().sum()` allows us to break down the number of missing values per column in our DataFrame\n",
    "- `.nunique()` finds the number of unique values in a DataFrame column\n",
    "- `.dropna()` drops rows with null values in the DataFrame\n"
   ]
  },
  {
   "cell_type": "markdown",
   "metadata": {
    "id": "Ce6U2Rm-foIx"
   },
   "source": [
    "We can already identify a number of potential issues down the road by simply looking at the data, such as:\n",
    "\n",
    "\n",
    "### Some common data problems:\n",
    "\n",
    "- **Problem 1**: We can see that the dataset contains outliers; in this section, we'll look at one method for dealing with them.\n",
    "\n",
    "- **Problem 2**: We can see that several columns lack data (missing data), and later on we'll be able to examine that from a higher perspective.\n"
   ]
  },
  {
   "cell_type": "markdown",
   "metadata": {
    "id": "Zytf0LaJhR1N"
   },
   "source": [
    "Checking the head of the data"
   ]
  },
  {
   "cell_type": "code",
   "execution_count": 7,
   "metadata": {
    "colab": {
     "base_uri": "https://localhost:8080/",
     "height": 352
    },
    "executionInfo": {
     "elapsed": 498,
     "status": "ok",
     "timestamp": 1664292023311,
     "user": {
      "displayName": "Serena Gomez",
      "userId": "05959088368982916741"
     },
     "user_tz": -330
    },
    "id": "LBvUSsYLFv1Q",
    "outputId": "ed074c30-b9c4-43a8-b23f-e27f620c3ec0"
   },
   "outputs": [
    {
     "data": {
      "text/html": [
       "<div>\n",
       "<style scoped>\n",
       "    .dataframe tbody tr th:only-of-type {\n",
       "        vertical-align: middle;\n",
       "    }\n",
       "\n",
       "    .dataframe tbody tr th {\n",
       "        vertical-align: top;\n",
       "    }\n",
       "\n",
       "    .dataframe thead th {\n",
       "        text-align: right;\n",
       "    }\n",
       "</style>\n",
       "<table border=\"1\" class=\"dataframe\">\n",
       "  <thead>\n",
       "    <tr style=\"text-align: right;\">\n",
       "      <th></th>\n",
       "      <th>id</th>\n",
       "      <th>url</th>\n",
       "      <th>region</th>\n",
       "      <th>region_url</th>\n",
       "      <th>price</th>\n",
       "      <th>year</th>\n",
       "      <th>manufacturer</th>\n",
       "      <th>model</th>\n",
       "      <th>condition</th>\n",
       "      <th>cylinders</th>\n",
       "      <th>...</th>\n",
       "      <th>size</th>\n",
       "      <th>type</th>\n",
       "      <th>paint_color</th>\n",
       "      <th>image_url</th>\n",
       "      <th>description</th>\n",
       "      <th>county</th>\n",
       "      <th>state</th>\n",
       "      <th>lat</th>\n",
       "      <th>long</th>\n",
       "      <th>posting_date</th>\n",
       "    </tr>\n",
       "  </thead>\n",
       "  <tbody>\n",
       "    <tr>\n",
       "      <th>0</th>\n",
       "      <td>7222695916</td>\n",
       "      <td>https://prescott.craigslist.org/cto/d/prescott...</td>\n",
       "      <td>prescott</td>\n",
       "      <td>https://prescott.craigslist.org</td>\n",
       "      <td>6000</td>\n",
       "      <td>NaN</td>\n",
       "      <td>NaN</td>\n",
       "      <td>NaN</td>\n",
       "      <td>NaN</td>\n",
       "      <td>NaN</td>\n",
       "      <td>...</td>\n",
       "      <td>NaN</td>\n",
       "      <td>NaN</td>\n",
       "      <td>NaN</td>\n",
       "      <td>NaN</td>\n",
       "      <td>NaN</td>\n",
       "      <td>NaN</td>\n",
       "      <td>az</td>\n",
       "      <td>NaN</td>\n",
       "      <td>NaN</td>\n",
       "      <td>NaN</td>\n",
       "    </tr>\n",
       "    <tr>\n",
       "      <th>1</th>\n",
       "      <td>7218891961</td>\n",
       "      <td>https://fayar.craigslist.org/ctd/d/bentonville...</td>\n",
       "      <td>fayetteville</td>\n",
       "      <td>https://fayar.craigslist.org</td>\n",
       "      <td>11900</td>\n",
       "      <td>NaN</td>\n",
       "      <td>NaN</td>\n",
       "      <td>NaN</td>\n",
       "      <td>NaN</td>\n",
       "      <td>NaN</td>\n",
       "      <td>...</td>\n",
       "      <td>NaN</td>\n",
       "      <td>NaN</td>\n",
       "      <td>NaN</td>\n",
       "      <td>NaN</td>\n",
       "      <td>NaN</td>\n",
       "      <td>NaN</td>\n",
       "      <td>ar</td>\n",
       "      <td>NaN</td>\n",
       "      <td>NaN</td>\n",
       "      <td>NaN</td>\n",
       "    </tr>\n",
       "    <tr>\n",
       "      <th>2</th>\n",
       "      <td>7221797935</td>\n",
       "      <td>https://keys.craigslist.org/cto/d/summerland-k...</td>\n",
       "      <td>florida keys</td>\n",
       "      <td>https://keys.craigslist.org</td>\n",
       "      <td>21000</td>\n",
       "      <td>NaN</td>\n",
       "      <td>NaN</td>\n",
       "      <td>NaN</td>\n",
       "      <td>NaN</td>\n",
       "      <td>NaN</td>\n",
       "      <td>...</td>\n",
       "      <td>NaN</td>\n",
       "      <td>NaN</td>\n",
       "      <td>NaN</td>\n",
       "      <td>NaN</td>\n",
       "      <td>NaN</td>\n",
       "      <td>NaN</td>\n",
       "      <td>fl</td>\n",
       "      <td>NaN</td>\n",
       "      <td>NaN</td>\n",
       "      <td>NaN</td>\n",
       "    </tr>\n",
       "    <tr>\n",
       "      <th>3</th>\n",
       "      <td>7222270760</td>\n",
       "      <td>https://worcester.craigslist.org/cto/d/west-br...</td>\n",
       "      <td>worcester / central MA</td>\n",
       "      <td>https://worcester.craigslist.org</td>\n",
       "      <td>1500</td>\n",
       "      <td>NaN</td>\n",
       "      <td>NaN</td>\n",
       "      <td>NaN</td>\n",
       "      <td>NaN</td>\n",
       "      <td>NaN</td>\n",
       "      <td>...</td>\n",
       "      <td>NaN</td>\n",
       "      <td>NaN</td>\n",
       "      <td>NaN</td>\n",
       "      <td>NaN</td>\n",
       "      <td>NaN</td>\n",
       "      <td>NaN</td>\n",
       "      <td>ma</td>\n",
       "      <td>NaN</td>\n",
       "      <td>NaN</td>\n",
       "      <td>NaN</td>\n",
       "    </tr>\n",
       "    <tr>\n",
       "      <th>4</th>\n",
       "      <td>7210384030</td>\n",
       "      <td>https://greensboro.craigslist.org/cto/d/trinit...</td>\n",
       "      <td>greensboro</td>\n",
       "      <td>https://greensboro.craigslist.org</td>\n",
       "      <td>4900</td>\n",
       "      <td>NaN</td>\n",
       "      <td>NaN</td>\n",
       "      <td>NaN</td>\n",
       "      <td>NaN</td>\n",
       "      <td>NaN</td>\n",
       "      <td>...</td>\n",
       "      <td>NaN</td>\n",
       "      <td>NaN</td>\n",
       "      <td>NaN</td>\n",
       "      <td>NaN</td>\n",
       "      <td>NaN</td>\n",
       "      <td>NaN</td>\n",
       "      <td>nc</td>\n",
       "      <td>NaN</td>\n",
       "      <td>NaN</td>\n",
       "      <td>NaN</td>\n",
       "    </tr>\n",
       "  </tbody>\n",
       "</table>\n",
       "<p>5 rows × 26 columns</p>\n",
       "</div>"
      ],
      "text/plain": [
       "           id                                                url  \\\n",
       "0  7222695916  https://prescott.craigslist.org/cto/d/prescott...   \n",
       "1  7218891961  https://fayar.craigslist.org/ctd/d/bentonville...   \n",
       "2  7221797935  https://keys.craigslist.org/cto/d/summerland-k...   \n",
       "3  7222270760  https://worcester.craigslist.org/cto/d/west-br...   \n",
       "4  7210384030  https://greensboro.craigslist.org/cto/d/trinit...   \n",
       "\n",
       "                   region                         region_url  price  year  \\\n",
       "0                prescott    https://prescott.craigslist.org   6000   NaN   \n",
       "1            fayetteville       https://fayar.craigslist.org  11900   NaN   \n",
       "2            florida keys        https://keys.craigslist.org  21000   NaN   \n",
       "3  worcester / central MA   https://worcester.craigslist.org   1500   NaN   \n",
       "4              greensboro  https://greensboro.craigslist.org   4900   NaN   \n",
       "\n",
       "  manufacturer model condition cylinders  ... size  type paint_color  \\\n",
       "0          NaN   NaN       NaN       NaN  ...  NaN   NaN         NaN   \n",
       "1          NaN   NaN       NaN       NaN  ...  NaN   NaN         NaN   \n",
       "2          NaN   NaN       NaN       NaN  ...  NaN   NaN         NaN   \n",
       "3          NaN   NaN       NaN       NaN  ...  NaN   NaN         NaN   \n",
       "4          NaN   NaN       NaN       NaN  ...  NaN   NaN         NaN   \n",
       "\n",
       "  image_url description county state lat long posting_date  \n",
       "0       NaN         NaN    NaN    az NaN  NaN          NaN  \n",
       "1       NaN         NaN    NaN    ar NaN  NaN          NaN  \n",
       "2       NaN         NaN    NaN    fl NaN  NaN          NaN  \n",
       "3       NaN         NaN    NaN    ma NaN  NaN          NaN  \n",
       "4       NaN         NaN    NaN    nc NaN  NaN          NaN  \n",
       "\n",
       "[5 rows x 26 columns]"
      ]
     },
     "execution_count": 7,
     "metadata": {},
     "output_type": "execute_result"
    }
   ],
   "source": [
    "df.head()"
   ]
  },
  {
   "cell_type": "markdown",
   "metadata": {
    "id": "XzCSEm8PhWMg"
   },
   "source": [
    "checking the shape of the dataset"
   ]
  },
  {
   "cell_type": "code",
   "execution_count": 8,
   "metadata": {
    "colab": {
     "base_uri": "https://localhost:8080/"
    },
    "executionInfo": {
     "elapsed": 455,
     "status": "ok",
     "timestamp": 1664292026182,
     "user": {
      "displayName": "Serena Gomez",
      "userId": "05959088368982916741"
     },
     "user_tz": -330
    },
    "id": "PasE5vRr436d",
    "outputId": "2dbf59a4-c363-4e4a-8b5c-13af9d88ac78"
   },
   "outputs": [
    {
     "data": {
      "text/plain": [
       "(2000, 26)"
      ]
     },
     "execution_count": 8,
     "metadata": {},
     "output_type": "execute_result"
    }
   ],
   "source": [
    "df.shape"
   ]
  },
  {
   "cell_type": "markdown",
   "metadata": {
    "id": "0WkFTlwkhhrO"
   },
   "source": [
    "Some statistical inference from the data"
   ]
  },
  {
   "cell_type": "code",
   "execution_count": 9,
   "metadata": {
    "colab": {
     "base_uri": "https://localhost:8080/"
    },
    "executionInfo": {
     "elapsed": 5,
     "status": "ok",
     "timestamp": 1664292028213,
     "user": {
      "displayName": "Serena Gomez",
      "userId": "05959088368982916741"
     },
     "user_tz": -330
    },
    "id": "x0KKRNn4495F",
    "outputId": "c3d26db8-d29b-41d0-e154-e16edbb8140e"
   },
   "outputs": [
    {
     "name": "stdout",
     "output_type": "stream",
     "text": [
      "<class 'pandas.core.frame.DataFrame'>\n",
      "RangeIndex: 2000 entries, 0 to 1999\n",
      "Data columns (total 26 columns):\n",
      " #   Column        Non-Null Count  Dtype  \n",
      "---  ------        --------------  -----  \n",
      " 0   id            2000 non-null   int64  \n",
      " 1   url           2000 non-null   object \n",
      " 2   region        2000 non-null   object \n",
      " 3   region_url    2000 non-null   object \n",
      " 4   price         2000 non-null   int64  \n",
      " 5   year          1951 non-null   float64\n",
      " 6   manufacturer  1830 non-null   object \n",
      " 7   model         1960 non-null   object \n",
      " 8   condition     1122 non-null   object \n",
      " 9   cylinders     1258 non-null   object \n",
      " 10  fuel          1939 non-null   object \n",
      " 11  odometer      1961 non-null   float64\n",
      " 12  title_status  1870 non-null   object \n",
      " 13  transmission  1972 non-null   object \n",
      " 14  VIN           1268 non-null   object \n",
      " 15  drive         1363 non-null   object \n",
      " 16  size          493 non-null    object \n",
      " 17  type          1380 non-null   object \n",
      " 18  paint_color   1534 non-null   object \n",
      " 19  image_url     1973 non-null   object \n",
      " 20  description   1973 non-null   object \n",
      " 21  county        0 non-null      float64\n",
      " 22  state         2000 non-null   object \n",
      " 23  lat           1961 non-null   float64\n",
      " 24  long          1961 non-null   float64\n",
      " 25  posting_date  1973 non-null   object \n",
      "dtypes: float64(5), int64(2), object(19)\n",
      "memory usage: 406.4+ KB\n"
     ]
    }
   ],
   "source": [
    "df.info()"
   ]
  },
  {
   "cell_type": "code",
   "execution_count": 10,
   "metadata": {
    "colab": {
     "base_uri": "https://localhost:8080/",
     "height": 364
    },
    "executionInfo": {
     "elapsed": 8,
     "status": "ok",
     "timestamp": 1664292029866,
     "user": {
      "displayName": "Serena Gomez",
      "userId": "05959088368982916741"
     },
     "user_tz": -330
    },
    "id": "wZq1N1QG5BRs",
    "outputId": "cf261ee5-0d0d-4f17-97fe-5fe379f3bf42"
   },
   "outputs": [
    {
     "data": {
      "text/html": [
       "<div>\n",
       "<style scoped>\n",
       "    .dataframe tbody tr th:only-of-type {\n",
       "        vertical-align: middle;\n",
       "    }\n",
       "\n",
       "    .dataframe tbody tr th {\n",
       "        vertical-align: top;\n",
       "    }\n",
       "\n",
       "    .dataframe thead th {\n",
       "        text-align: right;\n",
       "    }\n",
       "</style>\n",
       "<table border=\"1\" class=\"dataframe\">\n",
       "  <thead>\n",
       "    <tr style=\"text-align: right;\">\n",
       "      <th></th>\n",
       "      <th>id</th>\n",
       "      <th>price</th>\n",
       "      <th>year</th>\n",
       "      <th>odometer</th>\n",
       "      <th>county</th>\n",
       "      <th>lat</th>\n",
       "      <th>long</th>\n",
       "    </tr>\n",
       "  </thead>\n",
       "  <tbody>\n",
       "    <tr>\n",
       "      <th>count</th>\n",
       "      <td>2.000000e+03</td>\n",
       "      <td>2.000000e+03</td>\n",
       "      <td>1951.000000</td>\n",
       "      <td>1.961000e+03</td>\n",
       "      <td>0.0</td>\n",
       "      <td>1961.000000</td>\n",
       "      <td>1961.000000</td>\n",
       "    </tr>\n",
       "    <tr>\n",
       "      <th>mean</th>\n",
       "      <td>7.308532e+09</td>\n",
       "      <td>5.627870e+05</td>\n",
       "      <td>2011.197335</td>\n",
       "      <td>2.039772e+05</td>\n",
       "      <td>NaN</td>\n",
       "      <td>33.737370</td>\n",
       "      <td>-85.550905</td>\n",
       "    </tr>\n",
       "    <tr>\n",
       "      <th>std</th>\n",
       "      <td>1.150432e+07</td>\n",
       "      <td>2.219596e+07</td>\n",
       "      <td>9.704956</td>\n",
       "      <td>9.918244e+05</td>\n",
       "      <td>NaN</td>\n",
       "      <td>2.166677</td>\n",
       "      <td>3.375837</td>\n",
       "    </tr>\n",
       "    <tr>\n",
       "      <th>min</th>\n",
       "      <td>7.208550e+09</td>\n",
       "      <td>0.000000e+00</td>\n",
       "      <td>1903.000000</td>\n",
       "      <td>0.000000e+00</td>\n",
       "      <td>NaN</td>\n",
       "      <td>26.021800</td>\n",
       "      <td>-122.693000</td>\n",
       "    </tr>\n",
       "    <tr>\n",
       "      <th>25%</th>\n",
       "      <td>7.305753e+09</td>\n",
       "      <td>5.500000e+03</td>\n",
       "      <td>2008.000000</td>\n",
       "      <td>2.965200e+04</td>\n",
       "      <td>NaN</td>\n",
       "      <td>32.922900</td>\n",
       "      <td>-86.817617</td>\n",
       "    </tr>\n",
       "    <tr>\n",
       "      <th>50%</th>\n",
       "      <td>7.310400e+09</td>\n",
       "      <td>1.710000e+04</td>\n",
       "      <td>2013.000000</td>\n",
       "      <td>8.800000e+04</td>\n",
       "      <td>NaN</td>\n",
       "      <td>33.455361</td>\n",
       "      <td>-86.737847</td>\n",
       "    </tr>\n",
       "    <tr>\n",
       "      <th>75%</th>\n",
       "      <td>7.313504e+09</td>\n",
       "      <td>2.998200e+04</td>\n",
       "      <td>2017.000000</td>\n",
       "      <td>1.573050e+05</td>\n",
       "      <td>NaN</td>\n",
       "      <td>33.736760</td>\n",
       "      <td>-85.480000</td>\n",
       "    </tr>\n",
       "    <tr>\n",
       "      <th>max</th>\n",
       "      <td>7.316878e+09</td>\n",
       "      <td>9.876543e+08</td>\n",
       "      <td>2021.000000</td>\n",
       "      <td>9.999999e+06</td>\n",
       "      <td>NaN</td>\n",
       "      <td>44.120200</td>\n",
       "      <td>-73.572300</td>\n",
       "    </tr>\n",
       "  </tbody>\n",
       "</table>\n",
       "</div>"
      ],
      "text/plain": [
       "                 id         price         year      odometer  county  \\\n",
       "count  2.000000e+03  2.000000e+03  1951.000000  1.961000e+03     0.0   \n",
       "mean   7.308532e+09  5.627870e+05  2011.197335  2.039772e+05     NaN   \n",
       "std    1.150432e+07  2.219596e+07     9.704956  9.918244e+05     NaN   \n",
       "min    7.208550e+09  0.000000e+00  1903.000000  0.000000e+00     NaN   \n",
       "25%    7.305753e+09  5.500000e+03  2008.000000  2.965200e+04     NaN   \n",
       "50%    7.310400e+09  1.710000e+04  2013.000000  8.800000e+04     NaN   \n",
       "75%    7.313504e+09  2.998200e+04  2017.000000  1.573050e+05     NaN   \n",
       "max    7.316878e+09  9.876543e+08  2021.000000  9.999999e+06     NaN   \n",
       "\n",
       "               lat         long  \n",
       "count  1961.000000  1961.000000  \n",
       "mean     33.737370   -85.550905  \n",
       "std       2.166677     3.375837  \n",
       "min      26.021800  -122.693000  \n",
       "25%      32.922900   -86.817617  \n",
       "50%      33.455361   -86.737847  \n",
       "75%      33.736760   -85.480000  \n",
       "max      44.120200   -73.572300  "
      ]
     },
     "execution_count": 10,
     "metadata": {},
     "output_type": "execute_result"
    }
   ],
   "source": [
    "df.describe() #Numerical data"
   ]
  },
  {
   "cell_type": "code",
   "execution_count": 9,
   "metadata": {
    "colab": {
     "base_uri": "https://localhost:8080/",
     "height": 326
    },
    "executionInfo": {
     "elapsed": 10,
     "status": "ok",
     "timestamp": 1664292030295,
     "user": {
      "displayName": "Serena Gomez",
      "userId": "05959088368982916741"
     },
     "user_tz": -330
    },
    "id": "_z-T3sLi5Wld",
    "outputId": "0a365544-2004-4775-c848-a0bb74f67209"
   },
   "outputs": [
    {
     "data": {
      "text/html": [
       "<div>\n",
       "<style scoped>\n",
       "    .dataframe tbody tr th:only-of-type {\n",
       "        vertical-align: middle;\n",
       "    }\n",
       "\n",
       "    .dataframe tbody tr th {\n",
       "        vertical-align: top;\n",
       "    }\n",
       "\n",
       "    .dataframe thead th {\n",
       "        text-align: right;\n",
       "    }\n",
       "</style>\n",
       "<table border=\"1\" class=\"dataframe\">\n",
       "  <thead>\n",
       "    <tr style=\"text-align: right;\">\n",
       "      <th></th>\n",
       "      <th>url</th>\n",
       "      <th>region</th>\n",
       "      <th>region_url</th>\n",
       "      <th>manufacturer</th>\n",
       "      <th>model</th>\n",
       "      <th>condition</th>\n",
       "      <th>cylinders</th>\n",
       "      <th>fuel</th>\n",
       "      <th>title_status</th>\n",
       "      <th>transmission</th>\n",
       "      <th>VIN</th>\n",
       "      <th>drive</th>\n",
       "      <th>size</th>\n",
       "      <th>type</th>\n",
       "      <th>paint_color</th>\n",
       "      <th>image_url</th>\n",
       "      <th>description</th>\n",
       "      <th>state</th>\n",
       "      <th>posting_date</th>\n",
       "    </tr>\n",
       "  </thead>\n",
       "  <tbody>\n",
       "    <tr>\n",
       "      <th>count</th>\n",
       "      <td>2000</td>\n",
       "      <td>2000</td>\n",
       "      <td>2000</td>\n",
       "      <td>1830</td>\n",
       "      <td>1960</td>\n",
       "      <td>1122</td>\n",
       "      <td>1258</td>\n",
       "      <td>1939</td>\n",
       "      <td>1870</td>\n",
       "      <td>1972</td>\n",
       "      <td>1268</td>\n",
       "      <td>1363</td>\n",
       "      <td>493</td>\n",
       "      <td>1380</td>\n",
       "      <td>1534</td>\n",
       "      <td>1973</td>\n",
       "      <td>1973</td>\n",
       "      <td>2000</td>\n",
       "      <td>1973</td>\n",
       "    </tr>\n",
       "    <tr>\n",
       "      <th>unique</th>\n",
       "      <td>2000</td>\n",
       "      <td>15</td>\n",
       "      <td>15</td>\n",
       "      <td>37</td>\n",
       "      <td>862</td>\n",
       "      <td>5</td>\n",
       "      <td>8</td>\n",
       "      <td>5</td>\n",
       "      <td>5</td>\n",
       "      <td>3</td>\n",
       "      <td>931</td>\n",
       "      <td>3</td>\n",
       "      <td>4</td>\n",
       "      <td>13</td>\n",
       "      <td>12</td>\n",
       "      <td>1511</td>\n",
       "      <td>1698</td>\n",
       "      <td>12</td>\n",
       "      <td>1914</td>\n",
       "    </tr>\n",
       "    <tr>\n",
       "      <th>top</th>\n",
       "      <td>https://prescott.craigslist.org/cto/d/prescott...</td>\n",
       "      <td>birmingham</td>\n",
       "      <td>https://bham.craigslist.org</td>\n",
       "      <td>ford</td>\n",
       "      <td>f-150</td>\n",
       "      <td>good</td>\n",
       "      <td>6 cylinders</td>\n",
       "      <td>gas</td>\n",
       "      <td>clean</td>\n",
       "      <td>automatic</td>\n",
       "      <td>2G4WD582061211256</td>\n",
       "      <td>fwd</td>\n",
       "      <td>full-size</td>\n",
       "      <td>sedan</td>\n",
       "      <td>white</td>\n",
       "      <td>https://images.craigslist.org/00N0N_1xMPvfxRAI...</td>\n",
       "      <td>WE ARE GOING THROUGH A VERY UNCERTAIN TIME WIT...</td>\n",
       "      <td>al</td>\n",
       "      <td>2021-04-08T10:08:47-0500</td>\n",
       "    </tr>\n",
       "    <tr>\n",
       "      <th>freq</th>\n",
       "      <td>1</td>\n",
       "      <td>1647</td>\n",
       "      <td>1647</td>\n",
       "      <td>388</td>\n",
       "      <td>29</td>\n",
       "      <td>704</td>\n",
       "      <td>537</td>\n",
       "      <td>1615</td>\n",
       "      <td>1825</td>\n",
       "      <td>1441</td>\n",
       "      <td>5</td>\n",
       "      <td>507</td>\n",
       "      <td>358</td>\n",
       "      <td>362</td>\n",
       "      <td>564</td>\n",
       "      <td>45</td>\n",
       "      <td>13</td>\n",
       "      <td>1973</td>\n",
       "      <td>4</td>\n",
       "    </tr>\n",
       "  </tbody>\n",
       "</table>\n",
       "</div>"
      ],
      "text/plain": [
       "                                                      url      region  \\\n",
       "count                                                2000        2000   \n",
       "unique                                               2000          15   \n",
       "top     https://prescott.craigslist.org/cto/d/prescott...  birmingham   \n",
       "freq                                                    1        1647   \n",
       "\n",
       "                         region_url manufacturer  model condition  \\\n",
       "count                          2000         1830   1960      1122   \n",
       "unique                           15           37    862         5   \n",
       "top     https://bham.craigslist.org         ford  f-150      good   \n",
       "freq                           1647          388     29       704   \n",
       "\n",
       "          cylinders  fuel title_status transmission                VIN drive  \\\n",
       "count          1258  1939         1870         1972               1268  1363   \n",
       "unique            8     5            5            3                931     3   \n",
       "top     6 cylinders   gas        clean    automatic  2G4WD582061211256   fwd   \n",
       "freq            537  1615         1825         1441                  5   507   \n",
       "\n",
       "             size   type paint_color  \\\n",
       "count         493   1380        1534   \n",
       "unique          4     13          12   \n",
       "top     full-size  sedan       white   \n",
       "freq          358    362         564   \n",
       "\n",
       "                                                image_url  \\\n",
       "count                                                1973   \n",
       "unique                                               1511   \n",
       "top     https://images.craigslist.org/00N0N_1xMPvfxRAI...   \n",
       "freq                                                   45   \n",
       "\n",
       "                                              description state  \\\n",
       "count                                                1973  2000   \n",
       "unique                                               1698    12   \n",
       "top     WE ARE GOING THROUGH A VERY UNCERTAIN TIME WIT...    al   \n",
       "freq                                                   13  1973   \n",
       "\n",
       "                    posting_date  \n",
       "count                       1973  \n",
       "unique                      1914  \n",
       "top     2021-04-08T10:08:47-0500  \n",
       "freq                           4  "
      ]
     },
     "execution_count": 9,
     "metadata": {},
     "output_type": "execute_result"
    }
   ],
   "source": [
    "df.describe(include=['O']) #Categorical data"
   ]
  },
  {
   "cell_type": "code",
   "execution_count": 11,
   "metadata": {
    "colab": {
     "base_uri": "https://localhost:8080/"
    },
    "executionInfo": {
     "elapsed": 841,
     "status": "ok",
     "timestamp": 1664292039659,
     "user": {
      "displayName": "Serena Gomez",
      "userId": "05959088368982916741"
     },
     "user_tz": -330
    },
    "id": "j21IiGeu6HNE",
    "outputId": "abb6d4a8-3835-4495-be26-461fbb2d5d64"
   },
   "outputs": [
    {
     "data": {
      "text/plain": [
       "id              2000\n",
       "url             2000\n",
       "region            15\n",
       "region_url        15\n",
       "price            646\n",
       "year              63\n",
       "manufacturer      37\n",
       "model            862\n",
       "condition          5\n",
       "cylinders          8\n",
       "fuel               5\n",
       "odometer        1300\n",
       "title_status       5\n",
       "transmission       3\n",
       "VIN              931\n",
       "drive              3\n",
       "size               4\n",
       "type              13\n",
       "paint_color       12\n",
       "image_url       1511\n",
       "description     1698\n",
       "county             0\n",
       "state             12\n",
       "lat              320\n",
       "long             320\n",
       "posting_date    1914\n",
       "dtype: int64"
      ]
     },
     "execution_count": 11,
     "metadata": {},
     "output_type": "execute_result"
    }
   ],
   "source": [
    "df.nunique(axis=0) #Number of unique values in each column"
   ]
  },
  {
   "cell_type": "markdown",
   "metadata": {
    "id": "ApSrEJezhwIw"
   },
   "source": [
    "Checking for null values"
   ]
  },
  {
   "cell_type": "code",
   "execution_count": 12,
   "metadata": {
    "colab": {
     "base_uri": "https://localhost:8080/"
    },
    "executionInfo": {
     "elapsed": 5,
     "status": "ok",
     "timestamp": 1664292032868,
     "user": {
      "displayName": "Serena Gomez",
      "userId": "05959088368982916741"
     },
     "user_tz": -330
    },
    "id": "wKVqt3PU55hG",
    "outputId": "e8866598-cf15-40c7-f71f-5b7a331be685"
   },
   "outputs": [
    {
     "data": {
      "text/plain": [
       "id                 0\n",
       "url                0\n",
       "region             0\n",
       "region_url         0\n",
       "price              0\n",
       "year              49\n",
       "manufacturer     170\n",
       "model             40\n",
       "condition        878\n",
       "cylinders        742\n",
       "fuel              61\n",
       "odometer          39\n",
       "title_status     130\n",
       "transmission      28\n",
       "VIN              732\n",
       "drive            637\n",
       "size            1507\n",
       "type             620\n",
       "paint_color      466\n",
       "image_url         27\n",
       "description       27\n",
       "county          2000\n",
       "state              0\n",
       "lat               39\n",
       "long              39\n",
       "posting_date      27\n",
       "dtype: int64"
      ]
     },
     "execution_count": 12,
     "metadata": {},
     "output_type": "execute_result"
    }
   ],
   "source": [
    "df.isnull().sum()"
   ]
  },
  {
   "cell_type": "code",
   "execution_count": 13,
   "metadata": {
    "colab": {
     "base_uri": "https://localhost:8080/",
     "height": 336
    },
    "executionInfo": {
     "elapsed": 460,
     "status": "ok",
     "timestamp": 1664292048339,
     "user": {
      "displayName": "Serena Gomez",
      "userId": "05959088368982916741"
     },
     "user_tz": -330
    },
    "id": "16xMqtK65kMv",
    "outputId": "386374f0-9a0f-42c9-ee4c-f115fa176abd"
   },
   "outputs": [
    {
     "data": {
      "image/png": "[encoded data removed]",
      "text/plain": [
       "<Figure size 1000x600 with 2 Axes>"
      ]
     },
     "metadata": {},
     "output_type": "display_data"
    }
   ],
   "source": [
    "# Visualize missing values using heatmap\n",
    "plt.figure(figsize=(10, 6))  # Optional: Set the figure size for better readability\n",
    "sns.heatmap(df.isnull())\n",
    "plt.title(\"Missing values for each column\")\n",
    "sns.heatmap(df.isnull(),cbar=False,annot=False)\n",
    "plt.show()"
   ]
  },
  {
   "cell_type": "markdown",
   "metadata": {
    "id": "f-KnmfJOjmm1"
   },
   "source": [
    "Printing the number of outliers and Nan values"
   ]
  },
  {
   "cell_type": "code",
   "execution_count": 14,
   "metadata": {
    "colab": {
     "base_uri": "https://localhost:8080/"
    },
    "executionInfo": {
     "elapsed": 374,
     "status": "ok",
     "timestamp": 1664292315585,
     "user": {
      "displayName": "Serena Gomez",
      "userId": "05959088368982916741"
     },
     "user_tz": -330
    },
    "id": "1MABayuUi74M",
    "outputId": "02b38d86-52a1-424d-d215-ba8e4a515b9b"
   },
   "outputs": [
    {
     "data": {
      "text/html": [
       "<div>\n",
       "<style scoped>\n",
       "    .dataframe tbody tr th:only-of-type {\n",
       "        vertical-align: middle;\n",
       "    }\n",
       "\n",
       "    .dataframe tbody tr th {\n",
       "        vertical-align: top;\n",
       "    }\n",
       "\n",
       "    .dataframe thead th {\n",
       "        text-align: right;\n",
       "    }\n",
       "</style>\n",
       "<table border=\"1\" class=\"dataframe\">\n",
       "  <thead>\n",
       "    <tr style=\"text-align: right;\">\n",
       "      <th></th>\n",
       "      <th>id</th>\n",
       "      <th>price</th>\n",
       "      <th>year</th>\n",
       "      <th>odometer</th>\n",
       "      <th>county</th>\n",
       "      <th>lat</th>\n",
       "      <th>long</th>\n",
       "    </tr>\n",
       "  </thead>\n",
       "  <tbody>\n",
       "    <tr>\n",
       "      <th>0</th>\n",
       "      <td>7222695916</td>\n",
       "      <td>6000</td>\n",
       "      <td>NaN</td>\n",
       "      <td>NaN</td>\n",
       "      <td>NaN</td>\n",
       "      <td>NaN</td>\n",
       "      <td>NaN</td>\n",
       "    </tr>\n",
       "    <tr>\n",
       "      <th>1</th>\n",
       "      <td>7218891961</td>\n",
       "      <td>11900</td>\n",
       "      <td>NaN</td>\n",
       "      <td>NaN</td>\n",
       "      <td>NaN</td>\n",
       "      <td>NaN</td>\n",
       "      <td>NaN</td>\n",
       "    </tr>\n",
       "    <tr>\n",
       "      <th>2</th>\n",
       "      <td>7221797935</td>\n",
       "      <td>21000</td>\n",
       "      <td>NaN</td>\n",
       "      <td>NaN</td>\n",
       "      <td>NaN</td>\n",
       "      <td>NaN</td>\n",
       "      <td>NaN</td>\n",
       "    </tr>\n",
       "    <tr>\n",
       "      <th>3</th>\n",
       "      <td>7222270760</td>\n",
       "      <td>1500</td>\n",
       "      <td>NaN</td>\n",
       "      <td>NaN</td>\n",
       "      <td>NaN</td>\n",
       "      <td>NaN</td>\n",
       "      <td>NaN</td>\n",
       "    </tr>\n",
       "    <tr>\n",
       "      <th>4</th>\n",
       "      <td>7210384030</td>\n",
       "      <td>4900</td>\n",
       "      <td>NaN</td>\n",
       "      <td>NaN</td>\n",
       "      <td>NaN</td>\n",
       "      <td>NaN</td>\n",
       "      <td>NaN</td>\n",
       "    </tr>\n",
       "    <tr>\n",
       "      <th>...</th>\n",
       "      <td>...</td>\n",
       "      <td>...</td>\n",
       "      <td>...</td>\n",
       "      <td>...</td>\n",
       "      <td>...</td>\n",
       "      <td>...</td>\n",
       "      <td>...</td>\n",
       "    </tr>\n",
       "    <tr>\n",
       "      <th>1995</th>\n",
       "      <td>7309035025</td>\n",
       "      <td>2000</td>\n",
       "      <td>2005.0</td>\n",
       "      <td>165000.0</td>\n",
       "      <td>NaN</td>\n",
       "      <td>31.408000</td>\n",
       "      <td>-85.603000</td>\n",
       "    </tr>\n",
       "    <tr>\n",
       "      <th>1996</th>\n",
       "      <td>7308972392</td>\n",
       "      <td>17860</td>\n",
       "      <td>2014.0</td>\n",
       "      <td>108321.0</td>\n",
       "      <td>NaN</td>\n",
       "      <td>29.801374</td>\n",
       "      <td>-82.531052</td>\n",
       "    </tr>\n",
       "    <tr>\n",
       "      <th>1997</th>\n",
       "      <td>7308971633</td>\n",
       "      <td>54488</td>\n",
       "      <td>2020.0</td>\n",
       "      <td>5459.0</td>\n",
       "      <td>NaN</td>\n",
       "      <td>29.802119</td>\n",
       "      <td>-82.529850</td>\n",
       "    </tr>\n",
       "    <tr>\n",
       "      <th>1998</th>\n",
       "      <td>7308831024</td>\n",
       "      <td>33990</td>\n",
       "      <td>2017.0</td>\n",
       "      <td>17033.0</td>\n",
       "      <td>NaN</td>\n",
       "      <td>31.230000</td>\n",
       "      <td>-85.400000</td>\n",
       "    </tr>\n",
       "    <tr>\n",
       "      <th>1999</th>\n",
       "      <td>7308801755</td>\n",
       "      <td>3</td>\n",
       "      <td>2020.0</td>\n",
       "      <td>10.0</td>\n",
       "      <td>NaN</td>\n",
       "      <td>29.803337</td>\n",
       "      <td>-82.528074</td>\n",
       "    </tr>\n",
       "  </tbody>\n",
       "</table>\n",
       "<p>2000 rows × 7 columns</p>\n",
       "</div>"
      ],
      "text/plain": [
       "              id  price    year  odometer  county        lat       long\n",
       "0     7222695916   6000     NaN       NaN     NaN        NaN        NaN\n",
       "1     7218891961  11900     NaN       NaN     NaN        NaN        NaN\n",
       "2     7221797935  21000     NaN       NaN     NaN        NaN        NaN\n",
       "3     7222270760   1500     NaN       NaN     NaN        NaN        NaN\n",
       "4     7210384030   4900     NaN       NaN     NaN        NaN        NaN\n",
       "...          ...    ...     ...       ...     ...        ...        ...\n",
       "1995  7309035025   2000  2005.0  165000.0     NaN  31.408000 -85.603000\n",
       "1996  7308972392  17860  2014.0  108321.0     NaN  29.801374 -82.531052\n",
       "1997  7308971633  54488  2020.0    5459.0     NaN  29.802119 -82.529850\n",
       "1998  7308831024  33990  2017.0   17033.0     NaN  31.230000 -85.400000\n",
       "1999  7308801755      3  2020.0      10.0     NaN  29.803337 -82.528074\n",
       "\n",
       "[2000 rows x 7 columns]"
      ]
     },
     "execution_count": 14,
     "metadata": {},
     "output_type": "execute_result"
    }
   ],
   "source": [
    "numerics = ['int16', 'int32', 'int64', 'float16', 'float32', 'float64']\n",
    "numeric_df = df.select_dtypes(include=numerics)\n",
    "numeric_df #dataframe consisting of numeric columns"
   ]
  },
  {
   "cell_type": "code",
   "execution_count": 15,
   "metadata": {
    "colab": {
     "base_uri": "https://localhost:8080/",
     "height": 869
    },
    "executionInfo": {
     "elapsed": 595,
     "status": "ok",
     "timestamp": 1664292906403,
     "user": {
      "displayName": "Serena Gomez",
      "userId": "05959088368982916741"
     },
     "user_tz": -330
    },
    "id": "FhSoxrtxlYLg",
    "outputId": "f9993033-4a46-4a42-9934-0342ed3874d2"
   },
   "outputs": [
    {
     "data": {
      "text/html": [
       "<div>\n",
       "<style scoped>\n",
       "    .dataframe tbody tr th:only-of-type {\n",
       "        vertical-align: middle;\n",
       "    }\n",
       "\n",
       "    .dataframe tbody tr th {\n",
       "        vertical-align: top;\n",
       "    }\n",
       "\n",
       "    .dataframe thead th {\n",
       "        text-align: right;\n",
       "    }\n",
       "</style>\n",
       "<table border=\"1\" class=\"dataframe\">\n",
       "  <thead>\n",
       "    <tr style=\"text-align: right;\">\n",
       "      <th></th>\n",
       "      <th>url</th>\n",
       "      <th>region</th>\n",
       "      <th>region_url</th>\n",
       "      <th>manufacturer</th>\n",
       "      <th>model</th>\n",
       "      <th>condition</th>\n",
       "      <th>cylinders</th>\n",
       "      <th>fuel</th>\n",
       "      <th>title_status</th>\n",
       "      <th>transmission</th>\n",
       "      <th>VIN</th>\n",
       "      <th>drive</th>\n",
       "      <th>size</th>\n",
       "      <th>type</th>\n",
       "      <th>paint_color</th>\n",
       "      <th>image_url</th>\n",
       "      <th>description</th>\n",
       "      <th>state</th>\n",
       "      <th>posting_date</th>\n",
       "    </tr>\n",
       "  </thead>\n",
       "  <tbody>\n",
       "    <tr>\n",
       "      <th>0</th>\n",
       "      <td>https://prescott.craigslist.org/cto/d/prescott...</td>\n",
       "      <td>prescott</td>\n",
       "      <td>https://prescott.craigslist.org</td>\n",
       "      <td>NaN</td>\n",
       "      <td>NaN</td>\n",
       "      <td>NaN</td>\n",
       "      <td>NaN</td>\n",
       "      <td>NaN</td>\n",
       "      <td>NaN</td>\n",
       "      <td>NaN</td>\n",
       "      <td>NaN</td>\n",
       "      <td>NaN</td>\n",
       "      <td>NaN</td>\n",
       "      <td>NaN</td>\n",
       "      <td>NaN</td>\n",
       "      <td>NaN</td>\n",
       "      <td>NaN</td>\n",
       "      <td>az</td>\n",
       "      <td>NaN</td>\n",
       "    </tr>\n",
       "    <tr>\n",
       "      <th>1</th>\n",
       "      <td>https://fayar.craigslist.org/ctd/d/bentonville...</td>\n",
       "      <td>fayetteville</td>\n",
       "      <td>https://fayar.craigslist.org</td>\n",
       "      <td>NaN</td>\n",
       "      <td>NaN</td>\n",
       "      <td>NaN</td>\n",
       "      <td>NaN</td>\n",
       "      <td>NaN</td>\n",
       "      <td>NaN</td>\n",
       "      <td>NaN</td>\n",
       "      <td>NaN</td>\n",
       "      <td>NaN</td>\n",
       "      <td>NaN</td>\n",
       "      <td>NaN</td>\n",
       "      <td>NaN</td>\n",
       "      <td>NaN</td>\n",
       "      <td>NaN</td>\n",
       "      <td>ar</td>\n",
       "      <td>NaN</td>\n",
       "    </tr>\n",
       "    <tr>\n",
       "      <th>2</th>\n",
       "      <td>https://keys.craigslist.org/cto/d/summerland-k...</td>\n",
       "      <td>florida keys</td>\n",
       "      <td>https://keys.craigslist.org</td>\n",
       "      <td>NaN</td>\n",
       "      <td>NaN</td>\n",
       "      <td>NaN</td>\n",
       "      <td>NaN</td>\n",
       "      <td>NaN</td>\n",
       "      <td>NaN</td>\n",
       "      <td>NaN</td>\n",
       "      <td>NaN</td>\n",
       "      <td>NaN</td>\n",
       "      <td>NaN</td>\n",
       "      <td>NaN</td>\n",
       "      <td>NaN</td>\n",
       "      <td>NaN</td>\n",
       "      <td>NaN</td>\n",
       "      <td>fl</td>\n",
       "      <td>NaN</td>\n",
       "    </tr>\n",
       "    <tr>\n",
       "      <th>3</th>\n",
       "      <td>https://worcester.craigslist.org/cto/d/west-br...</td>\n",
       "      <td>worcester / central MA</td>\n",
       "      <td>https://worcester.craigslist.org</td>\n",
       "      <td>NaN</td>\n",
       "      <td>NaN</td>\n",
       "      <td>NaN</td>\n",
       "      <td>NaN</td>\n",
       "      <td>NaN</td>\n",
       "      <td>NaN</td>\n",
       "      <td>NaN</td>\n",
       "      <td>NaN</td>\n",
       "      <td>NaN</td>\n",
       "      <td>NaN</td>\n",
       "      <td>NaN</td>\n",
       "      <td>NaN</td>\n",
       "      <td>NaN</td>\n",
       "      <td>NaN</td>\n",
       "      <td>ma</td>\n",
       "      <td>NaN</td>\n",
       "    </tr>\n",
       "    <tr>\n",
       "      <th>4</th>\n",
       "      <td>https://greensboro.craigslist.org/cto/d/trinit...</td>\n",
       "      <td>greensboro</td>\n",
       "      <td>https://greensboro.craigslist.org</td>\n",
       "      <td>NaN</td>\n",
       "      <td>NaN</td>\n",
       "      <td>NaN</td>\n",
       "      <td>NaN</td>\n",
       "      <td>NaN</td>\n",
       "      <td>NaN</td>\n",
       "      <td>NaN</td>\n",
       "      <td>NaN</td>\n",
       "      <td>NaN</td>\n",
       "      <td>NaN</td>\n",
       "      <td>NaN</td>\n",
       "      <td>NaN</td>\n",
       "      <td>NaN</td>\n",
       "      <td>NaN</td>\n",
       "      <td>nc</td>\n",
       "      <td>NaN</td>\n",
       "    </tr>\n",
       "    <tr>\n",
       "      <th>...</th>\n",
       "      <td>...</td>\n",
       "      <td>...</td>\n",
       "      <td>...</td>\n",
       "      <td>...</td>\n",
       "      <td>...</td>\n",
       "      <td>...</td>\n",
       "      <td>...</td>\n",
       "      <td>...</td>\n",
       "      <td>...</td>\n",
       "      <td>...</td>\n",
       "      <td>...</td>\n",
       "      <td>...</td>\n",
       "      <td>...</td>\n",
       "      <td>...</td>\n",
       "      <td>...</td>\n",
       "      <td>...</td>\n",
       "      <td>...</td>\n",
       "      <td>...</td>\n",
       "      <td>...</td>\n",
       "    </tr>\n",
       "    <tr>\n",
       "      <th>1995</th>\n",
       "      <td>https://dothan.craigslist.org/cto/d/ozark-2005...</td>\n",
       "      <td>dothan</td>\n",
       "      <td>https://dothan.craigslist.org</td>\n",
       "      <td>ford</td>\n",
       "      <td>five hundred</td>\n",
       "      <td>good</td>\n",
       "      <td>6 cylinders</td>\n",
       "      <td>gas</td>\n",
       "      <td>clean</td>\n",
       "      <td>automatic</td>\n",
       "      <td>NaN</td>\n",
       "      <td>fwd</td>\n",
       "      <td>full-size</td>\n",
       "      <td>sedan</td>\n",
       "      <td>black</td>\n",
       "      <td>https://images.craigslist.org/01212_718RdXaGws...</td>\n",
       "      <td>4 door, 6 cylinder, black, everything works, a...</td>\n",
       "      <td>al</td>\n",
       "      <td>2021-04-18T19:52:18-0500</td>\n",
       "    </tr>\n",
       "    <tr>\n",
       "      <th>1996</th>\n",
       "      <td>https://dothan.craigslist.org/ctd/d/alachua-20...</td>\n",
       "      <td>dothan</td>\n",
       "      <td>https://dothan.craigslist.org</td>\n",
       "      <td>jeep</td>\n",
       "      <td>grand cherokee limited</td>\n",
       "      <td>NaN</td>\n",
       "      <td>NaN</td>\n",
       "      <td>gas</td>\n",
       "      <td>clean</td>\n",
       "      <td>automatic</td>\n",
       "      <td>NaN</td>\n",
       "      <td>NaN</td>\n",
       "      <td>NaN</td>\n",
       "      <td>NaN</td>\n",
       "      <td>NaN</td>\n",
       "      <td>https://images.craigslist.org/00O0O_ijP2Qx9vMi...</td>\n",
       "      <td>2014 JEEP GRAND CHEROKEE LIMITED ~ Hundreds of...</td>\n",
       "      <td>al</td>\n",
       "      <td>2021-04-18T17:15:59-0500</td>\n",
       "    </tr>\n",
       "    <tr>\n",
       "      <th>1997</th>\n",
       "      <td>https://dothan.craigslist.org/ctd/d/alachua-20...</td>\n",
       "      <td>dothan</td>\n",
       "      <td>https://dothan.craigslist.org</td>\n",
       "      <td>ford</td>\n",
       "      <td>f-150 lariat 4wd</td>\n",
       "      <td>NaN</td>\n",
       "      <td>NaN</td>\n",
       "      <td>gas</td>\n",
       "      <td>clean</td>\n",
       "      <td>automatic</td>\n",
       "      <td>NaN</td>\n",
       "      <td>NaN</td>\n",
       "      <td>NaN</td>\n",
       "      <td>NaN</td>\n",
       "      <td>NaN</td>\n",
       "      <td>https://images.craigslist.org/00U0U_dTOexEOB2l...</td>\n",
       "      <td>2020 FORD F-150 LARIAT 4WD / F150 4X4 TRUCK ~ ...</td>\n",
       "      <td>al</td>\n",
       "      <td>2021-04-18T17:14:22-0500</td>\n",
       "    </tr>\n",
       "    <tr>\n",
       "      <th>1998</th>\n",
       "      <td>https://dothan.craigslist.org/ctd/d/dothan-201...</td>\n",
       "      <td>dothan</td>\n",
       "      <td>https://dothan.craigslist.org</td>\n",
       "      <td>ram</td>\n",
       "      <td>1500 crew cab tradesman</td>\n",
       "      <td>good</td>\n",
       "      <td>8 cylinders</td>\n",
       "      <td>gas</td>\n",
       "      <td>clean</td>\n",
       "      <td>other</td>\n",
       "      <td>3C6RR7KT7HG794054</td>\n",
       "      <td>4wd</td>\n",
       "      <td>NaN</td>\n",
       "      <td>pickup</td>\n",
       "      <td>blue</td>\n",
       "      <td>https://images.craigslist.org/00Y0Y_jRbwm0dSjS...</td>\n",
       "      <td>Carvana is the safer way to buy a car During t...</td>\n",
       "      <td>al</td>\n",
       "      <td>2021-04-18T12:50:51-0500</td>\n",
       "    </tr>\n",
       "    <tr>\n",
       "      <th>1999</th>\n",
       "      <td>https://dothan.craigslist.org/ctd/d/alachua-20...</td>\n",
       "      <td>dothan</td>\n",
       "      <td>https://dothan.craigslist.org</td>\n",
       "      <td>ford</td>\n",
       "      <td>fusion se sedan</td>\n",
       "      <td>NaN</td>\n",
       "      <td>NaN</td>\n",
       "      <td>gas</td>\n",
       "      <td>clean</td>\n",
       "      <td>automatic</td>\n",
       "      <td>NaN</td>\n",
       "      <td>NaN</td>\n",
       "      <td>NaN</td>\n",
       "      <td>NaN</td>\n",
       "      <td>NaN</td>\n",
       "      <td>https://images.craigslist.org/00E0E_b3RHuW4jYv...</td>\n",
       "      <td>2020 FORD FUSION SE SEDAN ~ Hundreds of NEW &amp; ...</td>\n",
       "      <td>al</td>\n",
       "      <td>2021-04-18T11:59:35-0500</td>\n",
       "    </tr>\n",
       "  </tbody>\n",
       "</table>\n",
       "<p>2000 rows × 19 columns</p>\n",
       "</div>"
      ],
      "text/plain": [
       "                                                    url  \\\n",
       "0     https://prescott.craigslist.org/cto/d/prescott...   \n",
       "1     https://fayar.craigslist.org/ctd/d/bentonville...   \n",
       "2     https://keys.craigslist.org/cto/d/summerland-k...   \n",
       "3     https://worcester.craigslist.org/cto/d/west-br...   \n",
       "4     https://greensboro.craigslist.org/cto/d/trinit...   \n",
       "...                                                 ...   \n",
       "1995  https://dothan.craigslist.org/cto/d/ozark-2005...   \n",
       "1996  https://dothan.craigslist.org/ctd/d/alachua-20...   \n",
       "1997  https://dothan.craigslist.org/ctd/d/alachua-20...   \n",
       "1998  https://dothan.craigslist.org/ctd/d/dothan-201...   \n",
       "1999  https://dothan.craigslist.org/ctd/d/alachua-20...   \n",
       "\n",
       "                      region                         region_url manufacturer  \\\n",
       "0                   prescott    https://prescott.craigslist.org          NaN   \n",
       "1               fayetteville       https://fayar.craigslist.org          NaN   \n",
       "2               florida keys        https://keys.craigslist.org          NaN   \n",
       "3     worcester / central MA   https://worcester.craigslist.org          NaN   \n",
       "4                 greensboro  https://greensboro.craigslist.org          NaN   \n",
       "...                      ...                                ...          ...   \n",
       "1995                  dothan      https://dothan.craigslist.org         ford   \n",
       "1996                  dothan      https://dothan.craigslist.org         jeep   \n",
       "1997                  dothan      https://dothan.craigslist.org         ford   \n",
       "1998                  dothan      https://dothan.craigslist.org          ram   \n",
       "1999                  dothan      https://dothan.craigslist.org         ford   \n",
       "\n",
       "                        model condition    cylinders fuel title_status  \\\n",
       "0                         NaN       NaN          NaN  NaN          NaN   \n",
       "1                         NaN       NaN          NaN  NaN          NaN   \n",
       "2                         NaN       NaN          NaN  NaN          NaN   \n",
       "3                         NaN       NaN          NaN  NaN          NaN   \n",
       "4                         NaN       NaN          NaN  NaN          NaN   \n",
       "...                       ...       ...          ...  ...          ...   \n",
       "1995             five hundred      good  6 cylinders  gas        clean   \n",
       "1996   grand cherokee limited       NaN          NaN  gas        clean   \n",
       "1997         f-150 lariat 4wd       NaN          NaN  gas        clean   \n",
       "1998  1500 crew cab tradesman      good  8 cylinders  gas        clean   \n",
       "1999          fusion se sedan       NaN          NaN  gas        clean   \n",
       "\n",
       "     transmission                VIN drive       size    type paint_color  \\\n",
       "0             NaN                NaN   NaN        NaN     NaN         NaN   \n",
       "1             NaN                NaN   NaN        NaN     NaN         NaN   \n",
       "2             NaN                NaN   NaN        NaN     NaN         NaN   \n",
       "3             NaN                NaN   NaN        NaN     NaN         NaN   \n",
       "4             NaN                NaN   NaN        NaN     NaN         NaN   \n",
       "...           ...                ...   ...        ...     ...         ...   \n",
       "1995    automatic                NaN   fwd  full-size   sedan       black   \n",
       "1996    automatic                NaN   NaN        NaN     NaN         NaN   \n",
       "1997    automatic                NaN   NaN        NaN     NaN         NaN   \n",
       "1998        other  3C6RR7KT7HG794054   4wd        NaN  pickup        blue   \n",
       "1999    automatic                NaN   NaN        NaN     NaN         NaN   \n",
       "\n",
       "                                              image_url  \\\n",
       "0                                                   NaN   \n",
       "1                                                   NaN   \n",
       "2                                                   NaN   \n",
       "3                                                   NaN   \n",
       "4                                                   NaN   \n",
       "...                                                 ...   \n",
       "1995  https://images.craigslist.org/01212_718RdXaGws...   \n",
       "1996  https://images.craigslist.org/00O0O_ijP2Qx9vMi...   \n",
       "1997  https://images.craigslist.org/00U0U_dTOexEOB2l...   \n",
       "1998  https://images.craigslist.org/00Y0Y_jRbwm0dSjS...   \n",
       "1999  https://images.craigslist.org/00E0E_b3RHuW4jYv...   \n",
       "\n",
       "                                            description state  \\\n",
       "0                                                   NaN    az   \n",
       "1                                                   NaN    ar   \n",
       "2                                                   NaN    fl   \n",
       "3                                                   NaN    ma   \n",
       "4                                                   NaN    nc   \n",
       "...                                                 ...   ...   \n",
       "1995  4 door, 6 cylinder, black, everything works, a...    al   \n",
       "1996  2014 JEEP GRAND CHEROKEE LIMITED ~ Hundreds of...    al   \n",
       "1997  2020 FORD F-150 LARIAT 4WD / F150 4X4 TRUCK ~ ...    al   \n",
       "1998  Carvana is the safer way to buy a car During t...    al   \n",
       "1999  2020 FORD FUSION SE SEDAN ~ Hundreds of NEW & ...    al   \n",
       "\n",
       "                  posting_date  \n",
       "0                          NaN  \n",
       "1                          NaN  \n",
       "2                          NaN  \n",
       "3                          NaN  \n",
       "4                          NaN  \n",
       "...                        ...  \n",
       "1995  2021-04-18T19:52:18-0500  \n",
       "1996  2021-04-18T17:15:59-0500  \n",
       "1997  2021-04-18T17:14:22-0500  \n",
       "1998  2021-04-18T12:50:51-0500  \n",
       "1999  2021-04-18T11:59:35-0500  \n",
       "\n",
       "[2000 rows x 19 columns]"
      ]
     },
     "execution_count": 15,
     "metadata": {},
     "output_type": "execute_result"
    }
   ],
   "source": [
    "categorical_df = df.select_dtypes(include='object')\n",
    "categorical_df"
   ]
  },
  {
   "cell_type": "code",
   "execution_count": 16,
   "metadata": {
    "colab": {
     "base_uri": "https://localhost:8080/"
    },
    "executionInfo": {
     "elapsed": 931,
     "status": "ok",
     "timestamp": 1664292544221,
     "user": {
      "displayName": "Serena Gomez",
      "userId": "05959088368982916741"
     },
     "user_tz": -330
    },
    "id": "xopiZ5BTiWL2",
    "outputId": "35a1ebcf-551a-41b3-b6ba-645c091cdadb"
   },
   "outputs": [
    {
     "name": "stdout",
     "output_type": "stream",
     "text": [
      "Column Name :  id\n",
      "Number of NUll values :  0\n",
      "Number of Outliers :  27\n",
      "-----------------------------\n",
      "Column Name :  price\n",
      "Number of NUll values :  0\n",
      "Number of Outliers :  2\n",
      "-----------------------------\n",
      "Column Name :  year\n",
      "Number of NUll values :  49\n",
      "Number of Outliers :  61\n",
      "-----------------------------\n",
      "Column Name :  odometer\n",
      "Number of NUll values :  39\n",
      "Number of Outliers :  21\n",
      "-----------------------------\n",
      "Column Name :  county\n",
      "Number of NUll values :  2000\n",
      "Number of Outliers :  0\n",
      "-----------------------------\n",
      "Column Name :  lat\n",
      "Number of NUll values :  39\n",
      "Number of Outliers :  143\n",
      "-----------------------------\n",
      "Column Name :  long\n",
      "Number of NUll values :  39\n",
      "Number of Outliers :  144\n",
      "-----------------------------\n"
     ]
    }
   ],
   "source": [
    "for (columnName, columnData) in numeric_df.items():\n",
    "   avg = columnData.mean()\n",
    "   std_dev = columnData.std()\n",
    "   print('Column Name : ', columnName)\n",
    "   print('Number of NUll values : ', columnData.isnull().sum())\n",
    "   print('Number of Outliers : ',((columnData < (avg - 2 * std_dev)) |(columnData > (avg + 2 * std_dev))).sum())\n",
    "   print(\"-----------------------------\")"
   ]
  },
  {
   "cell_type": "markdown",
   "metadata": {
    "id": "B4R5TPvbjucl"
   },
   "source": [
    "**Removing the outliers**\n",
    "\n",
    "Checking for outliers for columns containing numerical values\n",
    "\n",
    "Returns a matrix containing only True or False values"
   ]
  },
  {
   "cell_type": "code",
   "execution_count": 17,
   "metadata": {
    "colab": {
     "base_uri": "https://localhost:8080/"
    },
    "executionInfo": {
     "elapsed": 6,
     "status": "ok",
     "timestamp": 1664292550481,
     "user": {
      "displayName": "Serena Gomez",
      "userId": "05959088368982916741"
     },
     "user_tz": -330
    },
    "id": "P7kKeiVbjtcO",
    "outputId": "0de8600e-a0dd-4df6-f972-cc9748ce07f9"
   },
   "outputs": [
    {
     "data": {
      "text/html": [
       "<div>\n",
       "<style scoped>\n",
       "    .dataframe tbody tr th:only-of-type {\n",
       "        vertical-align: middle;\n",
       "    }\n",
       "\n",
       "    .dataframe tbody tr th {\n",
       "        vertical-align: top;\n",
       "    }\n",
       "\n",
       "    .dataframe thead th {\n",
       "        text-align: right;\n",
       "    }\n",
       "</style>\n",
       "<table border=\"1\" class=\"dataframe\">\n",
       "  <thead>\n",
       "    <tr style=\"text-align: right;\">\n",
       "      <th></th>\n",
       "      <th>id</th>\n",
       "      <th>price</th>\n",
       "      <th>year</th>\n",
       "      <th>odometer</th>\n",
       "      <th>county</th>\n",
       "      <th>lat</th>\n",
       "      <th>long</th>\n",
       "    </tr>\n",
       "  </thead>\n",
       "  <tbody>\n",
       "    <tr>\n",
       "      <th>0</th>\n",
       "      <td>True</td>\n",
       "      <td>False</td>\n",
       "      <td>False</td>\n",
       "      <td>False</td>\n",
       "      <td>False</td>\n",
       "      <td>False</td>\n",
       "      <td>False</td>\n",
       "    </tr>\n",
       "    <tr>\n",
       "      <th>1</th>\n",
       "      <td>True</td>\n",
       "      <td>False</td>\n",
       "      <td>False</td>\n",
       "      <td>False</td>\n",
       "      <td>False</td>\n",
       "      <td>False</td>\n",
       "      <td>False</td>\n",
       "    </tr>\n",
       "    <tr>\n",
       "      <th>2</th>\n",
       "      <td>True</td>\n",
       "      <td>False</td>\n",
       "      <td>False</td>\n",
       "      <td>False</td>\n",
       "      <td>False</td>\n",
       "      <td>False</td>\n",
       "      <td>False</td>\n",
       "    </tr>\n",
       "    <tr>\n",
       "      <th>3</th>\n",
       "      <td>True</td>\n",
       "      <td>False</td>\n",
       "      <td>False</td>\n",
       "      <td>False</td>\n",
       "      <td>False</td>\n",
       "      <td>False</td>\n",
       "      <td>False</td>\n",
       "    </tr>\n",
       "    <tr>\n",
       "      <th>4</th>\n",
       "      <td>True</td>\n",
       "      <td>False</td>\n",
       "      <td>False</td>\n",
       "      <td>False</td>\n",
       "      <td>False</td>\n",
       "      <td>False</td>\n",
       "      <td>False</td>\n",
       "    </tr>\n",
       "    <tr>\n",
       "      <th>...</th>\n",
       "      <td>...</td>\n",
       "      <td>...</td>\n",
       "      <td>...</td>\n",
       "      <td>...</td>\n",
       "      <td>...</td>\n",
       "      <td>...</td>\n",
       "      <td>...</td>\n",
       "    </tr>\n",
       "    <tr>\n",
       "      <th>1995</th>\n",
       "      <td>False</td>\n",
       "      <td>False</td>\n",
       "      <td>False</td>\n",
       "      <td>False</td>\n",
       "      <td>False</td>\n",
       "      <td>False</td>\n",
       "      <td>False</td>\n",
       "    </tr>\n",
       "    <tr>\n",
       "      <th>1996</th>\n",
       "      <td>False</td>\n",
       "      <td>False</td>\n",
       "      <td>False</td>\n",
       "      <td>False</td>\n",
       "      <td>False</td>\n",
       "      <td>False</td>\n",
       "      <td>False</td>\n",
       "    </tr>\n",
       "    <tr>\n",
       "      <th>1997</th>\n",
       "      <td>False</td>\n",
       "      <td>False</td>\n",
       "      <td>False</td>\n",
       "      <td>False</td>\n",
       "      <td>False</td>\n",
       "      <td>False</td>\n",
       "      <td>False</td>\n",
       "    </tr>\n",
       "    <tr>\n",
       "      <th>1998</th>\n",
       "      <td>False</td>\n",
       "      <td>False</td>\n",
       "      <td>False</td>\n",
       "      <td>False</td>\n",
       "      <td>False</td>\n",
       "      <td>False</td>\n",
       "      <td>False</td>\n",
       "    </tr>\n",
       "    <tr>\n",
       "      <th>1999</th>\n",
       "      <td>False</td>\n",
       "      <td>False</td>\n",
       "      <td>False</td>\n",
       "      <td>False</td>\n",
       "      <td>False</td>\n",
       "      <td>False</td>\n",
       "      <td>False</td>\n",
       "    </tr>\n",
       "  </tbody>\n",
       "</table>\n",
       "<p>2000 rows × 7 columns</p>\n",
       "</div>"
      ],
      "text/plain": [
       "         id  price   year  odometer  county    lat   long\n",
       "0      True  False  False     False   False  False  False\n",
       "1      True  False  False     False   False  False  False\n",
       "2      True  False  False     False   False  False  False\n",
       "3      True  False  False     False   False  False  False\n",
       "4      True  False  False     False   False  False  False\n",
       "...     ...    ...    ...       ...     ...    ...    ...\n",
       "1995  False  False  False     False   False  False  False\n",
       "1996  False  False  False     False   False  False  False\n",
       "1997  False  False  False     False   False  False  False\n",
       "1998  False  False  False     False   False  False  False\n",
       "1999  False  False  False     False   False  False  False\n",
       "\n",
       "[2000 rows x 7 columns]"
      ]
     },
     "execution_count": 17,
     "metadata": {},
     "output_type": "execute_result"
    }
   ],
   "source": [
    "avg = numeric_df.mean()\n",
    "std_dev = numeric_df.std()\n",
    "outlier_df = ((numeric_df < (avg - 2 * std_dev)) |(numeric_df > (avg + 2 * std_dev)))\n",
    "outlier_df"
   ]
  },
  {
   "cell_type": "markdown",
   "metadata": {
    "id": "Jfw7qQsLkgsZ"
   },
   "source": [
    "Merging the first three columns with the matrix and\n",
    "\n",
    "Appending the number of outliers in each row into a list\n"
   ]
  },
  {
   "cell_type": "code",
   "execution_count": 19,
   "metadata": {
    "colab": {
     "base_uri": "https://localhost:8080/"
    },
    "executionInfo": {
     "elapsed": 611,
     "status": "ok",
     "timestamp": 1664292993596,
     "user": {
      "displayName": "Serena Gomez",
      "userId": "05959088368982916741"
     },
     "user_tz": -330
    },
    "id": "2IN-Vl7OkfTZ",
    "outputId": "6b63ae89-2f54-4522-f2e0-b5f8c8ba43d4"
   },
   "outputs": [
    {
     "name": "stdout",
     "output_type": "stream",
     "text": [
      "[1, 1, 1, 1, 1, 1, 1, 1, 1, 1, 1, 1, 1, 1, 1, 1, 1, 1, 1, 1, 1, 1, 1, 1, 1, 1, 1, 0, 0, 0, 0, 0, 0, 0, 0, 0, 0, 0, 0, 0, 0, 0, 0, 0, 0, 0, 0, 0, 0, 0, 0, 0, 0, 0, 0, 0, 0, 0, 0, 0, 0, 0, 0, 0, 0, 0, 0, 0, 0, 0, 0, 0, 0, 0, 0, 0, 0, 0, 0, 0, 0, 0, 0, 0, 0, 0, 0, 0, 0, 0, 0, 0, 0, 0, 0, 0, 0, 0, 0, 0, 0, 1, 0, 0, 0, 0, 0, 0, 0, 0, 0, 0, 0, 0, 0, 0, 0, 0, 0, 0, 0, 0, 0, 0, 0, 0, 0, 0, 0, 0, 0, 0, 0, 0, 0, 0, 0, 1, 0, 0, 0, 0, 0, 0, 0, 0, 0, 0, 0, 0, 0, 0, 0, 0, 0, 0, 0, 0, 0, 0, 0, 0, 0, 0, 0, 0, 0, 0, 0, 0, 0, 0, 0, 0, 0, 0, 0, 0, 0, 0, 0, 0, 0, 0, 0, 0, 0, 0, 0, 0, 0, 0, 0, 0, 0, 0, 0, 0, 0, 0, 0, 0, 0, 0, 0, 0, 0, 0, 1, 0, 1, 0, 0, 0, 0, 0, 0, 0, 0, 0, 1, 0, 0, 0, 0, 0, 0, 0, 1, 1, 0, 0, 0, 0, 1, 0, 0, 1, 0, 0, 2, 0, 0, 0, 0, 1, 0, 0, 0, 0, 0, 0, 0, 0, 0, 0, 0, 0, 0, 0, 0, 0, 0, 0, 1, 0, 0, 0, 0, 0, 0, 1, 0, 0, 0, 0, 0, 0, 0, 0, 2, 0, 0, 0, 0, 0, 0, 0, 0, 0, 0, 0, 0, 0, 0, 0, 0, 0, 0, 0, 0, 0, 0, 0, 0, 0, 1, 0, 0, 0, 0, 0, 0, 0, 0, 0, 0, 0, 0, 0, 0, 0, 0, 0, 0, 0, 0, 0, 0, 0, 0, 0, 0, 0, 0, 0, 0, 0, 1, 0, 0, 0, 0, 0, 0, 0, 0, 0, 0, 0, 0, 0, 0, 0, 0, 0, 0, 0, 0, 0, 0, 0, 0, 0, 0, 0, 0, 0, 0, 0, 0, 0, 0, 0, 0, 0, 0, 0, 0, 0, 0, 0, 0, 0, 0, 1, 0, 0, 0, 0, 0, 0, 0, 0, 0, 0, 0, 0, 0, 0, 0, 0, 0, 0, 0, 0, 0, 0, 0, 0, 0, 0, 0, 0, 1, 0, 0, 0, 0, 0, 0, 0, 0, 0, 0, 0, 0, 0, 0, 0, 0, 0, 0, 0, 0, 0, 0, 1, 1, 0, 0, 0, 0, 0, 0, 0, 0, 0, 0, 0, 0, 0, 0, 1, 1, 2, 0, 0, 0, 0, 1, 1, 1, 1, 0, 0, 0, 1, 0, 0, 0, 0, 0, 0, 0, 0, 0, 0, 0, 0, 0, 0, 0, 0, 0, 0, 0, 0, 0, 0, 0, 0, 0, 0, 0, 0, 0, 0, 0, 0, 0, 0, 0, 0, 0, 0, 0, 0, 0, 0, 0, 0, 0, 0, 0, 0, 0, 0, 0, 0, 0, 0, 0, 0, 0, 0, 0, 0, 0, 0, 0, 0, 0, 0, 0, 0, 0, 0, 0, 0, 0, 0, 0, 0, 0, 0, 0, 0, 0, 0, 0, 0, 0, 0, 0, 0, 0, 0, 0, 0, 0, 0, 1, 0, 0, 0, 0, 0, 0, 0, 0, 0, 0, 0, 0, 0, 0, 0, 0, 0, 0, 0, 0, 0, 0, 0, 0, 0, 0, 0, 0, 0, 0, 0, 0, 0, 0, 0, 0, 0, 0, 0, 0, 0, 0, 0, 0, 0, 0, 0, 0, 0, 0, 0, 0, 0, 0, 0, 0, 0, 0, 0, 0, 0, 0, 0, 0, 0, 0, 0, 0, 0, 0, 0, 0, 0, 0, 0, 0, 0, 0, 0, 0, 0, 1, 0, 0, 0, 0, 0, 0, 0, 0, 0, 0, 0, 0, 0, 0, 0, 0, 1, 0, 0, 0, 0, 0, 0, 0, 0, 0, 1, 0, 0, 0, 0, 0, 0, 0, 0, 0, 0, 0, 0, 0, 0, 0, 0, 0, 0, 0, 0, 0, 0, 0, 0, 0, 0, 0, 0, 0, 0, 0, 0, 0, 0, 0, 0, 0, 0, 0, 0, 0, 0, 0, 0, 0, 0, 0, 0, 0, 0, 0, 0, 0, 0, 0, 0, 0, 1, 0, 0, 1, 0, 0, 0, 0, 0, 0, 0, 0, 0, 0, 0, 0, 1, 0, 0, 0, 0, 0, 0, 0, 0, 0, 0, 0, 0, 0, 0, 0, 0, 0, 0, 0, 0, 0, 0, 0, 0, 0, 0, 0, 0, 0, 0, 0, 0, 0, 0, 0, 0, 0, 2, 2, 0, 2, 2, 2, 2, 2, 2, 2, 2, 2, 2, 2, 2, 2, 2, 2, 2, 2, 2, 2, 2, 2, 2, 2, 2, 2, 2, 2, 2, 2, 2, 2, 2, 2, 2, 2, 2, 2, 2, 2, 2, 2, 2, 2, 2, 2, 2, 2, 0, 2, 2, 2, 2, 2, 2, 2, 2, 2, 2, 2, 2, 2, 2, 2, 2, 2, 2, 2, 2, 2, 2, 2, 2, 2, 0, 0, 0, 0, 0, 0, 0, 0, 0, 0, 0, 0, 0, 0, 0, 0, 0, 0, 0, 0, 0, 0, 0, 0, 0, 0, 0, 0, 1, 0, 0, 0, 0, 0, 0, 0, 0, 0, 0, 0, 0, 0, 0, 1, 1, 1, 1, 1, 1, 1, 2, 0, 2, 0, 0, 0, 0, 0, 0, 0, 0, 0, 0, 0, 0, 0, 0, 0, 0, 0, 0, 0, 0, 0, 0, 0, 0, 0, 0, 0, 0, 0, 0, 0, 0, 0, 0, 0, 0, 0, 0, 0, 0, 0, 0, 0, 0, 0, 0, 0, 0, 0, 0, 0, 0, 0, 0, 0, 0, 0, 0, 0, 0, 0, 0, 0, 0, 0, 2, 0, 0, 0, 0, 0, 0, 0, 0, 0, 0, 0, 0, 0, 0, 1, 0, 0, 0, 0, 0, 0, 0, 0, 0, 0, 0, 0, 0, 0, 0, 0, 0, 0, 0, 1, 0, 0, 0, 3, 0, 2, 0, 0, 0, 0, 0, 0, 0, 0, 0, 0, 0, 0, 0, 0, 1, 0, 0, 0, 0, 0, 0, 0, 0, 0, 0, 0, 0, 0, 0, 0, 0, 0, 0, 0, 0, 0, 0, 0, 0, 0, 0, 0, 0, 0, 0, 0, 0, 0, 2, 0, 0, 0, 0, 0, 0, 1, 0, 0, 0, 0, 0, 0, 0, 0, 0, 0, 2, 0, 0, 0, 0, 0, 1, 0, 0, 0, 0, 0, 0, 0, 0, 0, 0, 0, 0, 0, 0, 0, 0, 1, 0, 0, 0, 0, 0, 0, 1, 0, 0, 0, 0, 0, 0, 0, 0, 0, 0, 0, 0, 0, 0, 0, 1, 1, 0, 0, 0, 0, 0, 0, 0, 0, 0, 0, 0, 0, 0, 0, 0, 0, 0, 1, 1, 0, 1, 0, 0, 0, 0, 0, 0, 0, 0, 0, 0, 0, 0, 0, 0, 0, 0, 0, 1, 1, 1, 0, 0, 0, 0, 0, 0, 0, 0, 0, 0, 0, 0, 0, 0, 0, 0, 0, 0, 0, 0, 0, 0, 0, 0, 0, 0, 0, 0, 0, 0, 0, 0, 0, 0, 0, 0, 0, 0, 0, 0, 0, 0, 0, 0, 0, 0, 0, 0, 0, 0, 0, 0, 0, 0, 0, 0, 0, 1, 0, 0, 0, 0, 0, 0, 0, 0, 0, 0, 0, 0, 0, 0, 0, 0, 0, 0, 1, 0, 2, 2, 2, 2, 2, 2, 2, 2, 2, 2, 2, 2, 2, 2, 2, 2, 2, 2, 2, 2, 2, 2, 2, 2, 2, 3, 2, 2, 2, 2, 2, 2, 2, 2, 2, 2, 2, 2, 2, 2, 2, 2, 2, 2, 2, 2, 0, 1, 0, 0, 0, 0, 0, 0, 0, 2, 0, 0, 0, 0, 0, 0, 0, 0, 0, 0, 0, 0, 0, 0, 0, 1, 0, 0, 0, 0, 0, 0, 0, 0, 0, 0, 0, 0, 0, 0, 0, 0, 1, 0, 0, 0, 0, 0, 0, 0, 0, 0, 0, 0, 0, 0, 0, 0, 0, 0, 0, 0, 0, 0, 0, 1, 0, 0, 0, 1, 0, 0, 0, 0, 0, 0, 0, 0, 0, 0, 0, 0, 0, 0, 0, 0, 0, 0, 1, 0, 0, 0, 0, 1, 0, 0, 0, 0, 0, 1, 1, 1, 0, 0, 0, 0, 1, 0, 0, 0, 0, 1, 0, 0, 0, 0, 0, 0, 0, 0, 0, 0, 0, 0, 1, 1, 0, 0, 0, 0, 0, 0, 0, 0, 0, 0, 0, 0, 0, 0, 0, 0, 0, 0, 0, 0, 0, 0, 0, 1, 0, 0, 0, 0, 0, 0, 0, 0, 0, 0, 0, 0, 0, 0, 0, 0, 0, 0, 0, 0, 0, 0, 0, 0, 0, 0, 0, 0, 0, 0, 0, 0, 0, 0, 0, 0, 0, 0, 0, 0, 0, 0, 0, 0, 0, 0, 0, 0, 0, 0, 0, 0, 0, 0, 0, 0, 0, 0, 0, 0, 0, 0, 0, 0, 0, 0, 0, 0, 0, 0, 0, 0, 0, 0, 0, 0, 0, 0, 0, 0, 0, 0, 0, 0, 0, 0, 0, 0, 0, 0, 0, 0, 0, 0, 0, 0, 0, 0, 0, 0, 0, 0, 0, 0, 0, 0, 0, 0, 0, 0, 0, 0, 0, 1, 1, 1, 0, 0, 0, 0, 0, 0, 0, 0, 0, 0, 0, 0, 1, 0, 0, 0, 0, 0, 0, 0, 0, 0, 0, 0, 0, 0, 0, 0, 0, 0, 0, 0, 0, 0, 0, 0, 0, 0, 0, 0, 0, 0, 0, 0, 0, 0, 0, 0, 0, 0, 0, 0, 0, 0, 0, 0, 0, 0, 0, 0, 0, 0, 0, 0, 0, 0, 0, 0, 0, 0, 0, 0, 0, 0, 0, 0, 0, 0, 0, 1, 0, 0, 1, 1, 1, 1, 0, 1, 0, 1, 1, 0, 0, 0, 0, 0, 0, 0, 1, 0, 0, 0, 0, 1, 0, 1, 1, 0, 0, 0, 0, 0, 0, 0, 0, 0, 0, 0, 0, 0, 3, 0, 0, 0, 0, 0, 0, 0, 0, 0, 0, 0, 2, 0, 2, 0, 0, 0, 0, 0, 0, 0, 0, 0, 0, 0, 0, 0, 0, 0, 0, 0, 0, 0, 0, 0, 0, 0, 0, 0, 0, 0, 0, 0, 0, 0, 0, 0, 0, 0, 0, 0, 0, 0, 0, 0, 0, 0, 0, 0, 0, 0, 0, 0, 0, 0, 0, 0, 0, 0, 0, 0, 0, 0, 2, 0, 0, 0, 0, 0, 0, 0, 0, 0, 0, 0, 0, 0, 0, 0, 0, 0, 0, 0, 2, 0, 0, 1, 0, 0, 0, 0, 0, 0, 0, 0, 0, 0, 0, 0, 0, 0, 0, 0, 0, 0, 0, 1, 0, 0, 0, 0, 0, 0, 0, 0, 0, 0, 0, 0, 0, 0, 0, 0, 0, 0, 0, 0, 1, 0, 0, 0, 0, 0, 0, 0, 0, 0, 0, 0, 0, 0, 0, 0, 1, 0, 0, 0, 0, 0, 0, 0, 0, 0, 0, 0, 0, 0, 0, 0, 0, 0, 0, 0, 0, 0, 0, 0, 0, 0, 0, 0, 0, 0, 0, 0, 0, 0, 0, 0, 0, 0, 0, 0, 0, 0, 0, 0, 0, 0, 0, 0, 0, 0, 0, 0, 0, 0, 0, 1, 0, 0, 0, 0, 0, 0, 0, 0, 0, 0, 0, 0, 1, 0, 0, 0, 0, 0, 1, 0, 0, 0, 0, 0, 0, 0, 0, 0, 0, 0, 0, 0, 0, 0, 0, 0, 0, 0, 0, 0, 0, 0, 0, 0, 0, 0, 0, 0, 0, 0, 0, 0, 0, 0, 0, 0, 0, 0, 0, 0, 0, 0, 0, 0, 0, 0, 0, 0, 0, 0, 0, 0, 0, 0, 0, 0, 0, 0, 0, 0, 0, 0, 0, 0, 0, 0, 0, 0, 0, 0, 0, 0, 0, 0, 1, 0, 0, 0, 0, 0, 0, 0, 0, 0, 0, 0]\n"
     ]
    }
   ],
   "source": [
    "final_df = pd.concat([categorical_df, outlier_df], axis=1)\n",
    "outliers_in_rows = []\n",
    "for index,row in outlier_df.iterrows():\n",
    "   outliers_in_rows.append(row.sum())\n",
    "\n",
    "print(outliers_in_rows)"
   ]
  },
  {
   "cell_type": "markdown",
   "metadata": {
    "id": "vGeKkD19mBca"
   },
   "source": [
    "Retaining the rows which contain 0 outliers"
   ]
  },
  {
   "cell_type": "code",
   "execution_count": 20,
   "metadata": {
    "colab": {
     "base_uri": "https://localhost:8080/"
    },
    "executionInfo": {
     "elapsed": 6,
     "status": "ok",
     "timestamp": 1664293066704,
     "user": {
      "displayName": "Serena Gomez",
      "userId": "05959088368982916741"
     },
     "user_tz": -330
    },
    "id": "s7Ms1b3omDmA",
    "outputId": "724f516a-565c-45d7-fe0d-369376e86c70"
   },
   "outputs": [
    {
     "name": "stdout",
     "output_type": "stream",
     "text": [
      "(1741, 27)\n"
     ]
    }
   ],
   "source": [
    "#creating new column with the name value\n",
    "final_df['value'] = outliers_in_rows\n",
    "final_df_without_outliers= final_df.loc[final_df['value'] == 0]\n",
    "print(final_df_without_outliers.shape)"
   ]
  },
  {
   "cell_type": "code",
   "execution_count": 21,
   "metadata": {
    "id": "Vvviy1POpOad",
    "outputId": "46c5023b-0de7-4b70-d19d-3c14f0754c92"
   },
   "outputs": [
    {
     "data": {
      "text/html": [
       "<div>\n",
       "<style scoped>\n",
       "    .dataframe tbody tr th:only-of-type {\n",
       "        vertical-align: middle;\n",
       "    }\n",
       "\n",
       "    .dataframe tbody tr th {\n",
       "        vertical-align: top;\n",
       "    }\n",
       "\n",
       "    .dataframe thead th {\n",
       "        text-align: right;\n",
       "    }\n",
       "</style>\n",
       "<table border=\"1\" class=\"dataframe\">\n",
       "  <thead>\n",
       "    <tr style=\"text-align: right;\">\n",
       "      <th></th>\n",
       "      <th>url</th>\n",
       "      <th>region</th>\n",
       "      <th>region_url</th>\n",
       "      <th>manufacturer</th>\n",
       "      <th>model</th>\n",
       "      <th>condition</th>\n",
       "      <th>cylinders</th>\n",
       "      <th>fuel</th>\n",
       "      <th>title_status</th>\n",
       "      <th>transmission</th>\n",
       "      <th>...</th>\n",
       "      <th>state</th>\n",
       "      <th>posting_date</th>\n",
       "      <th>id</th>\n",
       "      <th>price</th>\n",
       "      <th>year</th>\n",
       "      <th>odometer</th>\n",
       "      <th>county</th>\n",
       "      <th>lat</th>\n",
       "      <th>long</th>\n",
       "      <th>value</th>\n",
       "    </tr>\n",
       "  </thead>\n",
       "  <tbody>\n",
       "    <tr>\n",
       "      <th>0</th>\n",
       "      <td>https://prescott.craigslist.org/cto/d/prescott...</td>\n",
       "      <td>prescott</td>\n",
       "      <td>https://prescott.craigslist.org</td>\n",
       "      <td>NaN</td>\n",
       "      <td>NaN</td>\n",
       "      <td>NaN</td>\n",
       "      <td>NaN</td>\n",
       "      <td>NaN</td>\n",
       "      <td>NaN</td>\n",
       "      <td>NaN</td>\n",
       "      <td>...</td>\n",
       "      <td>az</td>\n",
       "      <td>NaN</td>\n",
       "      <td>True</td>\n",
       "      <td>False</td>\n",
       "      <td>False</td>\n",
       "      <td>False</td>\n",
       "      <td>False</td>\n",
       "      <td>False</td>\n",
       "      <td>False</td>\n",
       "      <td>1</td>\n",
       "    </tr>\n",
       "    <tr>\n",
       "      <th>1</th>\n",
       "      <td>https://fayar.craigslist.org/ctd/d/bentonville...</td>\n",
       "      <td>fayetteville</td>\n",
       "      <td>https://fayar.craigslist.org</td>\n",
       "      <td>NaN</td>\n",
       "      <td>NaN</td>\n",
       "      <td>NaN</td>\n",
       "      <td>NaN</td>\n",
       "      <td>NaN</td>\n",
       "      <td>NaN</td>\n",
       "      <td>NaN</td>\n",
       "      <td>...</td>\n",
       "      <td>ar</td>\n",
       "      <td>NaN</td>\n",
       "      <td>True</td>\n",
       "      <td>False</td>\n",
       "      <td>False</td>\n",
       "      <td>False</td>\n",
       "      <td>False</td>\n",
       "      <td>False</td>\n",
       "      <td>False</td>\n",
       "      <td>1</td>\n",
       "    </tr>\n",
       "    <tr>\n",
       "      <th>2</th>\n",
       "      <td>https://keys.craigslist.org/cto/d/summerland-k...</td>\n",
       "      <td>florida keys</td>\n",
       "      <td>https://keys.craigslist.org</td>\n",
       "      <td>NaN</td>\n",
       "      <td>NaN</td>\n",
       "      <td>NaN</td>\n",
       "      <td>NaN</td>\n",
       "      <td>NaN</td>\n",
       "      <td>NaN</td>\n",
       "      <td>NaN</td>\n",
       "      <td>...</td>\n",
       "      <td>fl</td>\n",
       "      <td>NaN</td>\n",
       "      <td>True</td>\n",
       "      <td>False</td>\n",
       "      <td>False</td>\n",
       "      <td>False</td>\n",
       "      <td>False</td>\n",
       "      <td>False</td>\n",
       "      <td>False</td>\n",
       "      <td>1</td>\n",
       "    </tr>\n",
       "    <tr>\n",
       "      <th>3</th>\n",
       "      <td>https://worcester.craigslist.org/cto/d/west-br...</td>\n",
       "      <td>worcester / central MA</td>\n",
       "      <td>https://worcester.craigslist.org</td>\n",
       "      <td>NaN</td>\n",
       "      <td>NaN</td>\n",
       "      <td>NaN</td>\n",
       "      <td>NaN</td>\n",
       "      <td>NaN</td>\n",
       "      <td>NaN</td>\n",
       "      <td>NaN</td>\n",
       "      <td>...</td>\n",
       "      <td>ma</td>\n",
       "      <td>NaN</td>\n",
       "      <td>True</td>\n",
       "      <td>False</td>\n",
       "      <td>False</td>\n",
       "      <td>False</td>\n",
       "      <td>False</td>\n",
       "      <td>False</td>\n",
       "      <td>False</td>\n",
       "      <td>1</td>\n",
       "    </tr>\n",
       "    <tr>\n",
       "      <th>4</th>\n",
       "      <td>https://greensboro.craigslist.org/cto/d/trinit...</td>\n",
       "      <td>greensboro</td>\n",
       "      <td>https://greensboro.craigslist.org</td>\n",
       "      <td>NaN</td>\n",
       "      <td>NaN</td>\n",
       "      <td>NaN</td>\n",
       "      <td>NaN</td>\n",
       "      <td>NaN</td>\n",
       "      <td>NaN</td>\n",
       "      <td>NaN</td>\n",
       "      <td>...</td>\n",
       "      <td>nc</td>\n",
       "      <td>NaN</td>\n",
       "      <td>True</td>\n",
       "      <td>False</td>\n",
       "      <td>False</td>\n",
       "      <td>False</td>\n",
       "      <td>False</td>\n",
       "      <td>False</td>\n",
       "      <td>False</td>\n",
       "      <td>1</td>\n",
       "    </tr>\n",
       "  </tbody>\n",
       "</table>\n",
       "<p>5 rows × 27 columns</p>\n",
       "</div>"
      ],
      "text/plain": [
       "                                                 url                  region  \\\n",
       "0  https://prescott.craigslist.org/cto/d/prescott...                prescott   \n",
       "1  https://fayar.craigslist.org/ctd/d/bentonville...            fayetteville   \n",
       "2  https://keys.craigslist.org/cto/d/summerland-k...            florida keys   \n",
       "3  https://worcester.craigslist.org/cto/d/west-br...  worcester / central MA   \n",
       "4  https://greensboro.craigslist.org/cto/d/trinit...              greensboro   \n",
       "\n",
       "                          region_url manufacturer model condition cylinders  \\\n",
       "0    https://prescott.craigslist.org          NaN   NaN       NaN       NaN   \n",
       "1       https://fayar.craigslist.org          NaN   NaN       NaN       NaN   \n",
       "2        https://keys.craigslist.org          NaN   NaN       NaN       NaN   \n",
       "3   https://worcester.craigslist.org          NaN   NaN       NaN       NaN   \n",
       "4  https://greensboro.craigslist.org          NaN   NaN       NaN       NaN   \n",
       "\n",
       "  fuel title_status transmission  ... state posting_date    id  price   year  \\\n",
       "0  NaN          NaN          NaN  ...    az          NaN  True  False  False   \n",
       "1  NaN          NaN          NaN  ...    ar          NaN  True  False  False   \n",
       "2  NaN          NaN          NaN  ...    fl          NaN  True  False  False   \n",
       "3  NaN          NaN          NaN  ...    ma          NaN  True  False  False   \n",
       "4  NaN          NaN          NaN  ...    nc          NaN  True  False  False   \n",
       "\n",
       "  odometer county    lat   long  value  \n",
       "0    False  False  False  False      1  \n",
       "1    False  False  False  False      1  \n",
       "2    False  False  False  False      1  \n",
       "3    False  False  False  False      1  \n",
       "4    False  False  False  False      1  \n",
       "\n",
       "[5 rows x 27 columns]"
      ]
     },
     "execution_count": 21,
     "metadata": {},
     "output_type": "execute_result"
    }
   ],
   "source": [
    "final_df.head()"
   ]
  },
  {
   "cell_type": "code",
   "execution_count": 32,
   "metadata": {
    "id": "4sTqAxa8pOae",
    "outputId": "1caae705-53a3-41c9-a3e8-e109b52374ef"
   },
   "outputs": [
    {
     "data": {
      "text/html": [
       "<div>\n",
       "<style scoped>\n",
       "    .dataframe tbody tr th:only-of-type {\n",
       "        vertical-align: middle;\n",
       "    }\n",
       "\n",
       "    .dataframe tbody tr th {\n",
       "        vertical-align: top;\n",
       "    }\n",
       "\n",
       "    .dataframe thead th {\n",
       "        text-align: right;\n",
       "    }\n",
       "</style>\n",
       "<table border=\"1\" class=\"dataframe\">\n",
       "  <thead>\n",
       "    <tr style=\"text-align: right;\">\n",
       "      <th></th>\n",
       "      <th>url</th>\n",
       "      <th>region</th>\n",
       "      <th>region_url</th>\n",
       "      <th>manufacturer</th>\n",
       "      <th>model</th>\n",
       "      <th>condition</th>\n",
       "      <th>cylinders</th>\n",
       "      <th>fuel</th>\n",
       "      <th>title_status</th>\n",
       "      <th>transmission</th>\n",
       "      <th>...</th>\n",
       "      <th>state</th>\n",
       "      <th>posting_date</th>\n",
       "      <th>id</th>\n",
       "      <th>price</th>\n",
       "      <th>year</th>\n",
       "      <th>odometer</th>\n",
       "      <th>county</th>\n",
       "      <th>lat</th>\n",
       "      <th>long</th>\n",
       "      <th>value</th>\n",
       "    </tr>\n",
       "  </thead>\n",
       "  <tbody>\n",
       "    <tr>\n",
       "      <th>27</th>\n",
       "      <td>https://auburn.craigslist.org/ctd/d/auburn-uni...</td>\n",
       "      <td>auburn</td>\n",
       "      <td>https://auburn.craigslist.org</td>\n",
       "      <td>gmc</td>\n",
       "      <td>sierra 1500 crew cab slt</td>\n",
       "      <td>good</td>\n",
       "      <td>8 cylinders</td>\n",
       "      <td>gas</td>\n",
       "      <td>clean</td>\n",
       "      <td>other</td>\n",
       "      <td>...</td>\n",
       "      <td>al</td>\n",
       "      <td>2021-05-04T12:31:18-0500</td>\n",
       "      <td>False</td>\n",
       "      <td>False</td>\n",
       "      <td>False</td>\n",
       "      <td>False</td>\n",
       "      <td>False</td>\n",
       "      <td>False</td>\n",
       "      <td>False</td>\n",
       "      <td>0</td>\n",
       "    </tr>\n",
       "    <tr>\n",
       "      <th>28</th>\n",
       "      <td>https://auburn.craigslist.org/ctd/d/auburn-uni...</td>\n",
       "      <td>auburn</td>\n",
       "      <td>https://auburn.craigslist.org</td>\n",
       "      <td>chevrolet</td>\n",
       "      <td>silverado 1500</td>\n",
       "      <td>good</td>\n",
       "      <td>8 cylinders</td>\n",
       "      <td>gas</td>\n",
       "      <td>clean</td>\n",
       "      <td>other</td>\n",
       "      <td>...</td>\n",
       "      <td>al</td>\n",
       "      <td>2021-05-04T12:31:08-0500</td>\n",
       "      <td>False</td>\n",
       "      <td>False</td>\n",
       "      <td>False</td>\n",
       "      <td>False</td>\n",
       "      <td>False</td>\n",
       "      <td>False</td>\n",
       "      <td>False</td>\n",
       "      <td>0</td>\n",
       "    </tr>\n",
       "    <tr>\n",
       "      <th>29</th>\n",
       "      <td>https://auburn.craigslist.org/ctd/d/auburn-uni...</td>\n",
       "      <td>auburn</td>\n",
       "      <td>https://auburn.craigslist.org</td>\n",
       "      <td>chevrolet</td>\n",
       "      <td>silverado 1500 crew</td>\n",
       "      <td>good</td>\n",
       "      <td>8 cylinders</td>\n",
       "      <td>gas</td>\n",
       "      <td>clean</td>\n",
       "      <td>other</td>\n",
       "      <td>...</td>\n",
       "      <td>al</td>\n",
       "      <td>2021-05-04T12:31:25-0500</td>\n",
       "      <td>False</td>\n",
       "      <td>False</td>\n",
       "      <td>False</td>\n",
       "      <td>False</td>\n",
       "      <td>False</td>\n",
       "      <td>False</td>\n",
       "      <td>False</td>\n",
       "      <td>0</td>\n",
       "    </tr>\n",
       "    <tr>\n",
       "      <th>30</th>\n",
       "      <td>https://auburn.craigslist.org/ctd/d/auburn-uni...</td>\n",
       "      <td>auburn</td>\n",
       "      <td>https://auburn.craigslist.org</td>\n",
       "      <td>toyota</td>\n",
       "      <td>tundra double cab sr</td>\n",
       "      <td>good</td>\n",
       "      <td>8 cylinders</td>\n",
       "      <td>gas</td>\n",
       "      <td>clean</td>\n",
       "      <td>other</td>\n",
       "      <td>...</td>\n",
       "      <td>al</td>\n",
       "      <td>2021-05-04T10:41:31-0500</td>\n",
       "      <td>False</td>\n",
       "      <td>False</td>\n",
       "      <td>False</td>\n",
       "      <td>False</td>\n",
       "      <td>False</td>\n",
       "      <td>False</td>\n",
       "      <td>False</td>\n",
       "      <td>0</td>\n",
       "    </tr>\n",
       "    <tr>\n",
       "      <th>31</th>\n",
       "      <td>https://auburn.craigslist.org/cto/d/auburn-uni...</td>\n",
       "      <td>auburn</td>\n",
       "      <td>https://auburn.craigslist.org</td>\n",
       "      <td>ford</td>\n",
       "      <td>f-150 xlt</td>\n",
       "      <td>excellent</td>\n",
       "      <td>6 cylinders</td>\n",
       "      <td>gas</td>\n",
       "      <td>clean</td>\n",
       "      <td>automatic</td>\n",
       "      <td>...</td>\n",
       "      <td>al</td>\n",
       "      <td>2021-05-03T14:02:03-0500</td>\n",
       "      <td>False</td>\n",
       "      <td>False</td>\n",
       "      <td>False</td>\n",
       "      <td>False</td>\n",
       "      <td>False</td>\n",
       "      <td>False</td>\n",
       "      <td>False</td>\n",
       "      <td>0</td>\n",
       "    </tr>\n",
       "  </tbody>\n",
       "</table>\n",
       "<p>5 rows × 27 columns</p>\n",
       "</div>"
      ],
      "text/plain": [
       "                                                  url  region  \\\n",
       "27  https://auburn.craigslist.org/ctd/d/auburn-uni...  auburn   \n",
       "28  https://auburn.craigslist.org/ctd/d/auburn-uni...  auburn   \n",
       "29  https://auburn.craigslist.org/ctd/d/auburn-uni...  auburn   \n",
       "30  https://auburn.craigslist.org/ctd/d/auburn-uni...  auburn   \n",
       "31  https://auburn.craigslist.org/cto/d/auburn-uni...  auburn   \n",
       "\n",
       "                       region_url manufacturer                     model  \\\n",
       "27  https://auburn.craigslist.org          gmc  sierra 1500 crew cab slt   \n",
       "28  https://auburn.craigslist.org    chevrolet            silverado 1500   \n",
       "29  https://auburn.craigslist.org    chevrolet       silverado 1500 crew   \n",
       "30  https://auburn.craigslist.org       toyota      tundra double cab sr   \n",
       "31  https://auburn.craigslist.org         ford                 f-150 xlt   \n",
       "\n",
       "    condition    cylinders fuel title_status transmission  ... state  \\\n",
       "27       good  8 cylinders  gas        clean        other  ...    al   \n",
       "28       good  8 cylinders  gas        clean        other  ...    al   \n",
       "29       good  8 cylinders  gas        clean        other  ...    al   \n",
       "30       good  8 cylinders  gas        clean        other  ...    al   \n",
       "31  excellent  6 cylinders  gas        clean    automatic  ...    al   \n",
       "\n",
       "                posting_date     id  price   year odometer county    lat  \\\n",
       "27  2021-05-04T12:31:18-0500  False  False  False    False  False  False   \n",
       "28  2021-05-04T12:31:08-0500  False  False  False    False  False  False   \n",
       "29  2021-05-04T12:31:25-0500  False  False  False    False  False  False   \n",
       "30  2021-05-04T10:41:31-0500  False  False  False    False  False  False   \n",
       "31  2021-05-03T14:02:03-0500  False  False  False    False  False  False   \n",
       "\n",
       "     long  value  \n",
       "27  False      0  \n",
       "28  False      0  \n",
       "29  False      0  \n",
       "30  False      0  \n",
       "31  False      0  \n",
       "\n",
       "[5 rows x 27 columns]"
      ]
     },
     "execution_count": 32,
     "metadata": {},
     "output_type": "execute_result"
    }
   ],
   "source": [
    "final_df_without_outliers.head()"
   ]
  },
  {
   "cell_type": "markdown",
   "metadata": {
    "id": "v9fORT-omTz8"
   },
   "source": [
    "Replacing the all-False matrix by it's original values."
   ]
  },
  {
   "cell_type": "code",
   "execution_count": 24,
   "metadata": {
    "id": "RQXdpvC8mP0K"
   },
   "outputs": [],
   "source": [
    "final_df_outliers = final_df.loc[final_df['value'] != 0]\n",
    "arr = []\n",
    "for i,r in final_df_outliers.iterrows():\n",
    "   arr.append(i)\n",
    "df_without_outliers = df.drop(df.index[arr])"
   ]
  },
  {
   "cell_type": "code",
   "execution_count": 25,
   "metadata": {
    "colab": {
     "base_uri": "https://localhost:8080/",
     "height": 595
    },
    "executionInfo": {
     "elapsed": 9,
     "status": "ok",
     "timestamp": 1664293163329,
     "user": {
      "displayName": "Serena Gomez",
      "userId": "05959088368982916741"
     },
     "user_tz": -330
    },
    "id": "QNCPXcwCmiu9",
    "outputId": "f3bb0e0f-a175-4e05-fe55-4a0c608efa54"
   },
   "outputs": [
    {
     "data": {
      "text/html": [
       "<div>\n",
       "<style scoped>\n",
       "    .dataframe tbody tr th:only-of-type {\n",
       "        vertical-align: middle;\n",
       "    }\n",
       "\n",
       "    .dataframe tbody tr th {\n",
       "        vertical-align: top;\n",
       "    }\n",
       "\n",
       "    .dataframe thead th {\n",
       "        text-align: right;\n",
       "    }\n",
       "</style>\n",
       "<table border=\"1\" class=\"dataframe\">\n",
       "  <thead>\n",
       "    <tr style=\"text-align: right;\">\n",
       "      <th></th>\n",
       "      <th>id</th>\n",
       "      <th>url</th>\n",
       "      <th>region</th>\n",
       "      <th>region_url</th>\n",
       "      <th>price</th>\n",
       "      <th>year</th>\n",
       "      <th>manufacturer</th>\n",
       "      <th>model</th>\n",
       "      <th>condition</th>\n",
       "      <th>cylinders</th>\n",
       "      <th>...</th>\n",
       "      <th>size</th>\n",
       "      <th>type</th>\n",
       "      <th>paint_color</th>\n",
       "      <th>image_url</th>\n",
       "      <th>description</th>\n",
       "      <th>county</th>\n",
       "      <th>state</th>\n",
       "      <th>lat</th>\n",
       "      <th>long</th>\n",
       "      <th>posting_date</th>\n",
       "    </tr>\n",
       "  </thead>\n",
       "  <tbody>\n",
       "    <tr>\n",
       "      <th>27</th>\n",
       "      <td>7316814884</td>\n",
       "      <td>https://auburn.craigslist.org/ctd/d/auburn-uni...</td>\n",
       "      <td>auburn</td>\n",
       "      <td>https://auburn.craigslist.org</td>\n",
       "      <td>33590</td>\n",
       "      <td>2014.0</td>\n",
       "      <td>gmc</td>\n",
       "      <td>sierra 1500 crew cab slt</td>\n",
       "      <td>good</td>\n",
       "      <td>8 cylinders</td>\n",
       "      <td>...</td>\n",
       "      <td>NaN</td>\n",
       "      <td>pickup</td>\n",
       "      <td>white</td>\n",
       "      <td>https://images.craigslist.org/00R0R_lwWjXSEWNa...</td>\n",
       "      <td>Carvana is the safer way to buy a car During t...</td>\n",
       "      <td>NaN</td>\n",
       "      <td>al</td>\n",
       "      <td>32.590</td>\n",
       "      <td>-85.4800</td>\n",
       "      <td>2021-05-04T12:31:18-0500</td>\n",
       "    </tr>\n",
       "    <tr>\n",
       "      <th>28</th>\n",
       "      <td>7316814758</td>\n",
       "      <td>https://auburn.craigslist.org/ctd/d/auburn-uni...</td>\n",
       "      <td>auburn</td>\n",
       "      <td>https://auburn.craigslist.org</td>\n",
       "      <td>22590</td>\n",
       "      <td>2010.0</td>\n",
       "      <td>chevrolet</td>\n",
       "      <td>silverado 1500</td>\n",
       "      <td>good</td>\n",
       "      <td>8 cylinders</td>\n",
       "      <td>...</td>\n",
       "      <td>NaN</td>\n",
       "      <td>pickup</td>\n",
       "      <td>blue</td>\n",
       "      <td>https://images.craigslist.org/00R0R_lwWjXSEWNa...</td>\n",
       "      <td>Carvana is the safer way to buy a car During t...</td>\n",
       "      <td>NaN</td>\n",
       "      <td>al</td>\n",
       "      <td>32.590</td>\n",
       "      <td>-85.4800</td>\n",
       "      <td>2021-05-04T12:31:08-0500</td>\n",
       "    </tr>\n",
       "    <tr>\n",
       "      <th>29</th>\n",
       "      <td>7316814989</td>\n",
       "      <td>https://auburn.craigslist.org/ctd/d/auburn-uni...</td>\n",
       "      <td>auburn</td>\n",
       "      <td>https://auburn.craigslist.org</td>\n",
       "      <td>39590</td>\n",
       "      <td>2020.0</td>\n",
       "      <td>chevrolet</td>\n",
       "      <td>silverado 1500 crew</td>\n",
       "      <td>good</td>\n",
       "      <td>8 cylinders</td>\n",
       "      <td>...</td>\n",
       "      <td>NaN</td>\n",
       "      <td>pickup</td>\n",
       "      <td>red</td>\n",
       "      <td>https://images.craigslist.org/01212_jjirIWa0y0...</td>\n",
       "      <td>Carvana is the safer way to buy a car During t...</td>\n",
       "      <td>NaN</td>\n",
       "      <td>al</td>\n",
       "      <td>32.590</td>\n",
       "      <td>-85.4800</td>\n",
       "      <td>2021-05-04T12:31:25-0500</td>\n",
       "    </tr>\n",
       "    <tr>\n",
       "      <th>30</th>\n",
       "      <td>7316743432</td>\n",
       "      <td>https://auburn.craigslist.org/ctd/d/auburn-uni...</td>\n",
       "      <td>auburn</td>\n",
       "      <td>https://auburn.craigslist.org</td>\n",
       "      <td>30990</td>\n",
       "      <td>2017.0</td>\n",
       "      <td>toyota</td>\n",
       "      <td>tundra double cab sr</td>\n",
       "      <td>good</td>\n",
       "      <td>8 cylinders</td>\n",
       "      <td>...</td>\n",
       "      <td>NaN</td>\n",
       "      <td>pickup</td>\n",
       "      <td>red</td>\n",
       "      <td>https://images.craigslist.org/00x0x_1y9kIOzGCF...</td>\n",
       "      <td>Carvana is the safer way to buy a car During t...</td>\n",
       "      <td>NaN</td>\n",
       "      <td>al</td>\n",
       "      <td>32.590</td>\n",
       "      <td>-85.4800</td>\n",
       "      <td>2021-05-04T10:41:31-0500</td>\n",
       "    </tr>\n",
       "    <tr>\n",
       "      <th>31</th>\n",
       "      <td>7316356412</td>\n",
       "      <td>https://auburn.craigslist.org/cto/d/auburn-uni...</td>\n",
       "      <td>auburn</td>\n",
       "      <td>https://auburn.craigslist.org</td>\n",
       "      <td>15000</td>\n",
       "      <td>2013.0</td>\n",
       "      <td>ford</td>\n",
       "      <td>f-150 xlt</td>\n",
       "      <td>excellent</td>\n",
       "      <td>6 cylinders</td>\n",
       "      <td>...</td>\n",
       "      <td>full-size</td>\n",
       "      <td>truck</td>\n",
       "      <td>black</td>\n",
       "      <td>https://images.craigslist.org/00404_l4loxHvdQe...</td>\n",
       "      <td>2013 F-150 XLT V6 4 Door. Good condition. Leve...</td>\n",
       "      <td>NaN</td>\n",
       "      <td>al</td>\n",
       "      <td>32.592</td>\n",
       "      <td>-85.5189</td>\n",
       "      <td>2021-05-03T14:02:03-0500</td>\n",
       "    </tr>\n",
       "  </tbody>\n",
       "</table>\n",
       "<p>5 rows × 26 columns</p>\n",
       "</div>"
      ],
      "text/plain": [
       "            id                                                url  region  \\\n",
       "27  7316814884  https://auburn.craigslist.org/ctd/d/auburn-uni...  auburn   \n",
       "28  7316814758  https://auburn.craigslist.org/ctd/d/auburn-uni...  auburn   \n",
       "29  7316814989  https://auburn.craigslist.org/ctd/d/auburn-uni...  auburn   \n",
       "30  7316743432  https://auburn.craigslist.org/ctd/d/auburn-uni...  auburn   \n",
       "31  7316356412  https://auburn.craigslist.org/cto/d/auburn-uni...  auburn   \n",
       "\n",
       "                       region_url  price    year manufacturer  \\\n",
       "27  https://auburn.craigslist.org  33590  2014.0          gmc   \n",
       "28  https://auburn.craigslist.org  22590  2010.0    chevrolet   \n",
       "29  https://auburn.craigslist.org  39590  2020.0    chevrolet   \n",
       "30  https://auburn.craigslist.org  30990  2017.0       toyota   \n",
       "31  https://auburn.craigslist.org  15000  2013.0         ford   \n",
       "\n",
       "                       model  condition    cylinders  ...       size    type  \\\n",
       "27  sierra 1500 crew cab slt       good  8 cylinders  ...        NaN  pickup   \n",
       "28            silverado 1500       good  8 cylinders  ...        NaN  pickup   \n",
       "29       silverado 1500 crew       good  8 cylinders  ...        NaN  pickup   \n",
       "30      tundra double cab sr       good  8 cylinders  ...        NaN  pickup   \n",
       "31                 f-150 xlt  excellent  6 cylinders  ...  full-size   truck   \n",
       "\n",
       "   paint_color                                          image_url  \\\n",
       "27       white  https://images.craigslist.org/00R0R_lwWjXSEWNa...   \n",
       "28        blue  https://images.craigslist.org/00R0R_lwWjXSEWNa...   \n",
       "29         red  https://images.craigslist.org/01212_jjirIWa0y0...   \n",
       "30         red  https://images.craigslist.org/00x0x_1y9kIOzGCF...   \n",
       "31       black  https://images.craigslist.org/00404_l4loxHvdQe...   \n",
       "\n",
       "                                          description county state     lat  \\\n",
       "27  Carvana is the safer way to buy a car During t...    NaN    al  32.590   \n",
       "28  Carvana is the safer way to buy a car During t...    NaN    al  32.590   \n",
       "29  Carvana is the safer way to buy a car During t...    NaN    al  32.590   \n",
       "30  Carvana is the safer way to buy a car During t...    NaN    al  32.590   \n",
       "31  2013 F-150 XLT V6 4 Door. Good condition. Leve...    NaN    al  32.592   \n",
       "\n",
       "       long              posting_date  \n",
       "27 -85.4800  2021-05-04T12:31:18-0500  \n",
       "28 -85.4800  2021-05-04T12:31:08-0500  \n",
       "29 -85.4800  2021-05-04T12:31:25-0500  \n",
       "30 -85.4800  2021-05-04T10:41:31-0500  \n",
       "31 -85.5189  2021-05-03T14:02:03-0500  \n",
       "\n",
       "[5 rows x 26 columns]"
      ]
     },
     "execution_count": 25,
     "metadata": {},
     "output_type": "execute_result"
    }
   ],
   "source": [
    "df_without_outliers.head()"
   ]
  },
  {
   "cell_type": "markdown",
   "metadata": {
    "id": "9tQWfM2kmpyv"
   },
   "source": [
    "**Missing values**"
   ]
  },
  {
   "cell_type": "code",
   "execution_count": 26,
   "metadata": {
    "colab": {
     "base_uri": "https://localhost:8080/"
    },
    "executionInfo": {
     "elapsed": 341,
     "status": "ok",
     "timestamp": 1664293212806,
     "user": {
      "displayName": "Serena Gomez",
      "userId": "05959088368982916741"
     },
     "user_tz": -330
    },
    "id": "xqtpuGgdmuEv",
    "outputId": "4cfbf3d3-4a97-4234-8945-3b1e567277b4"
   },
   "outputs": [
    {
     "name": "stdout",
     "output_type": "stream",
     "text": [
      "              total_null  total_null_perc\n",
      "county              1741         1.000000\n",
      "size                1376         0.790350\n",
      "condition            798         0.458357\n",
      "cylinders            654         0.375646\n",
      "VIN                  608         0.349225\n",
      "drive                560         0.321654\n",
      "type                 516         0.296381\n",
      "paint_color          397         0.228030\n",
      "title_status         103         0.059161\n",
      "manufacturer         103         0.059161\n",
      "fuel                  34         0.019529\n",
      "year                  22         0.012636\n",
      "lat                   12         0.006893\n",
      "long                  12         0.006893\n",
      "odometer              11         0.006318\n",
      "model                  5         0.002872\n",
      "description            0         0.000000\n",
      "state                  0         0.000000\n",
      "id                     0         0.000000\n",
      "transmission           0         0.000000\n",
      "image_url              0         0.000000\n",
      "url                    0         0.000000\n",
      "price                  0         0.000000\n",
      "region_url             0         0.000000\n",
      "region                 0         0.000000\n",
      "posting_date           0         0.000000\n"
     ]
    }
   ],
   "source": [
    "total_missing_values = df_without_outliers.isnull().sum()\n",
    "missing_values_per_column = df_without_outliers.isnull().sum()/df_without_outliers.isnull().count()\n",
    "null_values = pd.concat([total_missing_values, missing_values_per_column], axis=1, keys=['total_null', 'total_null_perc'])\n",
    "null_values = null_values.sort_values('total_null', ascending=False)\n",
    "print(null_values)"
   ]
  },
  {
   "cell_type": "code",
   "execution_count": 29,
   "metadata": {
    "colab": {
     "base_uri": "https://localhost:8080/"
    },
    "executionInfo": {
     "elapsed": 1119,
     "status": "ok",
     "timestamp": 1664293284758,
     "user": {
      "displayName": "Serena Gomez",
      "userId": "05959088368982916741"
     },
     "user_tz": -330
    },
    "id": "bFO9mfjF6p0f",
    "outputId": "9671f610-c367-4077-b133-4ef19af7add6"
   },
   "outputs": [
    {
     "name": "stdout",
     "output_type": "stream",
     "text": [
      "Index(['id', 'url', 'region', 'region_url', 'price', 'year', 'manufacturer',\n",
      "       'model', 'cylinders', 'fuel', 'odometer', 'title_status',\n",
      "       'transmission', 'VIN', 'drive', 'type', 'paint_color', 'image_url',\n",
      "       'description', 'state', 'lat', 'long', 'posting_date'],\n",
      "      dtype='object')\n"
     ]
    }
   ],
   "source": [
    "NA_val = df_without_outliers.isna().sum();\n",
    "def na_filter(na, threshold = .4): #only select variables that passees the threshold\n",
    "    col_pass = []\n",
    "    for i in na.keys():\n",
    "        if na[i]/df_without_outliers.shape[0] < threshold:\n",
    "            col_pass.append(i)\n",
    "    return col_pass\n",
    "df_cleaned = df_without_outliers[na_filter(NA_val)]\n",
    "print(df_cleaned.columns)\n"
   ]
  },
  {
   "cell_type": "code",
   "execution_count": 30,
   "metadata": {
    "colab": {
     "base_uri": "https://localhost:8080/"
    },
    "executionInfo": {
     "elapsed": 423,
     "status": "ok",
     "timestamp": 1664293298492,
     "user": {
      "displayName": "Serena Gomez",
      "userId": "05959088368982916741"
     },
     "user_tz": -330
    },
    "id": "PvJ7zV4c7azR",
    "outputId": "14861d22-41b2-4a3c-f886-e689d313e848"
   },
   "outputs": [
    {
     "name": "stdout",
     "output_type": "stream",
     "text": [
      "26 23\n"
     ]
    }
   ],
   "source": [
    "print(len(df_without_outliers.columns),len(df_cleaned.columns))"
   ]
  },
  {
   "cell_type": "code",
   "execution_count": 31,
   "metadata": {
    "colab": {
     "base_uri": "https://localhost:8080/"
    },
    "executionInfo": {
     "elapsed": 431,
     "status": "ok",
     "timestamp": 1664293305652,
     "user": {
      "displayName": "Serena Gomez",
      "userId": "05959088368982916741"
     },
     "user_tz": -330
    },
    "id": "3NvozGCO7kGQ",
    "outputId": "919371eb-105c-4447-bbb4-3de2d8d32b0b"
   },
   "outputs": [
    {
     "name": "stdout",
     "output_type": "stream",
     "text": [
      "(1741, 21)\n"
     ]
    }
   ],
   "source": [
    "df_cleaned = df_cleaned.copy().drop(['id','model'],axis=1)\n",
    "print(df_cleaned.shape)"
   ]
  },
  {
   "cell_type": "code",
   "execution_count": 32,
   "metadata": {
    "colab": {
     "base_uri": "https://localhost:8080/"
    },
    "executionInfo": {
     "elapsed": 34,
     "status": "ok",
     "timestamp": 1664173107114,
     "user": {
      "displayName": "Serena Gomez",
      "userId": "05959088368982916741"
     },
     "user_tz": -330
    },
    "id": "5tyBZLixTQAS",
    "outputId": "a327bdca-2c59-4595-986a-15ea274609bd"
   },
   "outputs": [
    {
     "data": {
      "text/plain": [
       "count    1.961000e+03\n",
       "mean     2.039772e+05\n",
       "std      9.918244e+05\n",
       "min      0.000000e+00\n",
       "25%      2.965200e+04\n",
       "50%      8.800000e+04\n",
       "75%      1.573050e+05\n",
       "max      9.999999e+06\n",
       "Name: odometer, dtype: float64"
      ]
     },
     "execution_count": 32,
     "metadata": {},
     "output_type": "execute_result"
    }
   ],
   "source": [
    "# Lower Bound: (Q1 - 1.5 * IQR)\n",
    "# Upper Bound: (Q3 + 1.5 * IQR)\n",
    "df['odometer'].describe()"
   ]
  },
  {
   "cell_type": "code",
   "execution_count": 33,
   "metadata": {
    "id": "9bwSBY9rEEUM"
   },
   "outputs": [],
   "source": [
    "df_cleaned = df_cleaned[df_cleaned['year'].between(1900, 2020)]\n",
    "df_cleaned = df_cleaned[df_cleaned['odometer'].between(0, 348784.5)] # = 157305 + 1.5 * (157305-29692)\n",
    "df_cleaned = df_cleaned[df_cleaned['price'].between(999.99, 250000)]; "
   ]
  },
  {
   "cell_type": "code",
   "execution_count": 34,
   "metadata": {
    "colab": {
     "base_uri": "https://localhost:8080/"
    },
    "executionInfo": {
     "elapsed": 4,
     "status": "ok",
     "timestamp": 1664293357936,
     "user": {
      "displayName": "Serena Gomez",
      "userId": "05959088368982916741"
     },
     "user_tz": -330
    },
    "id": "b06yL8t7Eloq",
    "outputId": "0f6659c2-f0bf-4fad-cb66-045a9e31d861"
   },
   "outputs": [
    {
     "data": {
      "text/plain": [
       "url               0\n",
       "region            0\n",
       "region_url        0\n",
       "price             0\n",
       "year              0\n",
       "manufacturer     47\n",
       "cylinders       598\n",
       "fuel             32\n",
       "odometer          0\n",
       "title_status     96\n",
       "transmission      0\n",
       "VIN             497\n",
       "drive           489\n",
       "type            464\n",
       "paint_color     354\n",
       "image_url         0\n",
       "description       0\n",
       "state             0\n",
       "lat               4\n",
       "long              4\n",
       "posting_date      0\n",
       "dtype: int64"
      ]
     },
     "execution_count": 34,
     "metadata": {},
     "output_type": "execute_result"
    }
   ],
   "source": [
    "df_cleaned.isnull().sum()"
   ]
  },
  {
   "cell_type": "code",
   "execution_count": 35,
   "metadata": {
    "colab": {
     "base_uri": "https://localhost:8080/",
     "height": 1000
    },
    "executionInfo": {
     "elapsed": 524,
     "status": "ok",
     "timestamp": 1664293365668,
     "user": {
      "displayName": "Serena Gomez",
      "userId": "05959088368982916741"
     },
     "user_tz": -330
    },
    "id": "DkW8NyS7HqHn",
    "outputId": "299deae7-0f60-425e-a53d-35727b04d8b3"
   },
   "outputs": [
    {
     "data": {
      "text/html": [
       "<div>\n",
       "<style scoped>\n",
       "    .dataframe tbody tr th:only-of-type {\n",
       "        vertical-align: middle;\n",
       "    }\n",
       "\n",
       "    .dataframe tbody tr th {\n",
       "        vertical-align: top;\n",
       "    }\n",
       "\n",
       "    .dataframe thead th {\n",
       "        text-align: right;\n",
       "    }\n",
       "</style>\n",
       "<table border=\"1\" class=\"dataframe\">\n",
       "  <thead>\n",
       "    <tr style=\"text-align: right;\">\n",
       "      <th></th>\n",
       "      <th>url</th>\n",
       "      <th>region</th>\n",
       "      <th>region_url</th>\n",
       "      <th>price</th>\n",
       "      <th>year</th>\n",
       "      <th>manufacturer</th>\n",
       "      <th>cylinders</th>\n",
       "      <th>fuel</th>\n",
       "      <th>odometer</th>\n",
       "      <th>title_status</th>\n",
       "      <th>...</th>\n",
       "      <th>VIN</th>\n",
       "      <th>drive</th>\n",
       "      <th>type</th>\n",
       "      <th>paint_color</th>\n",
       "      <th>image_url</th>\n",
       "      <th>description</th>\n",
       "      <th>state</th>\n",
       "      <th>lat</th>\n",
       "      <th>long</th>\n",
       "      <th>posting_date</th>\n",
       "    </tr>\n",
       "  </thead>\n",
       "  <tbody>\n",
       "    <tr>\n",
       "      <th>27</th>\n",
       "      <td>https://auburn.craigslist.org/ctd/d/auburn-uni...</td>\n",
       "      <td>auburn</td>\n",
       "      <td>https://auburn.craigslist.org</td>\n",
       "      <td>33590</td>\n",
       "      <td>2014.0</td>\n",
       "      <td>gmc</td>\n",
       "      <td>8 cylinders</td>\n",
       "      <td>gas</td>\n",
       "      <td>57923.0</td>\n",
       "      <td>clean</td>\n",
       "      <td>...</td>\n",
       "      <td>3GTP1VEC4EG551563</td>\n",
       "      <td>fwd</td>\n",
       "      <td>pickup</td>\n",
       "      <td>white</td>\n",
       "      <td>https://images.craigslist.org/00R0R_lwWjXSEWNa...</td>\n",
       "      <td>Carvana is the safer way to buy a car During t...</td>\n",
       "      <td>al</td>\n",
       "      <td>32.590000</td>\n",
       "      <td>-85.480000</td>\n",
       "      <td>2021-05-04T12:31:18-0500</td>\n",
       "    </tr>\n",
       "    <tr>\n",
       "      <th>28</th>\n",
       "      <td>https://auburn.craigslist.org/ctd/d/auburn-uni...</td>\n",
       "      <td>auburn</td>\n",
       "      <td>https://auburn.craigslist.org</td>\n",
       "      <td>22590</td>\n",
       "      <td>2010.0</td>\n",
       "      <td>chevrolet</td>\n",
       "      <td>8 cylinders</td>\n",
       "      <td>gas</td>\n",
       "      <td>71229.0</td>\n",
       "      <td>clean</td>\n",
       "      <td>...</td>\n",
       "      <td>1GCSCSE06AZ123805</td>\n",
       "      <td>fwd</td>\n",
       "      <td>pickup</td>\n",
       "      <td>blue</td>\n",
       "      <td>https://images.craigslist.org/00R0R_lwWjXSEWNa...</td>\n",
       "      <td>Carvana is the safer way to buy a car During t...</td>\n",
       "      <td>al</td>\n",
       "      <td>32.590000</td>\n",
       "      <td>-85.480000</td>\n",
       "      <td>2021-05-04T12:31:08-0500</td>\n",
       "    </tr>\n",
       "    <tr>\n",
       "      <th>29</th>\n",
       "      <td>https://auburn.craigslist.org/ctd/d/auburn-uni...</td>\n",
       "      <td>auburn</td>\n",
       "      <td>https://auburn.craigslist.org</td>\n",
       "      <td>39590</td>\n",
       "      <td>2020.0</td>\n",
       "      <td>chevrolet</td>\n",
       "      <td>8 cylinders</td>\n",
       "      <td>gas</td>\n",
       "      <td>19160.0</td>\n",
       "      <td>clean</td>\n",
       "      <td>...</td>\n",
       "      <td>3GCPWCED5LG130317</td>\n",
       "      <td>fwd</td>\n",
       "      <td>pickup</td>\n",
       "      <td>red</td>\n",
       "      <td>https://images.craigslist.org/01212_jjirIWa0y0...</td>\n",
       "      <td>Carvana is the safer way to buy a car During t...</td>\n",
       "      <td>al</td>\n",
       "      <td>32.590000</td>\n",
       "      <td>-85.480000</td>\n",
       "      <td>2021-05-04T12:31:25-0500</td>\n",
       "    </tr>\n",
       "    <tr>\n",
       "      <th>30</th>\n",
       "      <td>https://auburn.craigslist.org/ctd/d/auburn-uni...</td>\n",
       "      <td>auburn</td>\n",
       "      <td>https://auburn.craigslist.org</td>\n",
       "      <td>30990</td>\n",
       "      <td>2017.0</td>\n",
       "      <td>toyota</td>\n",
       "      <td>8 cylinders</td>\n",
       "      <td>gas</td>\n",
       "      <td>41124.0</td>\n",
       "      <td>clean</td>\n",
       "      <td>...</td>\n",
       "      <td>5TFRM5F17HX120972</td>\n",
       "      <td>fwd</td>\n",
       "      <td>pickup</td>\n",
       "      <td>red</td>\n",
       "      <td>https://images.craigslist.org/00x0x_1y9kIOzGCF...</td>\n",
       "      <td>Carvana is the safer way to buy a car During t...</td>\n",
       "      <td>al</td>\n",
       "      <td>32.590000</td>\n",
       "      <td>-85.480000</td>\n",
       "      <td>2021-05-04T10:41:31-0500</td>\n",
       "    </tr>\n",
       "    <tr>\n",
       "      <th>31</th>\n",
       "      <td>https://auburn.craigslist.org/cto/d/auburn-uni...</td>\n",
       "      <td>auburn</td>\n",
       "      <td>https://auburn.craigslist.org</td>\n",
       "      <td>15000</td>\n",
       "      <td>2013.0</td>\n",
       "      <td>ford</td>\n",
       "      <td>6 cylinders</td>\n",
       "      <td>gas</td>\n",
       "      <td>128000.0</td>\n",
       "      <td>clean</td>\n",
       "      <td>...</td>\n",
       "      <td>NaN</td>\n",
       "      <td>rwd</td>\n",
       "      <td>truck</td>\n",
       "      <td>black</td>\n",
       "      <td>https://images.craigslist.org/00404_l4loxHvdQe...</td>\n",
       "      <td>2013 F-150 XLT V6 4 Door. Good condition. Leve...</td>\n",
       "      <td>al</td>\n",
       "      <td>32.592000</td>\n",
       "      <td>-85.518900</td>\n",
       "      <td>2021-05-03T14:02:03-0500</td>\n",
       "    </tr>\n",
       "    <tr>\n",
       "      <th>...</th>\n",
       "      <td>...</td>\n",
       "      <td>...</td>\n",
       "      <td>...</td>\n",
       "      <td>...</td>\n",
       "      <td>...</td>\n",
       "      <td>...</td>\n",
       "      <td>...</td>\n",
       "      <td>...</td>\n",
       "      <td>...</td>\n",
       "      <td>...</td>\n",
       "      <td>...</td>\n",
       "      <td>...</td>\n",
       "      <td>...</td>\n",
       "      <td>...</td>\n",
       "      <td>...</td>\n",
       "      <td>...</td>\n",
       "      <td>...</td>\n",
       "      <td>...</td>\n",
       "      <td>...</td>\n",
       "      <td>...</td>\n",
       "      <td>...</td>\n",
       "    </tr>\n",
       "    <tr>\n",
       "      <th>1994</th>\n",
       "      <td>https://dothan.craigslist.org/ctd/d/new-brockt...</td>\n",
       "      <td>dothan</td>\n",
       "      <td>https://dothan.craigslist.org</td>\n",
       "      <td>4000</td>\n",
       "      <td>2007.0</td>\n",
       "      <td>cadillac</td>\n",
       "      <td>8 cylinders</td>\n",
       "      <td>gas</td>\n",
       "      <td>141000.0</td>\n",
       "      <td>clean</td>\n",
       "      <td>...</td>\n",
       "      <td>NaN</td>\n",
       "      <td>rwd</td>\n",
       "      <td>sedan</td>\n",
       "      <td>grey</td>\n",
       "      <td>https://images.craigslist.org/00G0G_4LVl47viLZ...</td>\n",
       "      <td>Up for sale is a 2007 Cadillac DTS Runs Good w...</td>\n",
       "      <td>al</td>\n",
       "      <td>31.369000</td>\n",
       "      <td>-85.940400</td>\n",
       "      <td>2021-04-18T20:05:44-0500</td>\n",
       "    </tr>\n",
       "    <tr>\n",
       "      <th>1995</th>\n",
       "      <td>https://dothan.craigslist.org/cto/d/ozark-2005...</td>\n",
       "      <td>dothan</td>\n",
       "      <td>https://dothan.craigslist.org</td>\n",
       "      <td>2000</td>\n",
       "      <td>2005.0</td>\n",
       "      <td>ford</td>\n",
       "      <td>6 cylinders</td>\n",
       "      <td>gas</td>\n",
       "      <td>165000.0</td>\n",
       "      <td>clean</td>\n",
       "      <td>...</td>\n",
       "      <td>NaN</td>\n",
       "      <td>fwd</td>\n",
       "      <td>sedan</td>\n",
       "      <td>black</td>\n",
       "      <td>https://images.craigslist.org/01212_718RdXaGws...</td>\n",
       "      <td>4 door, 6 cylinder, black, everything works, a...</td>\n",
       "      <td>al</td>\n",
       "      <td>31.408000</td>\n",
       "      <td>-85.603000</td>\n",
       "      <td>2021-04-18T19:52:18-0500</td>\n",
       "    </tr>\n",
       "    <tr>\n",
       "      <th>1996</th>\n",
       "      <td>https://dothan.craigslist.org/ctd/d/alachua-20...</td>\n",
       "      <td>dothan</td>\n",
       "      <td>https://dothan.craigslist.org</td>\n",
       "      <td>17860</td>\n",
       "      <td>2014.0</td>\n",
       "      <td>jeep</td>\n",
       "      <td>NaN</td>\n",
       "      <td>gas</td>\n",
       "      <td>108321.0</td>\n",
       "      <td>clean</td>\n",
       "      <td>...</td>\n",
       "      <td>NaN</td>\n",
       "      <td>fwd</td>\n",
       "      <td>sedan</td>\n",
       "      <td>NaN</td>\n",
       "      <td>https://images.craigslist.org/00O0O_ijP2Qx9vMi...</td>\n",
       "      <td>2014 JEEP GRAND CHEROKEE LIMITED ~ Hundreds of...</td>\n",
       "      <td>al</td>\n",
       "      <td>29.801374</td>\n",
       "      <td>-82.531052</td>\n",
       "      <td>2021-04-18T17:15:59-0500</td>\n",
       "    </tr>\n",
       "    <tr>\n",
       "      <th>1997</th>\n",
       "      <td>https://dothan.craigslist.org/ctd/d/alachua-20...</td>\n",
       "      <td>dothan</td>\n",
       "      <td>https://dothan.craigslist.org</td>\n",
       "      <td>54488</td>\n",
       "      <td>2020.0</td>\n",
       "      <td>ford</td>\n",
       "      <td>NaN</td>\n",
       "      <td>gas</td>\n",
       "      <td>5459.0</td>\n",
       "      <td>clean</td>\n",
       "      <td>...</td>\n",
       "      <td>NaN</td>\n",
       "      <td>fwd</td>\n",
       "      <td>sedan</td>\n",
       "      <td>NaN</td>\n",
       "      <td>https://images.craigslist.org/00U0U_dTOexEOB2l...</td>\n",
       "      <td>2020 FORD F-150 LARIAT 4WD / F150 4X4 TRUCK ~ ...</td>\n",
       "      <td>al</td>\n",
       "      <td>29.802119</td>\n",
       "      <td>-82.529850</td>\n",
       "      <td>2021-04-18T17:14:22-0500</td>\n",
       "    </tr>\n",
       "    <tr>\n",
       "      <th>1998</th>\n",
       "      <td>https://dothan.craigslist.org/ctd/d/dothan-201...</td>\n",
       "      <td>dothan</td>\n",
       "      <td>https://dothan.craigslist.org</td>\n",
       "      <td>33990</td>\n",
       "      <td>2017.0</td>\n",
       "      <td>ram</td>\n",
       "      <td>8 cylinders</td>\n",
       "      <td>gas</td>\n",
       "      <td>17033.0</td>\n",
       "      <td>clean</td>\n",
       "      <td>...</td>\n",
       "      <td>3C6RR7KT7HG794054</td>\n",
       "      <td>4wd</td>\n",
       "      <td>pickup</td>\n",
       "      <td>blue</td>\n",
       "      <td>https://images.craigslist.org/00Y0Y_jRbwm0dSjS...</td>\n",
       "      <td>Carvana is the safer way to buy a car During t...</td>\n",
       "      <td>al</td>\n",
       "      <td>31.230000</td>\n",
       "      <td>-85.400000</td>\n",
       "      <td>2021-04-18T12:50:51-0500</td>\n",
       "    </tr>\n",
       "  </tbody>\n",
       "</table>\n",
       "<p>1560 rows × 21 columns</p>\n",
       "</div>"
      ],
      "text/plain": [
       "                                                    url  region  \\\n",
       "27    https://auburn.craigslist.org/ctd/d/auburn-uni...  auburn   \n",
       "28    https://auburn.craigslist.org/ctd/d/auburn-uni...  auburn   \n",
       "29    https://auburn.craigslist.org/ctd/d/auburn-uni...  auburn   \n",
       "30    https://auburn.craigslist.org/ctd/d/auburn-uni...  auburn   \n",
       "31    https://auburn.craigslist.org/cto/d/auburn-uni...  auburn   \n",
       "...                                                 ...     ...   \n",
       "1994  https://dothan.craigslist.org/ctd/d/new-brockt...  dothan   \n",
       "1995  https://dothan.craigslist.org/cto/d/ozark-2005...  dothan   \n",
       "1996  https://dothan.craigslist.org/ctd/d/alachua-20...  dothan   \n",
       "1997  https://dothan.craigslist.org/ctd/d/alachua-20...  dothan   \n",
       "1998  https://dothan.craigslist.org/ctd/d/dothan-201...  dothan   \n",
       "\n",
       "                         region_url  price    year manufacturer    cylinders  \\\n",
       "27    https://auburn.craigslist.org  33590  2014.0          gmc  8 cylinders   \n",
       "28    https://auburn.craigslist.org  22590  2010.0    chevrolet  8 cylinders   \n",
       "29    https://auburn.craigslist.org  39590  2020.0    chevrolet  8 cylinders   \n",
       "30    https://auburn.craigslist.org  30990  2017.0       toyota  8 cylinders   \n",
       "31    https://auburn.craigslist.org  15000  2013.0         ford  6 cylinders   \n",
       "...                             ...    ...     ...          ...          ...   \n",
       "1994  https://dothan.craigslist.org   4000  2007.0     cadillac  8 cylinders   \n",
       "1995  https://dothan.craigslist.org   2000  2005.0         ford  6 cylinders   \n",
       "1996  https://dothan.craigslist.org  17860  2014.0         jeep          NaN   \n",
       "1997  https://dothan.craigslist.org  54488  2020.0         ford          NaN   \n",
       "1998  https://dothan.craigslist.org  33990  2017.0          ram  8 cylinders   \n",
       "\n",
       "     fuel  odometer title_status  ...                VIN drive    type  \\\n",
       "27    gas   57923.0        clean  ...  3GTP1VEC4EG551563   fwd  pickup   \n",
       "28    gas   71229.0        clean  ...  1GCSCSE06AZ123805   fwd  pickup   \n",
       "29    gas   19160.0        clean  ...  3GCPWCED5LG130317   fwd  pickup   \n",
       "30    gas   41124.0        clean  ...  5TFRM5F17HX120972   fwd  pickup   \n",
       "31    gas  128000.0        clean  ...                NaN   rwd   truck   \n",
       "...   ...       ...          ...  ...                ...   ...     ...   \n",
       "1994  gas  141000.0        clean  ...                NaN   rwd   sedan   \n",
       "1995  gas  165000.0        clean  ...                NaN   fwd   sedan   \n",
       "1996  gas  108321.0        clean  ...                NaN   fwd   sedan   \n",
       "1997  gas    5459.0        clean  ...                NaN   fwd   sedan   \n",
       "1998  gas   17033.0        clean  ...  3C6RR7KT7HG794054   4wd  pickup   \n",
       "\n",
       "     paint_color                                          image_url  \\\n",
       "27         white  https://images.craigslist.org/00R0R_lwWjXSEWNa...   \n",
       "28          blue  https://images.craigslist.org/00R0R_lwWjXSEWNa...   \n",
       "29           red  https://images.craigslist.org/01212_jjirIWa0y0...   \n",
       "30           red  https://images.craigslist.org/00x0x_1y9kIOzGCF...   \n",
       "31         black  https://images.craigslist.org/00404_l4loxHvdQe...   \n",
       "...          ...                                                ...   \n",
       "1994        grey  https://images.craigslist.org/00G0G_4LVl47viLZ...   \n",
       "1995       black  https://images.craigslist.org/01212_718RdXaGws...   \n",
       "1996         NaN  https://images.craigslist.org/00O0O_ijP2Qx9vMi...   \n",
       "1997         NaN  https://images.craigslist.org/00U0U_dTOexEOB2l...   \n",
       "1998        blue  https://images.craigslist.org/00Y0Y_jRbwm0dSjS...   \n",
       "\n",
       "                                            description state        lat  \\\n",
       "27    Carvana is the safer way to buy a car During t...    al  32.590000   \n",
       "28    Carvana is the safer way to buy a car During t...    al  32.590000   \n",
       "29    Carvana is the safer way to buy a car During t...    al  32.590000   \n",
       "30    Carvana is the safer way to buy a car During t...    al  32.590000   \n",
       "31    2013 F-150 XLT V6 4 Door. Good condition. Leve...    al  32.592000   \n",
       "...                                                 ...   ...        ...   \n",
       "1994  Up for sale is a 2007 Cadillac DTS Runs Good w...    al  31.369000   \n",
       "1995  4 door, 6 cylinder, black, everything works, a...    al  31.408000   \n",
       "1996  2014 JEEP GRAND CHEROKEE LIMITED ~ Hundreds of...    al  29.801374   \n",
       "1997  2020 FORD F-150 LARIAT 4WD / F150 4X4 TRUCK ~ ...    al  29.802119   \n",
       "1998  Carvana is the safer way to buy a car During t...    al  31.230000   \n",
       "\n",
       "           long              posting_date  \n",
       "27   -85.480000  2021-05-04T12:31:18-0500  \n",
       "28   -85.480000  2021-05-04T12:31:08-0500  \n",
       "29   -85.480000  2021-05-04T12:31:25-0500  \n",
       "30   -85.480000  2021-05-04T10:41:31-0500  \n",
       "31   -85.518900  2021-05-03T14:02:03-0500  \n",
       "...         ...                       ...  \n",
       "1994 -85.940400  2021-04-18T20:05:44-0500  \n",
       "1995 -85.603000  2021-04-18T19:52:18-0500  \n",
       "1996 -82.531052  2021-04-18T17:15:59-0500  \n",
       "1997 -82.529850  2021-04-18T17:14:22-0500  \n",
       "1998 -85.400000  2021-04-18T12:50:51-0500  \n",
       "\n",
       "[1560 rows x 21 columns]"
      ]
     },
     "execution_count": 35,
     "metadata": {},
     "output_type": "execute_result"
    }
   ],
   "source": [
    "mode2 = df_cleaned[\"drive\"].mode().values[0];\n",
    "mode3= df_cleaned[\"type\"].mode().values[0];\n",
    "mode4= df_cleaned[\"fuel\"].mode().values[0];\n",
    "\n",
    "df_cleaned[\"drive\"]=df_cleaned[\"drive\"].replace(np.nan,mode2);\n",
    "df_cleaned[\"type\"]=df_cleaned[\"type\"].replace(np.NaN,mode3);\n",
    "df_cleaned[\"fuel\"]=df_cleaned[\"fuel\"].replace(np.nan,mode4);\n",
    "df_cleaned"
   ]
  },
  {
   "cell_type": "code",
   "execution_count": 36,
   "metadata": {
    "colab": {
     "base_uri": "https://localhost:8080/"
    },
    "executionInfo": {
     "elapsed": 6,
     "status": "ok",
     "timestamp": 1664293370063,
     "user": {
      "displayName": "Serena Gomez",
      "userId": "05959088368982916741"
     },
     "user_tz": -330
    },
    "id": "tn4TPavCH9or",
    "outputId": "04384033-6710-4155-824b-49d5041816ec"
   },
   "outputs": [
    {
     "name": "stdout",
     "output_type": "stream",
     "text": [
      "url               0\n",
      "region            0\n",
      "region_url        0\n",
      "price             0\n",
      "year              0\n",
      "manufacturer     47\n",
      "cylinders       598\n",
      "fuel              0\n",
      "odometer          0\n",
      "title_status     96\n",
      "transmission      0\n",
      "VIN             497\n",
      "drive             0\n",
      "type              0\n",
      "paint_color     354\n",
      "image_url         0\n",
      "description       0\n",
      "state             0\n",
      "lat               4\n",
      "long              4\n",
      "posting_date      0\n",
      "dtype: int64\n"
     ]
    }
   ],
   "source": [
    "print(df_cleaned.isnull().sum())"
   ]
  },
  {
   "cell_type": "code",
   "execution_count": 37,
   "metadata": {
    "id": "QtIHqYITIp8D"
   },
   "outputs": [],
   "source": [
    "df_cleaned=df_cleaned.dropna().reset_index()"
   ]
  },
  {
   "cell_type": "code",
   "execution_count": 38,
   "metadata": {
    "colab": {
     "base_uri": "https://localhost:8080/",
     "height": 328
    },
    "executionInfo": {
     "elapsed": 980,
     "status": "ok",
     "timestamp": 1664293380969,
     "user": {
      "displayName": "Serena Gomez",
      "userId": "05959088368982916741"
     },
     "user_tz": -330
    },
    "id": "Th0hiMYRJSDZ",
    "outputId": "ac21cb16-abb2-4143-a1f8-b3f0b6271135"
   },
   "outputs": [
    {
     "data": {
      "image/png": "[encoded data removed]",
      "text/plain": [
       "<Figure size 640x480 with 2 Axes>"
      ]
     },
     "metadata": {},
     "output_type": "display_data"
    }
   ],
   "source": [
    "sns.heatmap(df_cleaned.isnull());"
   ]
  },
  {
   "cell_type": "code",
   "execution_count": 39,
   "metadata": {
    "colab": {
     "base_uri": "https://localhost:8080/"
    },
    "executionInfo": {
     "elapsed": 429,
     "status": "ok",
     "timestamp": 1664293387166,
     "user": {
      "displayName": "Serena Gomez",
      "userId": "05959088368982916741"
     },
     "user_tz": -330
    },
    "id": "YUcceMYOJUe6",
    "outputId": "4b455986-9514-4819-a7b6-cabe648e91b6"
   },
   "outputs": [
    {
     "name": "stdout",
     "output_type": "stream",
     "text": [
      "0\n",
      "0\n"
     ]
    }
   ],
   "source": [
    "# check for duplicate entries\n",
    "duplicate = df_cleaned.duplicated();\n",
    "print(duplicate.sum());\n",
    "\n",
    "# remove duplicates\n",
    "df_cleaned.drop_duplicates(inplace=True);\n",
    "dp1=df_cleaned.duplicated();\n",
    "print(dp1.sum());"
   ]
  },
  {
   "cell_type": "code",
   "execution_count": 40,
   "metadata": {
    "colab": {
     "base_uri": "https://localhost:8080/"
    },
    "executionInfo": {
     "elapsed": 421,
     "status": "ok",
     "timestamp": 1664293395156,
     "user": {
      "displayName": "Serena Gomez",
      "userId": "05959088368982916741"
     },
     "user_tz": -330
    },
    "id": "p8hLWZx-JX2v",
    "outputId": "b094eb4c-1f19-4df1-d247-a26f08d4465a"
   },
   "outputs": [
    {
     "name": "stdout",
     "output_type": "stream",
     "text": [
      "0      pickup\n",
      "1      pickup\n",
      "2      pickup\n",
      "3      pickup\n",
      "4      pickup\n",
      "        ...  \n",
      "478    pickup\n",
      "479       suv\n",
      "480     sedan\n",
      "481     other\n",
      "482    pickup\n",
      "Name: type, Length: 483, dtype: object\n"
     ]
    }
   ],
   "source": [
    "# convert to lower case\n",
    "df_cleaned['type']=df_cleaned['type'].str.lower();\n",
    "print(df_cleaned['type']);"
   ]
  },
  {
   "cell_type": "code",
   "execution_count": 41,
   "metadata": {
    "colab": {
     "base_uri": "https://localhost:8080/",
     "height": 282
    },
    "executionInfo": {
     "elapsed": 9,
     "status": "ok",
     "timestamp": 1664293399882,
     "user": {
      "displayName": "Serena Gomez",
      "userId": "05959088368982916741"
     },
     "user_tz": -330
    },
    "id": "3iaEeKjZJomN",
    "outputId": "db819a2c-6f87-4b70-cb27-7b8eac0d39e4"
   },
   "outputs": [
    {
     "data": {
      "text/plain": [
       "<Axes: >"
      ]
     },
     "execution_count": 41,
     "metadata": {},
     "output_type": "execute_result"
    },
    {
     "data": {
      "image/png": "[encoded data removed]",
      "text/plain": [
       "<Figure size 640x480 with 1 Axes>"
      ]
     },
     "metadata": {},
     "output_type": "display_data"
    }
   ],
   "source": [
    "df_cleaned.boxplot(column=[\"price\"])"
   ]
  },
  {
   "cell_type": "code",
   "execution_count": 42,
   "metadata": {
    "id": "9o0lrBTuVC-y"
   },
   "outputs": [],
   "source": [
    "def remove_outlier(col):\n",
    "    sorted(col)\n",
    "    Q1,Q3=col.quantile([0.25,0.75])\n",
    "    IQR=Q3-Q1\n",
    "    lower_range=Q1-(1.5*IQR)\n",
    "    upper_range=Q3+(1.5*IQR)\n",
    "    return lower_range, upper_range "
   ]
  },
  {
   "cell_type": "code",
   "execution_count": 43,
   "metadata": {
    "id": "D1iU5G10VLlh"
   },
   "outputs": [],
   "source": [
    "lowprice, highprice=remove_outlier(df_cleaned[\"price\"])\n",
    "df_cleaned[\"price\"]=np.where(df_cleaned[\"price\"]>highprice,highprice,df_cleaned[\"price\"])\n",
    "df_cleaned[\"price\"]=np.where(df_cleaned[\"price\"]<lowprice,lowprice,df_cleaned[\"price\"])"
   ]
  },
  {
   "cell_type": "code",
   "execution_count": 44,
   "metadata": {
    "colab": {
     "base_uri": "https://localhost:8080/",
     "height": 282
    },
    "executionInfo": {
     "elapsed": 404,
     "status": "ok",
     "timestamp": 1664293416950,
     "user": {
      "displayName": "Serena Gomez",
      "userId": "05959088368982916741"
     },
     "user_tz": -330
    },
    "id": "8EVTMW4PVT_W",
    "outputId": "10d689dc-70ce-48b9-b64f-4a02d0295469"
   },
   "outputs": [
    {
     "data": {
      "text/plain": [
       "<Axes: >"
      ]
     },
     "execution_count": 44,
     "metadata": {},
     "output_type": "execute_result"
    },
    {
     "data": {
      "image/png": "[encoded data removed]",
      "text/plain": [
       "<Figure size 640x480 with 1 Axes>"
      ]
     },
     "metadata": {},
     "output_type": "display_data"
    }
   ],
   "source": [
    "df_cleaned.boxplot(column=[\"price\"])"
   ]
  },
  {
   "cell_type": "code",
   "execution_count": 45,
   "metadata": {
    "id": "yo3CSO5ddixJ"
   },
   "outputs": [],
   "source": [
    "df_cleaned = df_cleaned.copy().drop(['index'],axis=1)"
   ]
  },
  {
   "cell_type": "code",
   "execution_count": null,
   "metadata": {
    "colab": {
     "base_uri": "https://localhost:8080/",
     "height": 470
    },
    "executionInfo": {
     "elapsed": 989,
     "status": "ok",
     "timestamp": 1664293430029,
     "user": {
      "displayName": "Serena Gomez",
      "userId": "05959088368982916741"
     },
     "user_tz": -330
    },
    "id": "ObaD_4OncP3P",
    "outputId": "dec4452b-373c-4e84-9480-ee250e6e194b"
   },
   "outputs": [
    {
     "data": {
      "image/png": "[encoded data removed]",
      "text/plain": [
       "<Figure size 576x576 with 2 Axes>"
      ]
     },
     "metadata": {
      "needs_background": "light"
     },
     "output_type": "display_data"
    }
   ],
   "source": [
    "dataCorr = df_cleaned.corr()\n",
    "plt.figure(figsize=(8,8))\n",
    "plt.title('Correlation Matrix', fontsize=\"xx-large\")\n",
    "sns.heatmap(dataCorr, annot=True, fmt='.2f', square=True, cmap = 'PuBu')\n",
    "plt.show()"
   ]
  },
  {
   "cell_type": "markdown",
   "metadata": {
    "id": "Ma64Wor7vZlj"
   },
   "source": [
    "### Normalization"
   ]
  },
  {
   "cell_type": "code",
   "execution_count": null,
   "metadata": {
    "colab": {
     "base_uri": "https://localhost:8080/"
    },
    "executionInfo": {
     "elapsed": 519,
     "status": "ok",
     "timestamp": 1664293460688,
     "user": {
      "displayName": "Serena Gomez",
      "userId": "05959088368982916741"
     },
     "user_tz": -330
    },
    "id": "1f3Htw0rVWw5",
    "outputId": "abf7c03f-4d54-479b-b18a-f44e8cf882ee"
   },
   "outputs": [
    {
     "name": "stdout",
     "output_type": "stream",
     "text": [
      "(483, 21)\n"
     ]
    },
    {
     "name": "stderr",
     "output_type": "stream",
     "text": [
      "C:\\Users\\seren\\AppData\\Local\\Temp\\ipykernel_6892\\230743884.py:2: FutureWarning: Dropping of nuisance columns in DataFrame reductions (with 'numeric_only=None') is deprecated; in a future version this will raise TypeError.  Select only valid columns before calling the reduction.\n",
      "  df_cleaned.mean()\n"
     ]
    },
    {
     "data": {
      "text/plain": [
       "price       19524.712215\n",
       "year         2012.300207\n",
       "odometer    96188.697723\n",
       "lat            33.391480\n",
       "long          -86.472699\n",
       "dtype: float64"
      ]
     },
     "execution_count": 40,
     "metadata": {},
     "output_type": "execute_result"
    }
   ],
   "source": [
    "print(df_cleaned.shape)\n",
    "df_cleaned.mean()"
   ]
  },
  {
   "cell_type": "code",
   "execution_count": null,
   "metadata": {
    "colab": {
     "base_uri": "https://localhost:8080/"
    },
    "executionInfo": {
     "elapsed": 7,
     "status": "ok",
     "timestamp": 1664293462940,
     "user": {
      "displayName": "Serena Gomez",
      "userId": "05959088368982916741"
     },
     "user_tz": -330
    },
    "id": "p3YOXQ1oVb3u",
    "outputId": "8a9666f2-f322-4eb9-c4bd-1343f31936fd"
   },
   "outputs": [
    {
     "name": "stderr",
     "output_type": "stream",
     "text": [
      "C:\\Users\\seren\\AppData\\Local\\Temp\\ipykernel_6892\\44033930.py:1: FutureWarning: Dropping of nuisance columns in DataFrame reductions (with 'numeric_only=None') is deprecated; in a future version this will raise TypeError.  Select only valid columns before calling the reduction.\n",
      "  df_cleaned.var()\n"
     ]
    },
    {
     "data": {
      "text/plain": [
       "price       1.908223e+08\n",
       "year        3.522297e+01\n",
       "odometer    5.225566e+09\n",
       "lat         1.222452e+00\n",
       "long        8.722578e-01\n",
       "dtype: float64"
      ]
     },
     "execution_count": 41,
     "metadata": {},
     "output_type": "execute_result"
    }
   ],
   "source": [
    "df_cleaned.var()"
   ]
  },
  {
   "cell_type": "code",
   "execution_count": null,
   "metadata": {
    "colab": {
     "base_uri": "https://localhost:8080/",
     "height": 1000
    },
    "executionInfo": {
     "elapsed": 419,
     "status": "ok",
     "timestamp": 1664293477959,
     "user": {
      "displayName": "Serena Gomez",
      "userId": "05959088368982916741"
     },
     "user_tz": -330
    },
    "id": "HQrpJKzGVfPN",
    "outputId": "799b2f4a-cd16-4472-b7fc-2f6feb7dd50e"
   },
   "outputs": [
    {
     "data": {
      "text/html": [
       "<div>\n",
       "<style scoped>\n",
       "    .dataframe tbody tr th:only-of-type {\n",
       "        vertical-align: middle;\n",
       "    }\n",
       "\n",
       "    .dataframe tbody tr th {\n",
       "        vertical-align: top;\n",
       "    }\n",
       "\n",
       "    .dataframe thead th {\n",
       "        text-align: right;\n",
       "    }\n",
       "</style>\n",
       "<table border=\"1\" class=\"dataframe\">\n",
       "  <thead>\n",
       "    <tr style=\"text-align: right;\">\n",
       "      <th></th>\n",
       "      <th>url</th>\n",
       "      <th>region</th>\n",
       "      <th>region_url</th>\n",
       "      <th>price</th>\n",
       "      <th>year</th>\n",
       "      <th>manufacturer</th>\n",
       "      <th>cylinders</th>\n",
       "      <th>fuel</th>\n",
       "      <th>odometer</th>\n",
       "      <th>title_status</th>\n",
       "      <th>...</th>\n",
       "      <th>image_url</th>\n",
       "      <th>description</th>\n",
       "      <th>state</th>\n",
       "      <th>lat</th>\n",
       "      <th>long</th>\n",
       "      <th>posting_date</th>\n",
       "      <th>n_price</th>\n",
       "      <th>n_odometer</th>\n",
       "      <th>n_lat</th>\n",
       "      <th>n_long</th>\n",
       "    </tr>\n",
       "  </thead>\n",
       "  <tbody>\n",
       "    <tr>\n",
       "      <th>0</th>\n",
       "      <td>https://auburn.craigslist.org/ctd/d/auburn-uni...</td>\n",
       "      <td>auburn</td>\n",
       "      <td>https://auburn.craigslist.org</td>\n",
       "      <td>33590.0</td>\n",
       "      <td>2014.0</td>\n",
       "      <td>gmc</td>\n",
       "      <td>8 cylinders</td>\n",
       "      <td>gas</td>\n",
       "      <td>57923.0</td>\n",
       "      <td>clean</td>\n",
       "      <td>...</td>\n",
       "      <td>https://images.craigslist.org/00R0R_lwWjXSEWNa...</td>\n",
       "      <td>Carvana is the safer way to buy a car During t...</td>\n",
       "      <td>al</td>\n",
       "      <td>32.5900</td>\n",
       "      <td>-85.4800</td>\n",
       "      <td>2021-05-04T12:31:18-0500</td>\n",
       "      <td>0.450622</td>\n",
       "      <td>0.190302</td>\n",
       "      <td>0.361679</td>\n",
       "      <td>0.432061</td>\n",
       "    </tr>\n",
       "    <tr>\n",
       "      <th>1</th>\n",
       "      <td>https://auburn.craigslist.org/ctd/d/auburn-uni...</td>\n",
       "      <td>auburn</td>\n",
       "      <td>https://auburn.craigslist.org</td>\n",
       "      <td>22590.0</td>\n",
       "      <td>2010.0</td>\n",
       "      <td>chevrolet</td>\n",
       "      <td>8 cylinders</td>\n",
       "      <td>gas</td>\n",
       "      <td>71229.0</td>\n",
       "      <td>clean</td>\n",
       "      <td>...</td>\n",
       "      <td>https://images.craigslist.org/00R0R_lwWjXSEWNa...</td>\n",
       "      <td>Carvana is the safer way to buy a car During t...</td>\n",
       "      <td>al</td>\n",
       "      <td>32.5900</td>\n",
       "      <td>-85.4800</td>\n",
       "      <td>2021-05-04T12:31:08-0500</td>\n",
       "      <td>0.294205</td>\n",
       "      <td>0.234084</td>\n",
       "      <td>0.361679</td>\n",
       "      <td>0.432061</td>\n",
       "    </tr>\n",
       "    <tr>\n",
       "      <th>2</th>\n",
       "      <td>https://auburn.craigslist.org/ctd/d/auburn-uni...</td>\n",
       "      <td>auburn</td>\n",
       "      <td>https://auburn.craigslist.org</td>\n",
       "      <td>39590.0</td>\n",
       "      <td>2020.0</td>\n",
       "      <td>chevrolet</td>\n",
       "      <td>8 cylinders</td>\n",
       "      <td>gas</td>\n",
       "      <td>19160.0</td>\n",
       "      <td>clean</td>\n",
       "      <td>...</td>\n",
       "      <td>https://images.craigslist.org/01212_jjirIWa0y0...</td>\n",
       "      <td>Carvana is the safer way to buy a car During t...</td>\n",
       "      <td>al</td>\n",
       "      <td>32.5900</td>\n",
       "      <td>-85.4800</td>\n",
       "      <td>2021-05-04T12:31:25-0500</td>\n",
       "      <td>0.535940</td>\n",
       "      <td>0.062755</td>\n",
       "      <td>0.361679</td>\n",
       "      <td>0.432061</td>\n",
       "    </tr>\n",
       "    <tr>\n",
       "      <th>3</th>\n",
       "      <td>https://auburn.craigslist.org/ctd/d/auburn-uni...</td>\n",
       "      <td>auburn</td>\n",
       "      <td>https://auburn.craigslist.org</td>\n",
       "      <td>30990.0</td>\n",
       "      <td>2017.0</td>\n",
       "      <td>toyota</td>\n",
       "      <td>8 cylinders</td>\n",
       "      <td>gas</td>\n",
       "      <td>41124.0</td>\n",
       "      <td>clean</td>\n",
       "      <td>...</td>\n",
       "      <td>https://images.craigslist.org/00x0x_1y9kIOzGCF...</td>\n",
       "      <td>Carvana is the safer way to buy a car During t...</td>\n",
       "      <td>al</td>\n",
       "      <td>32.5900</td>\n",
       "      <td>-85.4800</td>\n",
       "      <td>2021-05-04T10:41:31-0500</td>\n",
       "      <td>0.413651</td>\n",
       "      <td>0.135026</td>\n",
       "      <td>0.361679</td>\n",
       "      <td>0.432061</td>\n",
       "    </tr>\n",
       "    <tr>\n",
       "      <th>4</th>\n",
       "      <td>https://auburn.craigslist.org/ctd/d/auburn-uni...</td>\n",
       "      <td>auburn</td>\n",
       "      <td>https://auburn.craigslist.org</td>\n",
       "      <td>27990.0</td>\n",
       "      <td>2012.0</td>\n",
       "      <td>gmc</td>\n",
       "      <td>8 cylinders</td>\n",
       "      <td>gas</td>\n",
       "      <td>68696.0</td>\n",
       "      <td>clean</td>\n",
       "      <td>...</td>\n",
       "      <td>https://images.craigslist.org/00V0V_ftJbKrOgdi...</td>\n",
       "      <td>Carvana is the safer way to buy a car During t...</td>\n",
       "      <td>al</td>\n",
       "      <td>32.5900</td>\n",
       "      <td>-85.4800</td>\n",
       "      <td>2021-05-03T13:41:25-0500</td>\n",
       "      <td>0.370992</td>\n",
       "      <td>0.225750</td>\n",
       "      <td>0.361679</td>\n",
       "      <td>0.432061</td>\n",
       "    </tr>\n",
       "    <tr>\n",
       "      <th>...</th>\n",
       "      <td>...</td>\n",
       "      <td>...</td>\n",
       "      <td>...</td>\n",
       "      <td>...</td>\n",
       "      <td>...</td>\n",
       "      <td>...</td>\n",
       "      <td>...</td>\n",
       "      <td>...</td>\n",
       "      <td>...</td>\n",
       "      <td>...</td>\n",
       "      <td>...</td>\n",
       "      <td>...</td>\n",
       "      <td>...</td>\n",
       "      <td>...</td>\n",
       "      <td>...</td>\n",
       "      <td>...</td>\n",
       "      <td>...</td>\n",
       "      <td>...</td>\n",
       "      <td>...</td>\n",
       "      <td>...</td>\n",
       "      <td>...</td>\n",
       "    </tr>\n",
       "    <tr>\n",
       "      <th>478</th>\n",
       "      <td>https://dothan.craigslist.org/ctd/d/dothan-201...</td>\n",
       "      <td>dothan</td>\n",
       "      <td>https://dothan.craigslist.org</td>\n",
       "      <td>31990.0</td>\n",
       "      <td>2018.0</td>\n",
       "      <td>ram</td>\n",
       "      <td>6 cylinders</td>\n",
       "      <td>gas</td>\n",
       "      <td>27426.0</td>\n",
       "      <td>clean</td>\n",
       "      <td>...</td>\n",
       "      <td>https://images.craigslist.org/00N0N_2jTQMykFWk...</td>\n",
       "      <td>Carvana is the safer way to buy a car During t...</td>\n",
       "      <td>al</td>\n",
       "      <td>31.2300</td>\n",
       "      <td>-85.4000</td>\n",
       "      <td>2021-04-23T09:50:48-0500</td>\n",
       "      <td>0.427871</td>\n",
       "      <td>0.089954</td>\n",
       "      <td>0.137596</td>\n",
       "      <td>0.440796</td>\n",
       "    </tr>\n",
       "    <tr>\n",
       "      <th>479</th>\n",
       "      <td>https://dothan.craigslist.org/ctd/d/destin-201...</td>\n",
       "      <td>dothan</td>\n",
       "      <td>https://dothan.craigslist.org</td>\n",
       "      <td>15900.0</td>\n",
       "      <td>2011.0</td>\n",
       "      <td>mercedes-benz</td>\n",
       "      <td>6 cylinders</td>\n",
       "      <td>gas</td>\n",
       "      <td>63000.0</td>\n",
       "      <td>clean</td>\n",
       "      <td>...</td>\n",
       "      <td>https://images.craigslist.org/01515_lb3H7yIHST...</td>\n",
       "      <td>Just arrived, beautiful 2011 Mercedes-Benz GLK...</td>\n",
       "      <td>al</td>\n",
       "      <td>30.3949</td>\n",
       "      <td>-86.4692</td>\n",
       "      <td>2021-04-22T11:32:17-0500</td>\n",
       "      <td>0.199076</td>\n",
       "      <td>0.207007</td>\n",
       "      <td>0.000000</td>\n",
       "      <td>0.324054</td>\n",
       "    </tr>\n",
       "    <tr>\n",
       "      <th>480</th>\n",
       "      <td>https://dothan.craigslist.org/ctd/d/dothan-201...</td>\n",
       "      <td>dothan</td>\n",
       "      <td>https://dothan.craigslist.org</td>\n",
       "      <td>29590.0</td>\n",
       "      <td>2017.0</td>\n",
       "      <td>lincoln</td>\n",
       "      <td>6 cylinders</td>\n",
       "      <td>gas</td>\n",
       "      <td>35320.0</td>\n",
       "      <td>clean</td>\n",
       "      <td>...</td>\n",
       "      <td>https://images.craigslist.org/01616_7CkTL4cGX9...</td>\n",
       "      <td>Carvana is the safer way to buy a car During t...</td>\n",
       "      <td>al</td>\n",
       "      <td>31.2300</td>\n",
       "      <td>-85.4000</td>\n",
       "      <td>2021-04-20T12:50:41-0500</td>\n",
       "      <td>0.393743</td>\n",
       "      <td>0.115928</td>\n",
       "      <td>0.137596</td>\n",
       "      <td>0.440796</td>\n",
       "    </tr>\n",
       "    <tr>\n",
       "      <th>481</th>\n",
       "      <td>https://dothan.craigslist.org/ctd/d/dothan-201...</td>\n",
       "      <td>dothan</td>\n",
       "      <td>https://dothan.craigslist.org</td>\n",
       "      <td>20590.0</td>\n",
       "      <td>2013.0</td>\n",
       "      <td>acura</td>\n",
       "      <td>6 cylinders</td>\n",
       "      <td>gas</td>\n",
       "      <td>77087.0</td>\n",
       "      <td>clean</td>\n",
       "      <td>...</td>\n",
       "      <td>https://images.craigslist.org/00N0N_1xMPvfxRAI...</td>\n",
       "      <td>Carvana is the safer way to buy a car During t...</td>\n",
       "      <td>al</td>\n",
       "      <td>31.2300</td>\n",
       "      <td>-85.4000</td>\n",
       "      <td>2021-04-20T11:51:23-0500</td>\n",
       "      <td>0.265766</td>\n",
       "      <td>0.253360</td>\n",
       "      <td>0.137596</td>\n",
       "      <td>0.440796</td>\n",
       "    </tr>\n",
       "    <tr>\n",
       "      <th>482</th>\n",
       "      <td>https://dothan.craigslist.org/ctd/d/dothan-201...</td>\n",
       "      <td>dothan</td>\n",
       "      <td>https://dothan.craigslist.org</td>\n",
       "      <td>33990.0</td>\n",
       "      <td>2017.0</td>\n",
       "      <td>ram</td>\n",
       "      <td>8 cylinders</td>\n",
       "      <td>gas</td>\n",
       "      <td>17033.0</td>\n",
       "      <td>clean</td>\n",
       "      <td>...</td>\n",
       "      <td>https://images.craigslist.org/00Y0Y_jRbwm0dSjS...</td>\n",
       "      <td>Carvana is the safer way to buy a car During t...</td>\n",
       "      <td>al</td>\n",
       "      <td>31.2300</td>\n",
       "      <td>-85.4000</td>\n",
       "      <td>2021-04-18T12:50:51-0500</td>\n",
       "      <td>0.456310</td>\n",
       "      <td>0.055756</td>\n",
       "      <td>0.137596</td>\n",
       "      <td>0.440796</td>\n",
       "    </tr>\n",
       "  </tbody>\n",
       "</table>\n",
       "<p>483 rows × 25 columns</p>\n",
       "</div>"
      ],
      "text/plain": [
       "                                                   url  region  \\\n",
       "0    https://auburn.craigslist.org/ctd/d/auburn-uni...  auburn   \n",
       "1    https://auburn.craigslist.org/ctd/d/auburn-uni...  auburn   \n",
       "2    https://auburn.craigslist.org/ctd/d/auburn-uni...  auburn   \n",
       "3    https://auburn.craigslist.org/ctd/d/auburn-uni...  auburn   \n",
       "4    https://auburn.craigslist.org/ctd/d/auburn-uni...  auburn   \n",
       "..                                                 ...     ...   \n",
       "478  https://dothan.craigslist.org/ctd/d/dothan-201...  dothan   \n",
       "479  https://dothan.craigslist.org/ctd/d/destin-201...  dothan   \n",
       "480  https://dothan.craigslist.org/ctd/d/dothan-201...  dothan   \n",
       "481  https://dothan.craigslist.org/ctd/d/dothan-201...  dothan   \n",
       "482  https://dothan.craigslist.org/ctd/d/dothan-201...  dothan   \n",
       "\n",
       "                        region_url    price    year   manufacturer  \\\n",
       "0    https://auburn.craigslist.org  33590.0  2014.0            gmc   \n",
       "1    https://auburn.craigslist.org  22590.0  2010.0      chevrolet   \n",
       "2    https://auburn.craigslist.org  39590.0  2020.0      chevrolet   \n",
       "3    https://auburn.craigslist.org  30990.0  2017.0         toyota   \n",
       "4    https://auburn.craigslist.org  27990.0  2012.0            gmc   \n",
       "..                             ...      ...     ...            ...   \n",
       "478  https://dothan.craigslist.org  31990.0  2018.0            ram   \n",
       "479  https://dothan.craigslist.org  15900.0  2011.0  mercedes-benz   \n",
       "480  https://dothan.craigslist.org  29590.0  2017.0        lincoln   \n",
       "481  https://dothan.craigslist.org  20590.0  2013.0          acura   \n",
       "482  https://dothan.craigslist.org  33990.0  2017.0            ram   \n",
       "\n",
       "       cylinders fuel  odometer title_status  ...  \\\n",
       "0    8 cylinders  gas   57923.0        clean  ...   \n",
       "1    8 cylinders  gas   71229.0        clean  ...   \n",
       "2    8 cylinders  gas   19160.0        clean  ...   \n",
       "3    8 cylinders  gas   41124.0        clean  ...   \n",
       "4    8 cylinders  gas   68696.0        clean  ...   \n",
       "..           ...  ...       ...          ...  ...   \n",
       "478  6 cylinders  gas   27426.0        clean  ...   \n",
       "479  6 cylinders  gas   63000.0        clean  ...   \n",
       "480  6 cylinders  gas   35320.0        clean  ...   \n",
       "481  6 cylinders  gas   77087.0        clean  ...   \n",
       "482  8 cylinders  gas   17033.0        clean  ...   \n",
       "\n",
       "                                             image_url  \\\n",
       "0    https://images.craigslist.org/00R0R_lwWjXSEWNa...   \n",
       "1    https://images.craigslist.org/00R0R_lwWjXSEWNa...   \n",
       "2    https://images.craigslist.org/01212_jjirIWa0y0...   \n",
       "3    https://images.craigslist.org/00x0x_1y9kIOzGCF...   \n",
       "4    https://images.craigslist.org/00V0V_ftJbKrOgdi...   \n",
       "..                                                 ...   \n",
       "478  https://images.craigslist.org/00N0N_2jTQMykFWk...   \n",
       "479  https://images.craigslist.org/01515_lb3H7yIHST...   \n",
       "480  https://images.craigslist.org/01616_7CkTL4cGX9...   \n",
       "481  https://images.craigslist.org/00N0N_1xMPvfxRAI...   \n",
       "482  https://images.craigslist.org/00Y0Y_jRbwm0dSjS...   \n",
       "\n",
       "                                           description state      lat  \\\n",
       "0    Carvana is the safer way to buy a car During t...    al  32.5900   \n",
       "1    Carvana is the safer way to buy a car During t...    al  32.5900   \n",
       "2    Carvana is the safer way to buy a car During t...    al  32.5900   \n",
       "3    Carvana is the safer way to buy a car During t...    al  32.5900   \n",
       "4    Carvana is the safer way to buy a car During t...    al  32.5900   \n",
       "..                                                 ...   ...      ...   \n",
       "478  Carvana is the safer way to buy a car During t...    al  31.2300   \n",
       "479  Just arrived, beautiful 2011 Mercedes-Benz GLK...    al  30.3949   \n",
       "480  Carvana is the safer way to buy a car During t...    al  31.2300   \n",
       "481  Carvana is the safer way to buy a car During t...    al  31.2300   \n",
       "482  Carvana is the safer way to buy a car During t...    al  31.2300   \n",
       "\n",
       "        long              posting_date   n_price n_odometer     n_lat  \\\n",
       "0   -85.4800  2021-05-04T12:31:18-0500  0.450622   0.190302  0.361679   \n",
       "1   -85.4800  2021-05-04T12:31:08-0500  0.294205   0.234084  0.361679   \n",
       "2   -85.4800  2021-05-04T12:31:25-0500  0.535940   0.062755  0.361679   \n",
       "3   -85.4800  2021-05-04T10:41:31-0500  0.413651   0.135026  0.361679   \n",
       "4   -85.4800  2021-05-03T13:41:25-0500  0.370992   0.225750  0.361679   \n",
       "..       ...                       ...       ...        ...       ...   \n",
       "478 -85.4000  2021-04-23T09:50:48-0500  0.427871   0.089954  0.137596   \n",
       "479 -86.4692  2021-04-22T11:32:17-0500  0.199076   0.207007  0.000000   \n",
       "480 -85.4000  2021-04-20T12:50:41-0500  0.393743   0.115928  0.137596   \n",
       "481 -85.4000  2021-04-20T11:51:23-0500  0.265766   0.253360  0.137596   \n",
       "482 -85.4000  2021-04-18T12:50:51-0500  0.456310   0.055756  0.137596   \n",
       "\n",
       "       n_long  \n",
       "0    0.432061  \n",
       "1    0.432061  \n",
       "2    0.432061  \n",
       "3    0.432061  \n",
       "4    0.432061  \n",
       "..        ...  \n",
       "478  0.440796  \n",
       "479  0.324054  \n",
       "480  0.440796  \n",
       "481  0.440796  \n",
       "482  0.440796  \n",
       "\n",
       "[483 rows x 25 columns]"
      ]
     },
     "execution_count": 42,
     "metadata": {},
     "output_type": "execute_result"
    }
   ],
   "source": [
    "from sklearn.preprocessing import MinMaxScaler\n",
    "col = ['price', 'odometer', 'lat', 'long']\n",
    "data = df_cleaned[col]\n",
    "s = data.values.astype(float)\n",
    "min_max_scaler = MinMaxScaler(feature_range=(0,1))\n",
    "s_scaled = min_max_scaler.fit_transform(s)\n",
    "df_normalized = pd.DataFrame(s_scaled, columns=col,index=df_cleaned.index)\n",
    "df_normalized = df_normalized.rename(columns={'price':'n_price', 'odometer':'n_odometer', 'lat':'n_lat', 'long':'n_long'})\n",
    "df_cleaned = pd.concat([df_cleaned, df_normalized],axis=1)\n",
    "df_cleaned"
   ]
  },
  {
   "cell_type": "code",
   "execution_count": null,
   "metadata": {
    "colab": {
     "base_uri": "https://localhost:8080/",
     "height": 580
    },
    "executionInfo": {
     "elapsed": 883,
     "status": "ok",
     "timestamp": 1664293483593,
     "user": {
      "displayName": "Serena Gomez",
      "userId": "05959088368982916741"
     },
     "user_tz": -330
    },
    "id": "Ouv0LAjiVspF",
    "outputId": "5f65c45b-0528-4dab-af2b-814c02569da6"
   },
   "outputs": [
    {
     "name": "stdout",
     "output_type": "stream",
     "text": [
      "price\n"
     ]
    },
    {
     "data": {
      "image/png": "[encoded data removed]",
      "text/plain": [
       "<Figure size 432x288 with 1 Axes>"
      ]
     },
     "metadata": {
      "needs_background": "light"
     },
     "output_type": "display_data"
    },
    {
     "name": "stdout",
     "output_type": "stream",
     "text": [
      "odometer\n"
     ]
    },
    {
     "data": {
      "image/png": "[encoded data removed]",
      "text/plain": [
       "<Figure size 432x288 with 1 Axes>"
      ]
     },
     "metadata": {
      "needs_background": "light"
     },
     "output_type": "display_data"
    }
   ],
   "source": [
    "data = df_cleaned[['price','odometer']]\n",
    "for i in data:\n",
    "    print(i)\n",
    "    plt.hist(df_cleaned[i])\n",
    "    plt.title('Before Normalization')\n",
    "    plt.show()"
   ]
  },
  {
   "cell_type": "code",
   "execution_count": null,
   "metadata": {
    "colab": {
     "base_uri": "https://localhost:8080/",
     "height": 580
    },
    "executionInfo": {
     "elapsed": 1434,
     "status": "ok",
     "timestamp": 1664293490173,
     "user": {
      "displayName": "Serena Gomez",
      "userId": "05959088368982916741"
     },
     "user_tz": -330
    },
    "id": "wL2kS8cRVzM2",
    "outputId": "ef0a2426-531a-49c9-819f-6669c371faad"
   },
   "outputs": [
    {
     "name": "stdout",
     "output_type": "stream",
     "text": [
      "n_price\n"
     ]
    },
    {
     "data": {
      "image/png": "[encoded data removed]",
      "text/plain": [
       "<Figure size 432x288 with 1 Axes>"
      ]
     },
     "metadata": {
      "needs_background": "light"
     },
     "output_type": "display_data"
    },
    {
     "name": "stdout",
     "output_type": "stream",
     "text": [
      "n_odometer\n"
     ]
    },
    {
     "data": {
      "image/png": "[encoded data removed]",
      "text/plain": [
       "<Figure size 432x288 with 1 Axes>"
      ]
     },
     "metadata": {
      "needs_background": "light"
     },
     "output_type": "display_data"
    }
   ],
   "source": [
    "data = df_cleaned[['n_price', 'n_odometer']]\n",
    "for i in data:\n",
    "    print(i)\n",
    "    plt.hist(df_normalized[i])\n",
    "    plt.title('After Normalization')\n",
    "    plt.show()"
   ]
  },
  {
   "cell_type": "code",
   "execution_count": null,
   "metadata": {
    "colab": {
     "base_uri": "https://localhost:8080/"
    },
    "executionInfo": {
     "elapsed": 390,
     "status": "ok",
     "timestamp": 1664293498050,
     "user": {
      "displayName": "Serena Gomez",
      "userId": "05959088368982916741"
     },
     "user_tz": -330
    },
    "id": "8-9NkFbMV3Fq",
    "outputId": "6f63dba4-0491-4f77-b8c8-79a7f44be136"
   },
   "outputs": [
    {
     "name": "stdout",
     "output_type": "stream",
     "text": [
      "Mean:\n",
      "n_price       0.3\n",
      "n_odometer    0.3\n",
      "n_lat         0.5\n",
      "n_long        0.3\n",
      "dtype: float64\n",
      "--------------------------\n",
      "Median:\n",
      "n_price       0.3\n",
      "n_odometer    0.3\n",
      "n_lat         0.5\n",
      "n_long        0.3\n",
      "dtype: float64\n",
      "--------------------------\n",
      "Variance:\n",
      "n_price       0.0\n",
      "n_odometer    0.1\n",
      "n_lat         0.0\n",
      "n_long        0.0\n",
      "dtype: float64\n",
      "--------------------------\n"
     ]
    }
   ],
   "source": [
    "print('Mean:')\n",
    "print(df_normalized.mean().round(decimals=1))\n",
    "print('--------------------------')\n",
    "print('Median:')\n",
    "print(df_normalized.median().round(decimals=1))\n",
    "print('--------------------------')\n",
    "print('Variance:')\n",
    "print(df_normalized.var().round(decimals=1))\n",
    "print('--------------------------')"
   ]
  },
  {
   "cell_type": "markdown",
   "metadata": {
    "id": "EphUioi0wTO2"
   },
   "source": [
    "### Standardization"
   ]
  },
  {
   "cell_type": "code",
   "execution_count": null,
   "metadata": {
    "colab": {
     "base_uri": "https://localhost:8080/",
     "height": 424
    },
    "executionInfo": {
     "elapsed": 13,
     "status": "ok",
     "timestamp": 1664293503116,
     "user": {
      "displayName": "Serena Gomez",
      "userId": "05959088368982916741"
     },
     "user_tz": -330
    },
    "id": "3gINsptaWgjc",
    "outputId": "e380e206-102f-4c6c-a52c-542c2a2d26bb"
   },
   "outputs": [
    {
     "data": {
      "text/html": [
       "<div>\n",
       "<style scoped>\n",
       "    .dataframe tbody tr th:only-of-type {\n",
       "        vertical-align: middle;\n",
       "    }\n",
       "\n",
       "    .dataframe tbody tr th {\n",
       "        vertical-align: top;\n",
       "    }\n",
       "\n",
       "    .dataframe thead th {\n",
       "        text-align: right;\n",
       "    }\n",
       "</style>\n",
       "<table border=\"1\" class=\"dataframe\">\n",
       "  <thead>\n",
       "    <tr style=\"text-align: right;\">\n",
       "      <th></th>\n",
       "      <th>price</th>\n",
       "      <th>odometer</th>\n",
       "      <th>lat</th>\n",
       "      <th>long</th>\n",
       "    </tr>\n",
       "  </thead>\n",
       "  <tbody>\n",
       "    <tr>\n",
       "      <th>0</th>\n",
       "      <td>1.019258</td>\n",
       "      <td>-0.529899</td>\n",
       "      <td>-0.725650</td>\n",
       "      <td>1.064009</td>\n",
       "    </tr>\n",
       "    <tr>\n",
       "      <th>1</th>\n",
       "      <td>0.222130</td>\n",
       "      <td>-0.345639</td>\n",
       "      <td>-0.725650</td>\n",
       "      <td>1.064009</td>\n",
       "    </tr>\n",
       "    <tr>\n",
       "      <th>2</th>\n",
       "      <td>1.454055</td>\n",
       "      <td>-1.066684</td>\n",
       "      <td>-0.725650</td>\n",
       "      <td>1.064009</td>\n",
       "    </tr>\n",
       "    <tr>\n",
       "      <th>3</th>\n",
       "      <td>0.830846</td>\n",
       "      <td>-0.762529</td>\n",
       "      <td>-0.725650</td>\n",
       "      <td>1.064009</td>\n",
       "    </tr>\n",
       "    <tr>\n",
       "      <th>4</th>\n",
       "      <td>0.613447</td>\n",
       "      <td>-0.380716</td>\n",
       "      <td>-0.725650</td>\n",
       "      <td>1.064009</td>\n",
       "    </tr>\n",
       "    <tr>\n",
       "      <th>...</th>\n",
       "      <td>...</td>\n",
       "      <td>...</td>\n",
       "      <td>...</td>\n",
       "      <td>...</td>\n",
       "    </tr>\n",
       "    <tr>\n",
       "      <th>478</th>\n",
       "      <td>0.903312</td>\n",
       "      <td>-0.952218</td>\n",
       "      <td>-1.956976</td>\n",
       "      <td>1.149756</td>\n",
       "    </tr>\n",
       "    <tr>\n",
       "      <th>479</th>\n",
       "      <td>-0.262669</td>\n",
       "      <td>-0.459593</td>\n",
       "      <td>-2.713064</td>\n",
       "      <td>0.003751</td>\n",
       "    </tr>\n",
       "    <tr>\n",
       "      <th>480</th>\n",
       "      <td>0.729393</td>\n",
       "      <td>-0.842903</td>\n",
       "      <td>-1.956976</td>\n",
       "      <td>1.149756</td>\n",
       "    </tr>\n",
       "    <tr>\n",
       "      <th>481</th>\n",
       "      <td>0.077197</td>\n",
       "      <td>-0.264518</td>\n",
       "      <td>-1.956976</td>\n",
       "      <td>1.149756</td>\n",
       "    </tr>\n",
       "    <tr>\n",
       "      <th>482</th>\n",
       "      <td>1.048244</td>\n",
       "      <td>-1.096139</td>\n",
       "      <td>-1.956976</td>\n",
       "      <td>1.149756</td>\n",
       "    </tr>\n",
       "  </tbody>\n",
       "</table>\n",
       "<p>483 rows × 4 columns</p>\n",
       "</div>"
      ],
      "text/plain": [
       "        price  odometer       lat      long\n",
       "0    1.019258 -0.529899 -0.725650  1.064009\n",
       "1    0.222130 -0.345639 -0.725650  1.064009\n",
       "2    1.454055 -1.066684 -0.725650  1.064009\n",
       "3    0.830846 -0.762529 -0.725650  1.064009\n",
       "4    0.613447 -0.380716 -0.725650  1.064009\n",
       "..        ...       ...       ...       ...\n",
       "478  0.903312 -0.952218 -1.956976  1.149756\n",
       "479 -0.262669 -0.459593 -2.713064  0.003751\n",
       "480  0.729393 -0.842903 -1.956976  1.149756\n",
       "481  0.077197 -0.264518 -1.956976  1.149756\n",
       "482  1.048244 -1.096139 -1.956976  1.149756\n",
       "\n",
       "[483 rows x 4 columns]"
      ]
     },
     "execution_count": 46,
     "metadata": {},
     "output_type": "execute_result"
    }
   ],
   "source": [
    "from sklearn.preprocessing import StandardScaler\n",
    "scaler = StandardScaler()\n",
    "scaled = scaler.fit_transform(s)\n",
    "df_std = pd.DataFrame(scaled)\n",
    "df_std = df_std.rename(columns={0:'price', 1:'odometer', 2:'lat', 3:'long'})\n",
    "df_std"
   ]
  },
  {
   "cell_type": "code",
   "execution_count": null,
   "metadata": {
    "colab": {
     "base_uri": "https://localhost:8080/",
     "height": 580
    },
    "executionInfo": {
     "elapsed": 12,
     "status": "ok",
     "timestamp": 1664293505338,
     "user": {
      "displayName": "Serena Gomez",
      "userId": "05959088368982916741"
     },
     "user_tz": -330
    },
    "id": "Idk-_yoVV-ml",
    "outputId": "358772b7-d570-47f7-cdef-174ed38a338f"
   },
   "outputs": [
    {
     "name": "stdout",
     "output_type": "stream",
     "text": [
      "price\n"
     ]
    },
    {
     "data": {
      "image/png": "[encoded data removed]",
      "text/plain": [
       "<Figure size 432x288 with 1 Axes>"
      ]
     },
     "metadata": {
      "needs_background": "light"
     },
     "output_type": "display_data"
    },
    {
     "name": "stdout",
     "output_type": "stream",
     "text": [
      "odometer\n"
     ]
    },
    {
     "data": {
      "image/png": "[encoded data removed]",
      "text/plain": [
       "<Figure size 432x288 with 1 Axes>"
      ]
     },
     "metadata": {
      "needs_background": "light"
     },
     "output_type": "display_data"
    }
   ],
   "source": [
    "data = df_cleaned[['price','odometer']]\n",
    "for i in data:\n",
    "    print(i)\n",
    "    plt.hist(df_std[i])\n",
    "    plt.title('After Standardization')\n",
    "    plt.show()"
   ]
  },
  {
   "cell_type": "code",
   "execution_count": null,
   "metadata": {
    "colab": {
     "base_uri": "https://localhost:8080/"
    },
    "executionInfo": {
     "elapsed": 335,
     "status": "ok",
     "timestamp": 1664293511191,
     "user": {
      "displayName": "Serena Gomez",
      "userId": "05959088368982916741"
     },
     "user_tz": -330
    },
    "id": "5KWCJd9AWj1t",
    "outputId": "079faa63-eea3-4ee6-c1de-5a98fe13810f"
   },
   "outputs": [
    {
     "name": "stdout",
     "output_type": "stream",
     "text": [
      "Mean:\n",
      "price       0.0\n",
      "odometer   -0.0\n",
      "lat         0.0\n",
      "long       -0.0\n",
      "dtype: float64\n",
      "--------------------------\n",
      "Median:\n",
      "price       0.0\n",
      "odometer   -0.3\n",
      "lat         0.1\n",
      "long       -0.3\n",
      "dtype: float64\n",
      "--------------------------\n",
      "Variance:\n",
      "price       1.0\n",
      "odometer    1.0\n",
      "lat         1.0\n",
      "long        1.0\n",
      "dtype: float64\n",
      "--------------------------\n"
     ]
    }
   ],
   "source": [
    "print('Mean:')\n",
    "print(df_std.mean().round(decimals=1))\n",
    "print('--------------------------')\n",
    "print('Median:')\n",
    "print(df_std.median().round(decimals=1))\n",
    "print('--------------------------')\n",
    "print('Variance:')\n",
    "print(df_std.var().round(decimals=1))\n",
    "print('--------------------------')"
   ]
  },
  {
   "cell_type": "markdown",
   "metadata": {
    "id": "wWteZ50hn-6m"
   },
   "source": [
    "## **Data Visualization**"
   ]
  },
  {
   "cell_type": "code",
   "execution_count": null,
   "metadata": {
    "colab": {
     "base_uri": "https://localhost:8080/",
     "height": 349
    },
    "executionInfo": {
     "elapsed": 1344,
     "status": "ok",
     "timestamp": 1664293704417,
     "user": {
      "displayName": "Serena Gomez",
      "userId": "05959088368982916741"
     },
     "user_tz": -330
    },
    "id": "shXy-lQzW4zm",
    "outputId": "359d6db8-e54e-4c54-aae0-8be5eaf398a3"
   },
   "outputs": [
    {
     "data": {
      "text/plain": [
       "<AxesSubplot:>"
      ]
     },
     "execution_count": 49,
     "metadata": {},
     "output_type": "execute_result"
    },
    {
     "data": {
      "image/png": "[encoded data removed]",
      "text/plain": [
       "<Figure size 432x288 with 1 Axes>"
      ]
     },
     "metadata": {
      "needs_background": "light"
     },
     "output_type": "display_data"
    }
   ],
   "source": [
    "df_cleaned['manufacturer'].value_counts().plot(kind='bar')"
   ]
  },
  {
   "cell_type": "code",
   "execution_count": null,
   "metadata": {
    "colab": {
     "base_uri": "https://localhost:8080/",
     "height": 329
    },
    "executionInfo": {
     "elapsed": 1021,
     "status": "ok",
     "timestamp": 1664293747546,
     "user": {
      "displayName": "Serena Gomez",
      "userId": "05959088368982916741"
     },
     "user_tz": -330
    },
    "id": "7LnjBGg8W-Jy",
    "outputId": "95ff7e61-cdb2-45f9-cb98-1ec4e8bf210a"
   },
   "outputs": [
    {
     "data": {
      "text/plain": [
       "<AxesSubplot:ylabel='type'>"
      ]
     },
     "execution_count": 50,
     "metadata": {},
     "output_type": "execute_result"
    },
    {
     "data": {
      "image/png": "[encoded data removed]",
      "text/plain": [
       "<Figure size 432x288 with 1 Axes>"
      ]
     },
     "metadata": {},
     "output_type": "display_data"
    }
   ],
   "source": [
    "df_cleaned['type'].value_counts().plot(kind='pie')"
   ]
  },
  {
   "cell_type": "code",
   "execution_count": null,
   "metadata": {
    "colab": {
     "base_uri": "https://localhost:8080/",
     "height": 342
    },
    "executionInfo": {
     "elapsed": 874,
     "status": "ok",
     "timestamp": 1664293819610,
     "user": {
      "displayName": "Serena Gomez",
      "userId": "05959088368982916741"
     },
     "user_tz": -330
    },
    "id": "1t6RPih6XAAY",
    "outputId": "42db0250-08f9-46ad-b090-17a156da4d07"
   },
   "outputs": [
    {
     "data": {
      "text/plain": [
       "<AxesSubplot:xlabel='type', ylabel='price'>"
      ]
     },
     "execution_count": 51,
     "metadata": {},
     "output_type": "execute_result"
    },
    {
     "data": {
      "image/png": "[encoded data removed]",
      "text/plain": [
       "<Figure size 432x288 with 1 Axes>"
      ]
     },
     "metadata": {
      "needs_background": "light"
     },
     "output_type": "display_data"
    }
   ],
   "source": [
    "plt.xticks(rotation=90)\n",
    "sns.boxplot(y='price', x='type', data=df_cleaned, showfliers=False)"
   ]
  },
  {
   "cell_type": "code",
   "execution_count": null,
   "metadata": {
    "colab": {
     "base_uri": "https://localhost:8080/",
     "height": 296
    },
    "executionInfo": {
     "elapsed": 2101,
     "status": "ok",
     "timestamp": 1664294010218,
     "user": {
      "displayName": "Serena Gomez",
      "userId": "05959088368982916741"
     },
     "user_tz": -330
    },
    "id": "PcRQHZ7-do6E",
    "outputId": "a852e0e0-611e-4a3a-e6d7-99e04d53cc64"
   },
   "outputs": [
    {
     "data": {
      "text/plain": [
       "<AxesSubplot:xlabel='year', ylabel='price'>"
      ]
     },
     "execution_count": 52,
     "metadata": {},
     "output_type": "execute_result"
    },
    {
     "data": {
      "image/png": "[encoded data removed]",
      "text/plain": [
       "<Figure size 432x288 with 1 Axes>"
      ]
     },
     "metadata": {
      "needs_background": "light"
     },
     "output_type": "display_data"
    }
   ],
   "source": [
    "sns.lineplot(x=\"year\", y=\"price\", data=df_cleaned)"
   ]
  },
  {
   "cell_type": "code",
   "execution_count": null,
   "metadata": {
    "colab": {
     "base_uri": "https://localhost:8080/",
     "height": 362
    },
    "executionInfo": {
     "elapsed": 988,
     "status": "ok",
     "timestamp": 1664293969883,
     "user": {
      "displayName": "Serena Gomez",
      "userId": "05959088368982916741"
     },
     "user_tz": -330
    },
    "id": "5SokzRJMpV_a",
    "outputId": "45873a29-6436-4356-82bc-8fa81e283c25"
   },
   "outputs": [
    {
     "name": "stderr",
     "output_type": "stream",
     "text": [
      "C:\\Users\\seren\\AppData\\Local\\Temp\\ipykernel_6892\\3574775012.py:1: UserWarning: \n",
      "\n",
      "`distplot` is a deprecated function and will be removed in seaborn v0.14.0.\n",
      "\n",
      "Please adapt your code to use either `displot` (a figure-level function with\n",
      "similar flexibility) or `histplot` (an axes-level function for histograms).\n",
      "\n",
      "For a guide to updating your code to use the new functions, please see\n",
      "https://gist.github.com/mwaskom/de44147ed2974457ad6372750bbe5751\n",
      "\n",
      "  sns.distplot(df_cleaned['odometer'])\n"
     ]
    },
    {
     "data": {
      "text/plain": [
       "<AxesSubplot:xlabel='odometer', ylabel='Density'>"
      ]
     },
     "execution_count": 53,
     "metadata": {},
     "output_type": "execute_result"
    },
    {
     "data": {
      "image/png": "[encoded data removed]",
      "text/plain": [
       "<Figure size 432x288 with 1 Axes>"
      ]
     },
     "metadata": {
      "needs_background": "light"
     },
     "output_type": "display_data"
    }
   ],
   "source": [
    "sns.distplot(df_cleaned['odometer'])"
   ]
  },
  {
   "cell_type": "code",
   "execution_count": null,
   "metadata": {
    "id": "M0YtCFAKppmR"
   },
   "outputs": [],
   "source": []
  }
 ],
 "metadata": {
  "colab": {
   "collapsed_sections": [],
   "provenance": []
  },
  "kernelspec": {
   "display_name": "Python 3 (ipykernel)",
   "language": "python",
   "name": "python3"
  },
  "language_info": {
   "codemirror_mode": {
    "name": "ipython",
    "version": 3
   },
   "file_extension": ".py",
   "mimetype": "text/x-python",
   "name": "python",
   "nbconvert_exporter": "python",
   "pygments_lexer": "ipython3",
   "version": "3.12.1"
  }
 },
 "nbformat": 4,
 "nbformat_minor": 4
}
